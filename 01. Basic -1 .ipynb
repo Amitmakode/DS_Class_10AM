{
 "cells": [
  {
   "cell_type": "code",
   "execution_count": null,
   "id": "c6a962b6-17d7-4604-8df6-e89094547a95",
   "metadata": {},
   "outputs": [],
   "source": [
    "print(\"hello python\")\n",
    "\n",
    "len(\"python\")"
   ]
  },
  {
   "cell_type": "code",
   "execution_count": null,
   "id": "a7c7b9f1-d36d-46b3-ba9b-814bb9f201f9",
   "metadata": {},
   "outputs": [],
   "source": [
    "datatypes \n",
    "logical function\n",
    "user function\n",
    "oops\n",
    "library "
   ]
  },
  {
   "cell_type": "code",
   "execution_count": null,
   "id": "b7ce7905-59e7-427e-a0cd-28b709cd15f9",
   "metadata": {},
   "outputs": [],
   "source": []
  },
  {
   "cell_type": "code",
   "execution_count": null,
   "id": "b8cfa49e-d1ad-497f-b777-3e604020e6c8",
   "metadata": {},
   "outputs": [],
   "source": [
    "## Data Types"
   ]
  },
  {
   "cell_type": "code",
   "execution_count": null,
   "id": "68983a34-1237-4422-9e1e-9427d79bd093",
   "metadata": {},
   "outputs": [],
   "source": [
    "int           = any whole number (0-9)\n",
    "float         = any decimal number (0.5, 1.99. 3.25)\n",
    "str           = any printed values/ syntax \"hello\", '3423', \"7#py\", \"    \"\n",
    "complex       = any number with combination of real and imagine number (2x+4y = 30),  45+5j\n",
    "Bool          = True / False\n",
    "List          = [\"py\", 56, 55.77, 33+77j, True,{\"jan\" :31, \"feb\" :28, \"march\":31}]\n",
    "tuple         = (\"py\", 56, 55.77, 33+77j, True)\n",
    "set           = {\"py\", 56, 55.77, 33+77j, True}\n",
    "dict          = {\"jan\" :31, \"feb\" :28, \"march\":31}   # key value pair"
   ]
  },
  {
   "cell_type": "markdown",
   "id": "2ea37ad3-cdd2-4c64-b797-2344fc276130",
   "metadata": {},
   "source": [
    "## Arithmatic Operators "
   ]
  },
  {
   "cell_type": "code",
   "execution_count": null,
   "id": "522c9750-c9f1-46bb-995e-088ecba7590c",
   "metadata": {},
   "outputs": [],
   "source": [
    "+ = add\n",
    "- = sub\n",
    "* = multi\n",
    "/ = devision\n",
    "% = mode\n",
    "** = power\n",
    "// = floor division"
   ]
  },
  {
   "cell_type": "code",
   "execution_count": 6,
   "id": "46da2be0-b632-481a-b684-b1e020870d61",
   "metadata": {},
   "outputs": [],
   "source": [
    "a = 25\n",
    "b = 10"
   ]
  },
  {
   "cell_type": "code",
   "execution_count": 11,
   "id": "bd4b60cd-af80-44a0-bace-793ade7dd39c",
   "metadata": {},
   "outputs": [
    {
     "data": {
      "text/plain": [
       "1"
      ]
     },
     "execution_count": 11,
     "metadata": {},
     "output_type": "execute_result"
    }
   ],
   "source": [
    "5%2"
   ]
  },
  {
   "cell_type": "code",
   "execution_count": 8,
   "id": "84163de8-c42f-4911-9ad5-79005bee3807",
   "metadata": {},
   "outputs": [
    {
     "data": {
      "text/plain": [
       "10"
      ]
     },
     "execution_count": 8,
     "metadata": {},
     "output_type": "execute_result"
    }
   ],
   "source": [
    "b"
   ]
  },
  {
   "cell_type": "code",
   "execution_count": 9,
   "id": "e4b0f4a4-9a11-4e5f-8810-008e55df9400",
   "metadata": {},
   "outputs": [
    {
     "data": {
      "text/plain": [
       "30"
      ]
     },
     "execution_count": 9,
     "metadata": {},
     "output_type": "execute_result"
    }
   ],
   "source": [
    "a+b"
   ]
  },
  {
   "cell_type": "code",
   "execution_count": 10,
   "id": "10e45558-a7e9-4aaa-936f-627541911955",
   "metadata": {},
   "outputs": [
    {
     "data": {
      "text/plain": [
       "10"
      ]
     },
     "execution_count": 10,
     "metadata": {},
     "output_type": "execute_result"
    }
   ],
   "source": [
    "a-b"
   ]
  },
  {
   "cell_type": "code",
   "execution_count": 11,
   "id": "2231ee6d-e718-4da0-84c7-56978eaffc8e",
   "metadata": {},
   "outputs": [
    {
     "data": {
      "text/plain": [
       "2.0"
      ]
     },
     "execution_count": 11,
     "metadata": {},
     "output_type": "execute_result"
    }
   ],
   "source": [
    "a/b"
   ]
  },
  {
   "cell_type": "code",
   "execution_count": 12,
   "id": "9c9a1b7e-2a5d-45fb-8964-52b134e58789",
   "metadata": {},
   "outputs": [
    {
     "data": {
      "text/plain": [
       "200"
      ]
     },
     "execution_count": 12,
     "metadata": {},
     "output_type": "execute_result"
    }
   ],
   "source": [
    "a*b"
   ]
  },
  {
   "cell_type": "code",
   "execution_count": 13,
   "id": "e68c3b1a-0f88-4941-a775-777cc54e7058",
   "metadata": {},
   "outputs": [
    {
     "data": {
      "text/plain": [
       "0"
      ]
     },
     "execution_count": 13,
     "metadata": {},
     "output_type": "execute_result"
    }
   ],
   "source": [
    "a%b"
   ]
  },
  {
   "cell_type": "code",
   "execution_count": 14,
   "id": "81320be6-2995-4022-a1b4-91ca9f8a1dd0",
   "metadata": {},
   "outputs": [
    {
     "data": {
      "text/plain": [
       "10"
      ]
     },
     "execution_count": 14,
     "metadata": {},
     "output_type": "execute_result"
    }
   ],
   "source": [
    "b%a"
   ]
  },
  {
   "cell_type": "code",
   "execution_count": 16,
   "id": "65dad1c5-b2b0-4e4e-9797-a9444a2fceeb",
   "metadata": {},
   "outputs": [
    {
     "data": {
      "text/plain": [
       "1"
      ]
     },
     "execution_count": 16,
     "metadata": {},
     "output_type": "execute_result"
    }
   ],
   "source": [
    "11%2"
   ]
  },
  {
   "cell_type": "code",
   "execution_count": 17,
   "id": "d97707aa-bb6d-4d06-9237-d0bf95e6a422",
   "metadata": {},
   "outputs": [
    {
     "data": {
      "text/plain": [
       "-7975.0"
      ]
     },
     "execution_count": 17,
     "metadata": {},
     "output_type": "execute_result"
    }
   ],
   "source": [
    "a+b/(a/b) - a**3"
   ]
  },
  {
   "cell_type": "code",
   "execution_count": 18,
   "id": "121433ac-b79f-44f8-9a88-a85ad34cfed3",
   "metadata": {},
   "outputs": [
    {
     "data": {
      "text/plain": [
       "8000"
      ]
     },
     "execution_count": 18,
     "metadata": {},
     "output_type": "execute_result"
    }
   ],
   "source": [
    "a**3"
   ]
  },
  {
   "cell_type": "code",
   "execution_count": 19,
   "id": "88b3d33b-9f41-4684-b058-d76757440dbb",
   "metadata": {},
   "outputs": [
    {
     "data": {
      "text/plain": [
       "16"
      ]
     },
     "execution_count": 19,
     "metadata": {},
     "output_type": "execute_result"
    }
   ],
   "source": [
    "4**2"
   ]
  },
  {
   "cell_type": "code",
   "execution_count": 20,
   "id": "557e83b0-34ab-4a96-9480-5bcf16072d39",
   "metadata": {},
   "outputs": [
    {
     "data": {
      "text/plain": [
       "64"
      ]
     },
     "execution_count": 20,
     "metadata": {},
     "output_type": "execute_result"
    }
   ],
   "source": [
    "4**3"
   ]
  },
  {
   "cell_type": "code",
   "execution_count": 21,
   "id": "c1f6f4b4-38e1-4b7e-86f4-9317494bacdd",
   "metadata": {},
   "outputs": [
    {
     "data": {
      "text/plain": [
       "256"
      ]
     },
     "execution_count": 21,
     "metadata": {},
     "output_type": "execute_result"
    }
   ],
   "source": [
    "4**4"
   ]
  },
  {
   "cell_type": "code",
   "execution_count": 22,
   "id": "60d85825-1850-49ef-89f7-45a705df4858",
   "metadata": {},
   "outputs": [],
   "source": [
    "x = 100\n",
    "y = 20"
   ]
  },
  {
   "cell_type": "code",
   "execution_count": 23,
   "id": "aeddfa55-766d-49e4-aad6-3f2ced5b0120",
   "metadata": {},
   "outputs": [
    {
     "data": {
      "text/plain": [
       "2000"
      ]
     },
     "execution_count": 23,
     "metadata": {},
     "output_type": "execute_result"
    }
   ],
   "source": [
    "x*y"
   ]
  },
  {
   "cell_type": "code",
   "execution_count": 24,
   "id": "02defb44-308a-4a0e-883b-df65729119fb",
   "metadata": {},
   "outputs": [
    {
     "data": {
      "text/plain": [
       "5.0"
      ]
     },
     "execution_count": 24,
     "metadata": {},
     "output_type": "execute_result"
    }
   ],
   "source": [
    "x/y"
   ]
  },
  {
   "cell_type": "code",
   "execution_count": 25,
   "id": "446b11e4-5612-416f-b9d7-eba440d377bd",
   "metadata": {},
   "outputs": [
    {
     "data": {
      "text/plain": [
       "80"
      ]
     },
     "execution_count": 25,
     "metadata": {},
     "output_type": "execute_result"
    }
   ],
   "source": [
    "x-y"
   ]
  },
  {
   "cell_type": "code",
   "execution_count": 26,
   "id": "c319189d-2ec6-42b3-8cf7-3a2c6c8762ce",
   "metadata": {},
   "outputs": [
    {
     "data": {
      "text/plain": [
       "1"
      ]
     },
     "execution_count": 26,
     "metadata": {},
     "output_type": "execute_result"
    }
   ],
   "source": [
    "55%3"
   ]
  },
  {
   "cell_type": "code",
   "execution_count": 27,
   "id": "488da548-7930-4cd0-88ae-66116818858d",
   "metadata": {},
   "outputs": [
    {
     "data": {
      "text/plain": [
       "0"
      ]
     },
     "execution_count": 27,
     "metadata": {},
     "output_type": "execute_result"
    }
   ],
   "source": [
    "x%y"
   ]
  },
  {
   "cell_type": "code",
   "execution_count": 28,
   "id": "67ca2e33-66d2-4b6d-855c-95de53018055",
   "metadata": {},
   "outputs": [
    {
     "data": {
      "text/plain": [
       "2"
      ]
     },
     "execution_count": 28,
     "metadata": {},
     "output_type": "execute_result"
    }
   ],
   "source": [
    "100%7"
   ]
  },
  {
   "cell_type": "markdown",
   "id": "13ace824-82a9-420e-befc-e0c33114a8e6",
   "metadata": {},
   "source": [
    "## Comparision Operators"
   ]
  },
  {
   "cell_type": "code",
   "execution_count": null,
   "id": "6e418156-75fe-4b44-a96e-d7861b863031",
   "metadata": {},
   "outputs": [],
   "source": [
    "==\n",
    ">\n",
    "<\n",
    ">=\n",
    "<=\n",
    "!="
   ]
  },
  {
   "cell_type": "code",
   "execution_count": 29,
   "id": "91a19a96-bc23-4304-9be0-c0d753eca75d",
   "metadata": {},
   "outputs": [
    {
     "data": {
      "text/plain": [
       "20"
      ]
     },
     "execution_count": 29,
     "metadata": {},
     "output_type": "execute_result"
    }
   ],
   "source": [
    "a"
   ]
  },
  {
   "cell_type": "code",
   "execution_count": 30,
   "id": "b11974a2-a808-4926-9a35-2a7c124654c2",
   "metadata": {},
   "outputs": [
    {
     "data": {
      "text/plain": [
       "10"
      ]
     },
     "execution_count": 30,
     "metadata": {},
     "output_type": "execute_result"
    }
   ],
   "source": [
    "b"
   ]
  },
  {
   "cell_type": "code",
   "execution_count": 31,
   "id": "60bca217-3382-4896-a29f-ad3df28636fa",
   "metadata": {},
   "outputs": [
    {
     "data": {
      "text/plain": [
       "100"
      ]
     },
     "execution_count": 31,
     "metadata": {},
     "output_type": "execute_result"
    }
   ],
   "source": [
    "x"
   ]
  },
  {
   "cell_type": "code",
   "execution_count": 32,
   "id": "90fd1567-3d0b-4aae-81dd-4cc24234cc25",
   "metadata": {},
   "outputs": [
    {
     "data": {
      "text/plain": [
       "20"
      ]
     },
     "execution_count": 32,
     "metadata": {},
     "output_type": "execute_result"
    }
   ],
   "source": [
    "y"
   ]
  },
  {
   "cell_type": "code",
   "execution_count": 33,
   "id": "447c46ff-a3d7-4526-8d35-7238a5d23f39",
   "metadata": {},
   "outputs": [
    {
     "data": {
      "text/plain": [
       "False"
      ]
     },
     "execution_count": 33,
     "metadata": {},
     "output_type": "execute_result"
    }
   ],
   "source": [
    "a==b"
   ]
  },
  {
   "cell_type": "code",
   "execution_count": 34,
   "id": "81f2bc24-3bd8-4d47-9c6e-8324f678ff8a",
   "metadata": {},
   "outputs": [
    {
     "data": {
      "text/plain": [
       "True"
      ]
     },
     "execution_count": 34,
     "metadata": {},
     "output_type": "execute_result"
    }
   ],
   "source": [
    "x > a"
   ]
  },
  {
   "cell_type": "code",
   "execution_count": 35,
   "id": "a910ec3f-7f82-4dc9-8737-417053482539",
   "metadata": {},
   "outputs": [
    {
     "data": {
      "text/plain": [
       "False"
      ]
     },
     "execution_count": 35,
     "metadata": {},
     "output_type": "execute_result"
    }
   ],
   "source": [
    "y > a"
   ]
  },
  {
   "cell_type": "code",
   "execution_count": 36,
   "id": "f8626be5-1a77-4b6e-86e0-96786a856dc4",
   "metadata": {},
   "outputs": [
    {
     "data": {
      "text/plain": [
       "True"
      ]
     },
     "execution_count": 36,
     "metadata": {},
     "output_type": "execute_result"
    }
   ],
   "source": [
    "y == a"
   ]
  },
  {
   "cell_type": "code",
   "execution_count": 37,
   "id": "81011ee4-bba4-44f2-9edd-69ffebd0ddf0",
   "metadata": {},
   "outputs": [
    {
     "data": {
      "text/plain": [
       "True"
      ]
     },
     "execution_count": 37,
     "metadata": {},
     "output_type": "execute_result"
    }
   ],
   "source": [
    "b < y"
   ]
  },
  {
   "cell_type": "code",
   "execution_count": 38,
   "id": "68f8061d-16ab-48c4-b5e9-c060dc1c10ce",
   "metadata": {},
   "outputs": [
    {
     "data": {
      "text/plain": [
       "False"
      ]
     },
     "execution_count": 38,
     "metadata": {},
     "output_type": "execute_result"
    }
   ],
   "source": [
    "100 != 100"
   ]
  },
  {
   "cell_type": "markdown",
   "id": "248d703d-bba4-463f-aeb0-f344cf828e4d",
   "metadata": {},
   "source": [
    "## Logical Operators"
   ]
  },
  {
   "cell_type": "code",
   "execution_count": null,
   "id": "02911355-c2fe-4b62-84bf-d59e6198039b",
   "metadata": {},
   "outputs": [],
   "source": [
    "and\n",
    "or\n",
    "in\n",
    "not in\n",
    "is \n",
    "is not"
   ]
  },
  {
   "cell_type": "code",
   "execution_count": null,
   "id": "0541e74d-08de-487f-9dd1-edaae1f7b8a0",
   "metadata": {},
   "outputs": [],
   "source": [
    "True and False = F\n",
    "True and True  = T\n",
    "False and True = F\n",
    "False and False = F"
   ]
  },
  {
   "cell_type": "code",
   "execution_count": null,
   "id": "deda1076-c560-47e6-b2eb-ddbdb35d64b2",
   "metadata": {},
   "outputs": [],
   "source": [
    "True or True  = T\n",
    "True or False = T\n",
    "False or True = T\n",
    "False or False = F"
   ]
  },
  {
   "cell_type": "code",
   "execution_count": 12,
   "id": "028d8385-0f3d-48c7-be38-af052d640522",
   "metadata": {},
   "outputs": [],
   "source": [
    "lis = [1,2,3,4,5,6,]"
   ]
  },
  {
   "cell_type": "code",
   "execution_count": 13,
   "id": "1ccc91b9-6578-4fa1-b9e8-9195d923fd35",
   "metadata": {},
   "outputs": [
    {
     "data": {
      "text/plain": [
       "[1, 2, 3, 4, 5, 6]"
      ]
     },
     "execution_count": 13,
     "metadata": {},
     "output_type": "execute_result"
    }
   ],
   "source": [
    "lis"
   ]
  },
  {
   "cell_type": "code",
   "execution_count": 15,
   "id": "40f19488-974d-4349-8c33-d540bb99bb5d",
   "metadata": {},
   "outputs": [
    {
     "data": {
      "text/plain": [
       "False"
      ]
     },
     "execution_count": 15,
     "metadata": {},
     "output_type": "execute_result"
    }
   ],
   "source": [
    "20 in lis"
   ]
  },
  {
   "cell_type": "code",
   "execution_count": 42,
   "id": "77ba753e-05f7-48ff-9498-8973d8616af8",
   "metadata": {},
   "outputs": [
    {
     "data": {
      "text/plain": [
       "False"
      ]
     },
     "execution_count": 42,
     "metadata": {},
     "output_type": "execute_result"
    }
   ],
   "source": [
    "21 in lis"
   ]
  },
  {
   "cell_type": "code",
   "execution_count": 43,
   "id": "ce25a366-51e8-485c-9248-7d510e3d8c6f",
   "metadata": {},
   "outputs": [
    {
     "data": {
      "text/plain": [
       "20"
      ]
     },
     "execution_count": 43,
     "metadata": {},
     "output_type": "execute_result"
    }
   ],
   "source": [
    "a"
   ]
  },
  {
   "cell_type": "code",
   "execution_count": 44,
   "id": "907fff6f-beb8-4852-889b-8e11152cd1d3",
   "metadata": {},
   "outputs": [
    {
     "name": "stderr",
     "output_type": "stream",
     "text": [
      "<>:1: SyntaxWarning: \"is\" with a literal. Did you mean \"==\"?\n",
      "<>:1: SyntaxWarning: \"is\" with a literal. Did you mean \"==\"?\n",
      "C:\\Users\\amitm\\AppData\\Local\\Temp\\ipykernel_18176\\1837879855.py:1: SyntaxWarning: \"is\" with a literal. Did you mean \"==\"?\n",
      "  20 is a\n"
     ]
    },
    {
     "data": {
      "text/plain": [
       "True"
      ]
     },
     "execution_count": 44,
     "metadata": {},
     "output_type": "execute_result"
    }
   ],
   "source": [
    "20 is a"
   ]
  },
  {
   "cell_type": "code",
   "execution_count": 45,
   "id": "211631a0-3bb7-4d16-9bd4-a88d96bc660c",
   "metadata": {},
   "outputs": [
    {
     "name": "stderr",
     "output_type": "stream",
     "text": [
      "<>:1: SyntaxWarning: \"is not\" with a literal. Did you mean \"!=\"?\n",
      "<>:1: SyntaxWarning: \"is not\" with a literal. Did you mean \"!=\"?\n",
      "C:\\Users\\amitm\\AppData\\Local\\Temp\\ipykernel_18176\\3620244120.py:1: SyntaxWarning: \"is not\" with a literal. Did you mean \"!=\"?\n",
      "  x is not 100\n"
     ]
    },
    {
     "data": {
      "text/plain": [
       "False"
      ]
     },
     "execution_count": 45,
     "metadata": {},
     "output_type": "execute_result"
    }
   ],
   "source": [
    "x is not 100"
   ]
  },
  {
   "cell_type": "code",
   "execution_count": 46,
   "id": "549b8535-106b-4a13-a9cf-6b63cd671771",
   "metadata": {},
   "outputs": [],
   "source": [
    "var = \"I am a mentor\""
   ]
  },
  {
   "cell_type": "code",
   "execution_count": 47,
   "id": "dba2b72e-c0a0-45f6-b261-072b84126de7",
   "metadata": {},
   "outputs": [
    {
     "name": "stdout",
     "output_type": "stream",
     "text": [
      "I am a mentor\n"
     ]
    }
   ],
   "source": [
    "print(var)"
   ]
  },
  {
   "cell_type": "code",
   "execution_count": 48,
   "id": "820cb026-e1a0-4073-b948-76ac177566a8",
   "metadata": {},
   "outputs": [
    {
     "name": "stdout",
     "output_type": "stream",
     "text": [
      "100 20 200\n"
     ]
    }
   ],
   "source": [
    "print(x, y, a*b)"
   ]
  },
  {
   "cell_type": "code",
   "execution_count": 49,
   "id": "52660a0f-2ccf-4898-b403-2bee0dc7ce72",
   "metadata": {},
   "outputs": [
    {
     "name": "stdin",
     "output_type": "stream",
     "text": [
      "tell your name  amit\n"
     ]
    },
    {
     "name": "stdout",
     "output_type": "stream",
     "text": [
      "amit\n"
     ]
    }
   ],
   "source": [
    "print(input(\"tell your name \"))"
   ]
  },
  {
   "cell_type": "code",
   "execution_count": 50,
   "id": "1760d849-a15e-42b4-abbd-e1a869a23da3",
   "metadata": {},
   "outputs": [
    {
     "data": {
      "text/plain": [
       "'I am a mentor'"
      ]
     },
     "execution_count": 50,
     "metadata": {},
     "output_type": "execute_result"
    }
   ],
   "source": [
    "var"
   ]
  },
  {
   "cell_type": "code",
   "execution_count": 51,
   "id": "0466ad68-8be0-4279-960f-c135c392fffa",
   "metadata": {},
   "outputs": [
    {
     "data": {
      "text/plain": [
       "13"
      ]
     },
     "execution_count": 51,
     "metadata": {},
     "output_type": "execute_result"
    }
   ],
   "source": [
    "len(var)"
   ]
  },
  {
   "cell_type": "code",
   "execution_count": 52,
   "id": "5b647ba9-17bb-4f98-9f09-d89842a75165",
   "metadata": {},
   "outputs": [
    {
     "data": {
      "text/plain": [
       "str"
      ]
     },
     "execution_count": 52,
     "metadata": {},
     "output_type": "execute_result"
    }
   ],
   "source": [
    "type(var)"
   ]
  },
  {
   "cell_type": "code",
   "execution_count": 53,
   "id": "625ef5f1-9c67-4941-b233-f8c8263069cd",
   "metadata": {},
   "outputs": [
    {
     "data": {
      "text/plain": [
       "int"
      ]
     },
     "execution_count": 53,
     "metadata": {},
     "output_type": "execute_result"
    }
   ],
   "source": [
    "type(x)"
   ]
  },
  {
   "cell_type": "code",
   "execution_count": 54,
   "id": "1290d903-4a45-441f-88e9-656bd168f6df",
   "metadata": {},
   "outputs": [
    {
     "data": {
      "text/plain": [
       "11"
      ]
     },
     "execution_count": 54,
     "metadata": {},
     "output_type": "execute_result"
    }
   ],
   "source": [
    "22//2"
   ]
  },
  {
   "cell_type": "code",
   "execution_count": 55,
   "id": "a38dd819-281b-47ce-89d0-2ffd9a61c6b0",
   "metadata": {},
   "outputs": [
    {
     "data": {
      "text/plain": [
       "10.0"
      ]
     },
     "execution_count": 55,
     "metadata": {},
     "output_type": "execute_result"
    }
   ],
   "source": [
    "20/2"
   ]
  },
  {
   "cell_type": "markdown",
   "id": "71727184-4666-42b3-926e-bf3fe549b054",
   "metadata": {},
   "source": [
    "### Bitwise operators"
   ]
  },
  {
   "cell_type": "code",
   "execution_count": null,
   "id": "717e66f4-f929-4bce-9ce3-264a117855cd",
   "metadata": {},
   "outputs": [],
   "source": [
    "+=\n",
    "-=\n",
    "*=\n",
    "/=\n",
    "%=\n",
    "//=\n",
    "**="
   ]
  }
 ],
 "metadata": {
  "kernelspec": {
   "display_name": "Python 3 (ipykernel)",
   "language": "python",
   "name": "python3"
  },
  "language_info": {
   "codemirror_mode": {
    "name": "ipython",
    "version": 3
   },
   "file_extension": ".py",
   "mimetype": "text/x-python",
   "name": "python",
   "nbconvert_exporter": "python",
   "pygments_lexer": "ipython3",
   "version": "3.11.7"
  }
 },
 "nbformat": 4,
 "nbformat_minor": 5
}
