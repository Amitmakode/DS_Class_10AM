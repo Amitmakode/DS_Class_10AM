{
 "cells": [
  {
   "cell_type": "markdown",
   "id": "ec11fd98-f0bf-498b-9429-9f57a65dcbc3",
   "metadata": {},
   "source": [
    "## Loop"
   ]
  },
  {
   "cell_type": "code",
   "execution_count": null,
   "id": "3e5f1309-d521-4458-98da-c70df0a83566",
   "metadata": {},
   "outputs": [],
   "source": [
    "iterable  = str, set, tuple, list, dict\n",
    "iterator  = for, while, iter\n",
    "iteration "
   ]
  },
  {
   "cell_type": "code",
   "execution_count": 1,
   "id": "a41149ab-05c9-4cf6-b35f-9e8efc19f19f",
   "metadata": {},
   "outputs": [],
   "source": [
    "var = \"data\""
   ]
  },
  {
   "cell_type": "code",
   "execution_count": 2,
   "id": "258ea617-b329-4ee3-b20c-72201f5c32f3",
   "metadata": {},
   "outputs": [
    {
     "name": "stdout",
     "output_type": "stream",
     "text": [
      "d\n",
      "a\n",
      "t\n",
      "a\n"
     ]
    }
   ],
   "source": [
    "for i in var:\n",
    "    print(i)"
   ]
  },
  {
   "cell_type": "code",
   "execution_count": 3,
   "id": "b7f6232f-9af7-4d8f-8c54-1e0dc36b43da",
   "metadata": {},
   "outputs": [
    {
     "ename": "TypeError",
     "evalue": "'int' object is not iterable",
     "output_type": "error",
     "traceback": [
      "\u001b[1;31m---------------------------------------------------------------------------\u001b[0m",
      "\u001b[1;31mTypeError\u001b[0m                                 Traceback (most recent call last)",
      "Cell \u001b[1;32mIn[3], line 2\u001b[0m\n\u001b[0;32m      1\u001b[0m x \u001b[38;5;241m=\u001b[39m \u001b[38;5;241m78676567\u001b[39m\n\u001b[1;32m----> 2\u001b[0m \u001b[38;5;28;01mfor\u001b[39;00m i \u001b[38;5;129;01min\u001b[39;00m x:\n\u001b[0;32m      3\u001b[0m     \u001b[38;5;28mprint\u001b[39m(i)\n",
      "\u001b[1;31mTypeError\u001b[0m: 'int' object is not iterable"
     ]
    }
   ],
   "source": [
    "x = 78676567\n",
    "for i in x:\n",
    "    print(i)"
   ]
  },
  {
   "cell_type": "code",
   "execution_count": 4,
   "id": "7d2a332d-2ddb-46af-a75e-a0722f211edb",
   "metadata": {},
   "outputs": [
    {
     "name": "stdout",
     "output_type": "stream",
     "text": [
      "7\n",
      "8\n",
      "6\n",
      "7\n",
      "6\n",
      "5\n",
      "6\n",
      "7\n"
     ]
    }
   ],
   "source": [
    "x = \"78676567\"\n",
    "for i in x:\n",
    "    print(i)"
   ]
  },
  {
   "cell_type": "code",
   "execution_count": 7,
   "id": "fae76705-a242-4ab4-947b-fa208bcb34ca",
   "metadata": {},
   "outputs": [
    {
     "name": "stdout",
     "output_type": "stream",
     "text": [
      "7-8-6-7-6-5-6-7-"
     ]
    }
   ],
   "source": [
    "x = \"78676567\"\n",
    "for i in x:\n",
    "    print(i, end = \"-\")"
   ]
  },
  {
   "cell_type": "code",
   "execution_count": 8,
   "id": "d3875468-0f8d-431a-be34-af5320275557",
   "metadata": {},
   "outputs": [
    {
     "name": "stdout",
     "output_type": "stream",
     "text": [
      "a\n",
      "a\n",
      "a\n",
      "a\n",
      "a\n",
      "a\n",
      "a\n",
      "a\n",
      "a\n",
      "a\n"
     ]
    }
   ],
   "source": [
    "for i in range(10):\n",
    "    print(\"a\")"
   ]
  },
  {
   "cell_type": "code",
   "execution_count": 9,
   "id": "e9e7e7e2-8258-46bd-8b03-c03de1a258a5",
   "metadata": {},
   "outputs": [
    {
     "name": "stdout",
     "output_type": "stream",
     "text": [
      "0 - 0\n",
      "1 - 1\n",
      "2 - 4\n",
      "3 - 9\n",
      "4 - 16\n",
      "5 - 25\n",
      "6 - 36\n",
      "7 - 49\n",
      "8 - 64\n",
      "9 - 81\n"
     ]
    }
   ],
   "source": [
    "for i in range(10):\n",
    "    print(i, \"-\", i**2)"
   ]
  },
  {
   "cell_type": "code",
   "execution_count": 10,
   "id": "fae76145-20be-422b-bd3c-72645f0c6ecb",
   "metadata": {},
   "outputs": [],
   "source": [
    "list = [\"apple\", \"banana\",\"pienaaple\", \"orange\"]"
   ]
  },
  {
   "cell_type": "code",
   "execution_count": 12,
   "id": "d3f26c25-378f-44ac-ac36-5c37886b5339",
   "metadata": {},
   "outputs": [
    {
     "name": "stdout",
     "output_type": "stream",
     "text": [
      "1 apple\n",
      "2 banana\n",
      "3 pienaaple\n",
      "4 orange\n"
     ]
    }
   ],
   "source": [
    "for i, j in enumerate(list):\n",
    "    print(i+1, j)"
   ]
  },
  {
   "cell_type": "code",
   "execution_count": 13,
   "id": "e5d99759-1e46-43e4-9add-fb0e86eeaa2e",
   "metadata": {},
   "outputs": [
    {
     "name": "stdout",
     "output_type": "stream",
     "text": [
      "apple\n",
      "banana\n",
      "pienaaple\n",
      "orange\n",
      "if for loop is going to complete itself the it will execute else \n"
     ]
    }
   ],
   "source": [
    "for i in list :\n",
    "    print(i)\n",
    "else :\n",
    "    print(\"if for loop is going to complete itself the it will execute else \")"
   ]
  },
  {
   "cell_type": "code",
   "execution_count": 14,
   "id": "9789b3a9-a213-44a6-be79-e2cbafca47e2",
   "metadata": {},
   "outputs": [
    {
     "name": "stdout",
     "output_type": "stream",
     "text": [
      "2\n",
      "3\n",
      "4\n",
      "1\n",
      "2\n",
      "3\n",
      "4\n"
     ]
    }
   ],
   "source": [
    "l = [2,3,4,1,2,3,4]\n",
    "\n",
    "for i in l :\n",
    "    if i == 4 :\n",
    "        pass\n",
    "    print(i)"
   ]
  },
  {
   "cell_type": "code",
   "execution_count": 15,
   "id": "7a03de29-9d67-4a02-af26-d8cf2b490129",
   "metadata": {},
   "outputs": [
    {
     "name": "stdout",
     "output_type": "stream",
     "text": [
      "2\n",
      "3\n"
     ]
    }
   ],
   "source": [
    "for i in l :\n",
    "    if i == 4 :\n",
    "        break\n",
    "    print(i)"
   ]
  },
  {
   "cell_type": "code",
   "execution_count": 16,
   "id": "422b9e1d-e8b6-4c3b-89f7-b3ff23d3891b",
   "metadata": {},
   "outputs": [
    {
     "name": "stdout",
     "output_type": "stream",
     "text": [
      "2\n",
      "3\n",
      "1\n",
      "2\n",
      "3\n"
     ]
    }
   ],
   "source": [
    "for i in l :\n",
    "    if i == 4 :\n",
    "        continue\n",
    "    print(i)"
   ]
  },
  {
   "cell_type": "code",
   "execution_count": 22,
   "id": "a84a85f1-d5c6-4466-b959-e205eb71386c",
   "metadata": {},
   "outputs": [
    {
     "name": "stdout",
     "output_type": "stream",
     "text": [
      "DA \n",
      "\n",
      "DA DA \n",
      "\n",
      "DA DA DA \n",
      "\n",
      "DA DA DA DA \n",
      "\n"
     ]
    }
   ],
   "source": [
    "n = 4\n",
    "\n",
    "for i in range(n) :\n",
    "    for j in range(0, i+1) : \n",
    "        print(\"DA\", end = \" \")\n",
    "    print(\"\\n\")"
   ]
  },
  {
   "cell_type": "code",
   "execution_count": null,
   "id": "eb3fa950-dfdb-4074-bfa1-f84ac43e5681",
   "metadata": {},
   "outputs": [],
   "source": []
  }
 ],
 "metadata": {
  "kernelspec": {
   "display_name": "Python 3 (ipykernel)",
   "language": "python",
   "name": "python3"
  },
  "language_info": {
   "codemirror_mode": {
    "name": "ipython",
    "version": 3
   },
   "file_extension": ".py",
   "mimetype": "text/x-python",
   "name": "python",
   "nbconvert_exporter": "python",
   "pygments_lexer": "ipython3",
   "version": "3.11.7"
  }
 },
 "nbformat": 4,
 "nbformat_minor": 5
}
