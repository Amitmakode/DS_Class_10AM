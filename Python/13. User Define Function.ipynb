{
 "cells": [
  {
   "cell_type": "markdown",
   "id": "50630853-1539-4dcd-b943-8266bebe894d",
   "metadata": {},
   "source": [
    "### User Define Function"
   ]
  },
  {
   "cell_type": "code",
   "execution_count": null,
   "id": "a3ca1df7-c8dc-4228-b6fa-e52ce554af06",
   "metadata": {},
   "outputs": [],
   "source": [
    "positional argument =  fix type argument\n",
    "non keyword argument = *args\n",
    "key word argument    = **kwargs"
   ]
  },
  {
   "cell_type": "code",
   "execution_count": 1,
   "id": "1d4af84f-3c82-457c-9943-e11b115739e4",
   "metadata": {},
   "outputs": [
    {
     "data": {
      "text/plain": [
       "2"
      ]
     },
     "execution_count": 1,
     "metadata": {},
     "output_type": "execute_result"
    }
   ],
   "source": [
    "len(\"pt\")"
   ]
  },
  {
   "cell_type": "code",
   "execution_count": 2,
   "id": "9b3798da-dc2a-49a1-a890-a2fcf153f91e",
   "metadata": {},
   "outputs": [
    {
     "ename": "TypeError",
     "evalue": "len() takes exactly one argument (0 given)",
     "output_type": "error",
     "traceback": [
      "\u001b[1;31m---------------------------------------------------------------------------\u001b[0m",
      "\u001b[1;31mTypeError\u001b[0m                                 Traceback (most recent call last)",
      "Cell \u001b[1;32mIn[2], line 1\u001b[0m\n\u001b[1;32m----> 1\u001b[0m \u001b[38;5;28mlen\u001b[39m()\n",
      "\u001b[1;31mTypeError\u001b[0m: len() takes exactly one argument (0 given)"
     ]
    }
   ],
   "source": [
    "len()"
   ]
  },
  {
   "cell_type": "code",
   "execution_count": 4,
   "id": "86d7ac09-e98d-4ad2-90be-d742e505a6b0",
   "metadata": {},
   "outputs": [
    {
     "ename": "TypeError",
     "evalue": "type() takes 1 or 3 arguments",
     "output_type": "error",
     "traceback": [
      "\u001b[1;31m---------------------------------------------------------------------------\u001b[0m",
      "\u001b[1;31mTypeError\u001b[0m                                 Traceback (most recent call last)",
      "Cell \u001b[1;32mIn[4], line 1\u001b[0m\n\u001b[1;32m----> 1\u001b[0m \u001b[38;5;28mtype\u001b[39m(\u001b[38;5;241m3\u001b[39m, \u001b[38;5;124m\"\u001b[39m\u001b[38;5;124mH\u001b[39m\u001b[38;5;124m\"\u001b[39m)\n",
      "\u001b[1;31mTypeError\u001b[0m: type() takes 1 or 3 arguments"
     ]
    }
   ],
   "source": [
    "type(3, \"H\")"
   ]
  },
  {
   "cell_type": "code",
   "execution_count": 7,
   "id": "ac83b4c7-6191-4083-8d9a-d9d860009ac7",
   "metadata": {},
   "outputs": [
    {
     "name": "stdout",
     "output_type": "stream",
     "text": [
      "345 dg\n"
     ]
    }
   ],
   "source": [
    "print(345, \"dg\")"
   ]
  },
  {
   "cell_type": "code",
   "execution_count": 8,
   "id": "445d00aa-3281-4f0d-83fb-3783ab1c36b8",
   "metadata": {},
   "outputs": [],
   "source": [
    "def fun1():\n",
    "    return 56"
   ]
  },
  {
   "cell_type": "code",
   "execution_count": 9,
   "id": "1d5395ed-35e1-458c-ad77-35ea2d3b741e",
   "metadata": {},
   "outputs": [
    {
     "data": {
      "text/plain": [
       "56"
      ]
     },
     "execution_count": 9,
     "metadata": {},
     "output_type": "execute_result"
    }
   ],
   "source": [
    "fun1()"
   ]
  },
  {
   "cell_type": "code",
   "execution_count": 10,
   "id": "6af0ebdd-4eda-4bc2-a63a-7bdfd357a38d",
   "metadata": {},
   "outputs": [
    {
     "ename": "TypeError",
     "evalue": "fun1() takes 0 positional arguments but 1 was given",
     "output_type": "error",
     "traceback": [
      "\u001b[1;31m---------------------------------------------------------------------------\u001b[0m",
      "\u001b[1;31mTypeError\u001b[0m                                 Traceback (most recent call last)",
      "Cell \u001b[1;32mIn[10], line 1\u001b[0m\n\u001b[1;32m----> 1\u001b[0m fun1(\u001b[38;5;241m45\u001b[39m)\n",
      "\u001b[1;31mTypeError\u001b[0m: fun1() takes 0 positional arguments but 1 was given"
     ]
    }
   ],
   "source": [
    "fun1(45)"
   ]
  },
  {
   "cell_type": "code",
   "execution_count": null,
   "id": "72987ecf-944f-404a-9a27-9419f704f079",
   "metadata": {},
   "outputs": [],
   "source": [
    "Parameter \n",
    "argument "
   ]
  },
  {
   "cell_type": "code",
   "execution_count": 11,
   "id": "55ec90d9-10a6-4598-9597-9413fcba07b8",
   "metadata": {},
   "outputs": [],
   "source": [
    "def fun2(a):\n",
    "    return a**4"
   ]
  },
  {
   "cell_type": "code",
   "execution_count": 12,
   "id": "a06cadef-79c1-42cb-8a3e-eb41797c5255",
   "metadata": {},
   "outputs": [
    {
     "data": {
      "text/plain": [
       "625"
      ]
     },
     "execution_count": 12,
     "metadata": {},
     "output_type": "execute_result"
    }
   ],
   "source": [
    "fun2(5)"
   ]
  },
  {
   "cell_type": "code",
   "execution_count": 13,
   "id": "8a045e89-c5f0-4b8a-a1bc-dba48665748d",
   "metadata": {},
   "outputs": [
    {
     "ename": "TypeError",
     "evalue": "fun2() missing 1 required positional argument: 'a'",
     "output_type": "error",
     "traceback": [
      "\u001b[1;31m---------------------------------------------------------------------------\u001b[0m",
      "\u001b[1;31mTypeError\u001b[0m                                 Traceback (most recent call last)",
      "Cell \u001b[1;32mIn[13], line 1\u001b[0m\n\u001b[1;32m----> 1\u001b[0m fun2()\n",
      "\u001b[1;31mTypeError\u001b[0m: fun2() missing 1 required positional argument: 'a'"
     ]
    }
   ],
   "source": [
    "fun2()"
   ]
  },
  {
   "cell_type": "code",
   "execution_count": 14,
   "id": "f6ba6d04-cf83-46c7-baed-90886280a1f4",
   "metadata": {},
   "outputs": [],
   "source": [
    "def fun3(*a):\n",
    "    return a"
   ]
  },
  {
   "cell_type": "code",
   "execution_count": 15,
   "id": "04ab8dbe-f0df-4e5a-a3e1-b9fdb22981b2",
   "metadata": {},
   "outputs": [
    {
     "data": {
      "text/plain": [
       "()"
      ]
     },
     "execution_count": 15,
     "metadata": {},
     "output_type": "execute_result"
    }
   ],
   "source": [
    "fun3()"
   ]
  },
  {
   "cell_type": "code",
   "execution_count": 16,
   "id": "bf1732f4-f7ea-4ad4-ad6a-0ba50bb7091b",
   "metadata": {},
   "outputs": [
    {
     "data": {
      "text/plain": [
       "(4,)"
      ]
     },
     "execution_count": 16,
     "metadata": {},
     "output_type": "execute_result"
    }
   ],
   "source": [
    "fun3(4)"
   ]
  },
  {
   "cell_type": "code",
   "execution_count": 17,
   "id": "ef6d15a5-b593-41ad-9530-6abe68c28bbd",
   "metadata": {},
   "outputs": [
    {
     "data": {
      "text/plain": [
       "(4, 7, 'abc')"
      ]
     },
     "execution_count": 17,
     "metadata": {},
     "output_type": "execute_result"
    }
   ],
   "source": [
    "fun3(4, 7, \"abc\")"
   ]
  },
  {
   "cell_type": "code",
   "execution_count": 18,
   "id": "db9d3da0-fbd5-4110-b296-be21f4466da7",
   "metadata": {},
   "outputs": [],
   "source": [
    "def fun4(**a):\n",
    "    return a"
   ]
  },
  {
   "cell_type": "code",
   "execution_count": 20,
   "id": "72cdc688-044c-4a27-9ee3-7f1e9ad4543f",
   "metadata": {},
   "outputs": [
    {
     "ename": "TypeError",
     "evalue": "fun4() takes 0 positional arguments but 1 was given",
     "output_type": "error",
     "traceback": [
      "\u001b[1;31m---------------------------------------------------------------------------\u001b[0m",
      "\u001b[1;31mTypeError\u001b[0m                                 Traceback (most recent call last)",
      "Cell \u001b[1;32mIn[20], line 1\u001b[0m\n\u001b[1;32m----> 1\u001b[0m fun4(\u001b[38;5;241m8\u001b[39m)\n",
      "\u001b[1;31mTypeError\u001b[0m: fun4() takes 0 positional arguments but 1 was given"
     ]
    }
   ],
   "source": [
    "fun4(8)"
   ]
  },
  {
   "cell_type": "code",
   "execution_count": 21,
   "id": "942dcba9-a34a-4757-8add-8e5f2bfd5e9e",
   "metadata": {},
   "outputs": [
    {
     "data": {
      "text/plain": [
       "{'x': 5}"
      ]
     },
     "execution_count": 21,
     "metadata": {},
     "output_type": "execute_result"
    }
   ],
   "source": [
    "fun4(x = 5)"
   ]
  },
  {
   "cell_type": "code",
   "execution_count": null,
   "id": "52ce6d22-ccb8-418e-b88e-676f5147a96a",
   "metadata": {},
   "outputs": [],
   "source": [
    "print()"
   ]
  },
  {
   "cell_type": "code",
   "execution_count": 22,
   "id": "3be19f6f-2729-4278-aae3-fe2cc284262e",
   "metadata": {},
   "outputs": [
    {
     "data": {
      "text/plain": [
       "{'x': 4, 'y': 7, 'z': 8}"
      ]
     },
     "execution_count": 22,
     "metadata": {},
     "output_type": "execute_result"
    }
   ],
   "source": [
    "fun4(x = 4, y = 7, z= 8)"
   ]
  },
  {
   "cell_type": "code",
   "execution_count": 23,
   "id": "8cb778f8-43c7-4d38-974f-2aa08524a854",
   "metadata": {},
   "outputs": [
    {
     "ename": "SyntaxError",
     "evalue": "arguments cannot follow var-keyword argument (1817717417.py, line 1)",
     "output_type": "error",
     "traceback": [
      "\u001b[1;36m  Cell \u001b[1;32mIn[23], line 1\u001b[1;36m\u001b[0m\n\u001b[1;33m    def fun5(**a, *b, c):\u001b[0m\n\u001b[1;37m                  ^\u001b[0m\n\u001b[1;31mSyntaxError\u001b[0m\u001b[1;31m:\u001b[0m arguments cannot follow var-keyword argument\n"
     ]
    }
   ],
   "source": [
    "def fun5(**a, *b, c):\n",
    "    return a, b,c "
   ]
  },
  {
   "cell_type": "code",
   "execution_count": 24,
   "id": "b4b3ab89-42c5-4eaa-9531-56a79f1f2213",
   "metadata": {},
   "outputs": [],
   "source": [
    "def fun5(a, *b, **c):\n",
    "    return a,b,c"
   ]
  },
  {
   "cell_type": "code",
   "execution_count": 25,
   "id": "6655d510-d275-4431-9e29-909d4e7c69d2",
   "metadata": {},
   "outputs": [],
   "source": [
    "def area(a, b):\n",
    "    return a*b"
   ]
  },
  {
   "cell_type": "code",
   "execution_count": 26,
   "id": "f4e5d975-a5b9-4340-ac3d-782939911cc3",
   "metadata": {},
   "outputs": [
    {
     "data": {
      "text/plain": [
       "42"
      ]
     },
     "execution_count": 26,
     "metadata": {},
     "output_type": "execute_result"
    }
   ],
   "source": [
    "area(6, 7)"
   ]
  },
  {
   "cell_type": "code",
   "execution_count": 27,
   "id": "0fb4607f-098e-4326-bda3-36703ce7eecf",
   "metadata": {},
   "outputs": [],
   "source": [
    "def area(a, b):\n",
    "    print(a*b) "
   ]
  },
  {
   "cell_type": "code",
   "execution_count": 28,
   "id": "1b679483-dc2c-4224-a66b-7df55507004b",
   "metadata": {},
   "outputs": [
    {
     "name": "stdout",
     "output_type": "stream",
     "text": [
      "20\n"
     ]
    }
   ],
   "source": [
    "area(4,5)"
   ]
  },
  {
   "cell_type": "code",
   "execution_count": 9,
   "id": "e179235e-31be-4f69-ad51-a41753756ef1",
   "metadata": {},
   "outputs": [],
   "source": [
    "def generate_full_name ():\n",
    "    first_name = 'Asabeneh'\n",
    "    last_name = 'Yetayeh'\n",
    "    space = ' '\n",
    "    full_name = first_name + space + last_name\n",
    "    print(full_name)"
   ]
  },
  {
   "cell_type": "code",
   "execution_count": 11,
   "id": "3fe253fd-b9c9-424d-b373-6d42b57fbfae",
   "metadata": {},
   "outputs": [
    {
     "name": "stdout",
     "output_type": "stream",
     "text": [
      "Asabeneh Yetayeh\n"
     ]
    }
   ],
   "source": [
    "generate_full_name()"
   ]
  },
  {
   "cell_type": "code",
   "execution_count": 39,
   "id": "3055caa0-7846-4aaa-8a15-cef90b2e331a",
   "metadata": {},
   "outputs": [],
   "source": [
    "def full_name(first, last):\n",
    "    return f\"{first} {last}\""
   ]
  },
  {
   "cell_type": "code",
   "execution_count": 40,
   "id": "7e774323-149c-4795-88a7-d501d84aefc0",
   "metadata": {},
   "outputs": [
    {
     "data": {
      "text/plain": [
       "'amit kumar'"
      ]
     },
     "execution_count": 40,
     "metadata": {},
     "output_type": "execute_result"
    }
   ],
   "source": [
    "full_name(\"amit\", \"kumar\")"
   ]
  },
  {
   "cell_type": "code",
   "execution_count": 41,
   "id": "9581b4cb-7506-43af-99bf-a52111279a31",
   "metadata": {},
   "outputs": [],
   "source": [
    "def full_name(first, last):\n",
    "    \"\"\"hello this is a function for name printing\"\"\"\n",
    "    return f\"{first} {last}\""
   ]
  },
  {
   "cell_type": "code",
   "execution_count": null,
   "id": "f3def954-2d4e-459e-800c-1fa694cba27f",
   "metadata": {},
   "outputs": [],
   "source": [
    "full_name"
   ]
  },
  {
   "cell_type": "code",
   "execution_count": 43,
   "id": "550f3faa-a112-4aae-80a3-6bd0127221e5",
   "metadata": {},
   "outputs": [],
   "source": [
    "def sum_of_numbers(n):\n",
    "    total = 0\n",
    "    for i in range(n+1):\n",
    "        total+=i\n",
    "    print(total)"
   ]
  },
  {
   "cell_type": "code",
   "execution_count": 45,
   "id": "efcdd3d0-12a9-42c5-83a1-3b36257414aa",
   "metadata": {},
   "outputs": [
    {
     "name": "stdout",
     "output_type": "stream",
     "text": [
      "1830\n"
     ]
    }
   ],
   "source": [
    "sum_of_numbers(60)"
   ]
  },
  {
   "cell_type": "code",
   "execution_count": 46,
   "id": "a18c5512-c787-42d9-812a-0136c20ac925",
   "metadata": {},
   "outputs": [],
   "source": [
    "def calculate_area(radius):\n",
    "    \"\"\"Calculate the area of a circle with the given radius.\"\"\"\n",
    "    import math\n",
    "    area = math.pi * (radius ** 2)\n",
    "    return area"
   ]
  },
  {
   "cell_type": "code",
   "execution_count": null,
   "id": "f4ddaa53-ca18-451a-a35c-f2d50a01d7a0",
   "metadata": {},
   "outputs": [],
   "source": [
    "calculate_area()"
   ]
  },
  {
   "cell_type": "code",
   "execution_count": 48,
   "id": "cef2e0ca-3e51-4a34-9b7c-fbb2d70e9330",
   "metadata": {},
   "outputs": [
    {
     "name": "stdout",
     "output_type": "stream",
     "text": [
      "Python is awesome\n"
     ]
    }
   ],
   "source": [
    "x = \"awesome\"\n",
    "\n",
    "def myfunc():\n",
    "  print(\"Python is \" + x)\n",
    "\n",
    "myfunc()"
   ]
  },
  {
   "cell_type": "code",
   "execution_count": 49,
   "id": "2dbae12f-7ce8-4b38-b811-171eaced349f",
   "metadata": {},
   "outputs": [
    {
     "data": {
      "text/plain": [
       "'awesome'"
      ]
     },
     "execution_count": 49,
     "metadata": {},
     "output_type": "execute_result"
    }
   ],
   "source": [
    "x"
   ]
  },
  {
   "cell_type": "code",
   "execution_count": 50,
   "id": "d0f8b6b5-65f3-43fc-871a-4409c0f1d4c2",
   "metadata": {},
   "outputs": [
    {
     "name": "stdout",
     "output_type": "stream",
     "text": [
      "Python is fantastic\n",
      "Python is awesome\n"
     ]
    }
   ],
   "source": [
    "x = \"awesome\"\n",
    "\n",
    "def myfunc():\n",
    "  x = \"fantastic\"\n",
    "  print(\"Python is \" + x)\n",
    "\n",
    "myfunc()\n",
    "\n",
    "print(\"Python is \" + x)"
   ]
  },
  {
   "cell_type": "code",
   "execution_count": 51,
   "id": "de15d668-1ffe-4644-9cde-9018e9d4853a",
   "metadata": {},
   "outputs": [
    {
     "data": {
      "text/plain": [
       "'awesome'"
      ]
     },
     "execution_count": 51,
     "metadata": {},
     "output_type": "execute_result"
    }
   ],
   "source": [
    "x"
   ]
  },
  {
   "cell_type": "code",
   "execution_count": 52,
   "id": "c4e151b5-c7dc-49d7-9b54-a7016deb41b6",
   "metadata": {},
   "outputs": [],
   "source": [
    "a = 10\n",
    "a = 15"
   ]
  },
  {
   "cell_type": "code",
   "execution_count": 53,
   "id": "b6b1f623-1c6d-4897-b740-59f89f448b3d",
   "metadata": {},
   "outputs": [
    {
     "data": {
      "text/plain": [
       "15"
      ]
     },
     "execution_count": 53,
     "metadata": {},
     "output_type": "execute_result"
    }
   ],
   "source": [
    "a"
   ]
  },
  {
   "cell_type": "code",
   "execution_count": 54,
   "id": "93372f71-620d-4773-a858-1257935adcad",
   "metadata": {},
   "outputs": [
    {
     "name": "stdout",
     "output_type": "stream",
     "text": [
      "Python is fantastic\n"
     ]
    }
   ],
   "source": [
    "myfunc()"
   ]
  },
  {
   "cell_type": "code",
   "execution_count": 58,
   "id": "c5490d0f-af3f-4ec1-875e-1a1f56c3ff85",
   "metadata": {},
   "outputs": [
    {
     "name": "stdout",
     "output_type": "stream",
     "text": [
      "Python is fantastic\n"
     ]
    }
   ],
   "source": [
    "def myfunc1():\n",
    "  global z\n",
    "  z = \"fantastic\"\n",
    "\n",
    "myfunc1()\n",
    "\n",
    "print(\"Python is \" + z)"
   ]
  },
  {
   "cell_type": "code",
   "execution_count": 59,
   "id": "9f043c9e-2c64-4608-a919-13245086f5f1",
   "metadata": {},
   "outputs": [
    {
     "data": {
      "text/plain": [
       "'fantastic'"
      ]
     },
     "execution_count": 59,
     "metadata": {},
     "output_type": "execute_result"
    }
   ],
   "source": [
    "z"
   ]
  },
  {
   "cell_type": "code",
   "execution_count": 60,
   "id": "f034ce87-877a-4ca0-a4ea-de1045863ff1",
   "metadata": {},
   "outputs": [
    {
     "name": "stdin",
     "output_type": "stream",
     "text": [
      "Enter the mark  67\n"
     ]
    },
    {
     "name": "stdout",
     "output_type": "stream",
     "text": [
      "You passed in first class\n"
     ]
    }
   ],
   "source": [
    "mark = int(input(\"Enter the mark \"))\n",
    "\n",
    "if mark < 0 or mark > 100: \n",
    "    print(\"Invalid marks are entered!\")\n",
    "elif mark >= 0 and mark < 35 :\n",
    "    print(\"Sorry you failed!\")\n",
    "elif mark >= 36 and mark <= 60:\n",
    "    print(\"You passed in second class\")\n",
    "elif mark >= 61 and mark <= 80 :\n",
    "    print(\"You passed in first class\")\n",
    "else :\n",
    "    print(\"You got distinction!\")"
   ]
  },
  {
   "cell_type": "code",
   "execution_count": 63,
   "id": "be74ea64-aec0-413d-be0a-de470928c397",
   "metadata": {},
   "outputs": [],
   "source": [
    "def grade(mark):\n",
    "    \"\"\"grade evaluate function\"\"\"\n",
    "    if mark < 0 or mark > 100: \n",
    "        print(\"Invalid marks are entered!\")\n",
    "    elif mark >= 0 and mark < 35 :\n",
    "        print(\"Sorry you failed!\")\n",
    "    elif mark >= 36 and mark <= 60:\n",
    "        print(\"You passed in second class\")\n",
    "    elif mark >= 61 and mark <= 80 :\n",
    "        print(\"You passed in first class\")\n",
    "    else :\n",
    "        print(\"You got distinction!\")"
   ]
  },
  {
   "cell_type": "code",
   "execution_count": 64,
   "id": "53c59102-1bd3-4914-9d04-05653dc91346",
   "metadata": {},
   "outputs": [
    {
     "name": "stdout",
     "output_type": "stream",
     "text": [
      "You passed in first class\n"
     ]
    }
   ],
   "source": [
    "grade(67)"
   ]
  },
  {
   "cell_type": "code",
   "execution_count": 72,
   "id": "a709e7d7-d2fa-4f27-9ae7-f3eb63fc116c",
   "metadata": {},
   "outputs": [],
   "source": [
    "var = \"data science\""
   ]
  },
  {
   "cell_type": "code",
   "execution_count": 75,
   "id": "a6bb12de-a279-41a7-b976-5042cea90ee2",
   "metadata": {},
   "outputs": [],
   "source": [
    "for i in var:\n",
    "    l.append(i)"
   ]
  },
  {
   "cell_type": "code",
   "execution_count": 76,
   "id": "36e895db-3510-46ae-b4ce-da3ade1c1e85",
   "metadata": {},
   "outputs": [
    {
     "data": {
      "text/plain": [
       "['e', 'd', 'a', 't', 'a', ' ', 's', 'c', 'i', 'e', 'n', 'c', 'e']"
      ]
     },
     "execution_count": 76,
     "metadata": {},
     "output_type": "execute_result"
    }
   ],
   "source": [
    "l"
   ]
  },
  {
   "cell_type": "code",
   "execution_count": 77,
   "id": "db19c735-644b-404b-a4b8-fa34ef4be336",
   "metadata": {},
   "outputs": [],
   "source": [
    "l1 = []\n",
    "for i in var:\n",
    "    l1.append(i)"
   ]
  },
  {
   "cell_type": "code",
   "execution_count": 78,
   "id": "5770c3b9-d367-4d97-ab06-7ed160e2e4da",
   "metadata": {},
   "outputs": [
    {
     "data": {
      "text/plain": [
       "['d', 'a', 't', 'a', ' ', 's', 'c', 'i', 'e', 'n', 'c', 'e']"
      ]
     },
     "execution_count": 78,
     "metadata": {},
     "output_type": "execute_result"
    }
   ],
   "source": [
    "l1"
   ]
  },
  {
   "cell_type": "code",
   "execution_count": null,
   "id": "73db0ff5-69d6-4404-9cbf-33fb24653e05",
   "metadata": {},
   "outputs": [],
   "source": [
    "l2 = "
   ]
  },
  {
   "cell_type": "code",
   "execution_count": 79,
   "id": "2d157e32-bc66-47a2-9b02-67ceace03a2a",
   "metadata": {},
   "outputs": [
    {
     "data": {
      "text/plain": [
       "['d', 'a', 't', 'a', ' ', 's', 'c', 'i', 'e', 'n', 'c', 'e']"
      ]
     },
     "execution_count": 79,
     "metadata": {},
     "output_type": "execute_result"
    }
   ],
   "source": [
    "[i for i in var]"
   ]
  },
  {
   "cell_type": "code",
   "execution_count": 82,
   "id": "f1fabaa1-0c05-4166-a787-d8b497d1866d",
   "metadata": {},
   "outputs": [],
   "source": [
    "a = (i for i in var)"
   ]
  },
  {
   "cell_type": "code",
   "execution_count": 83,
   "id": "645d4b45-fed6-4882-843d-2bb832099d9e",
   "metadata": {},
   "outputs": [
    {
     "data": {
      "text/plain": [
       "['d', 'a', 't', 'a', ' ', 's', 'c', 'i', 'e', 'n', 'c', 'e']"
      ]
     },
     "execution_count": 83,
     "metadata": {},
     "output_type": "execute_result"
    }
   ],
   "source": [
    "list(a)"
   ]
  },
  {
   "cell_type": "code",
   "execution_count": 84,
   "id": "01c6d24d-fada-4d67-b6a5-b93838890ef8",
   "metadata": {},
   "outputs": [
    {
     "data": {
      "text/plain": [
       "{' ', 'a', 'c', 'd', 'e', 'i', 'n', 's', 't'}"
      ]
     },
     "execution_count": 84,
     "metadata": {},
     "output_type": "execute_result"
    }
   ],
   "source": [
    "{i for i in var}"
   ]
  },
  {
   "cell_type": "code",
   "execution_count": 85,
   "id": "69c58f0a-0659-412e-ad40-518798b22f7d",
   "metadata": {},
   "outputs": [
    {
     "data": {
      "text/plain": [
       "[0, 1, 4, 9]"
      ]
     },
     "execution_count": 85,
     "metadata": {},
     "output_type": "execute_result"
    }
   ],
   "source": [
    "[i**2 for i in range(4)]"
   ]
  },
  {
   "cell_type": "code",
   "execution_count": 86,
   "id": "b4882d7e-bce5-402e-9960-ffd8091b8e7a",
   "metadata": {},
   "outputs": [
    {
     "data": {
      "text/plain": [
       "[0, 2, 4, 6, 8, 10]"
      ]
     },
     "execution_count": 86,
     "metadata": {},
     "output_type": "execute_result"
    }
   ],
   "source": [
    "[i for i in range(11) if i % 2 == 0]"
   ]
  },
  {
   "cell_type": "code",
   "execution_count": 91,
   "id": "d59e00fd-beb5-423c-aef6-72e9e1568197",
   "metadata": {},
   "outputs": [
    {
     "data": {
      "text/plain": [
       "[{0, int}, {2, int}, {4, int}, {6, int}, {8, int}, {10, int}]"
      ]
     },
     "execution_count": 91,
     "metadata": {},
     "output_type": "execute_result"
    }
   ],
   "source": [
    "[{type(i), i} for i in range(11) if i % 2 == 0 ]"
   ]
  },
  {
   "cell_type": "code",
   "execution_count": 92,
   "id": "84dfe3d1-d57d-48b7-bdf4-ec94344c362c",
   "metadata": {},
   "outputs": [
    {
     "data": {
      "text/plain": [
       "['Even number',\n",
       " 'Odd number',\n",
       " 'Even number',\n",
       " 'Odd number',\n",
       " 'Even number',\n",
       " 'Odd number',\n",
       " 'Even number',\n",
       " 'Odd number']"
      ]
     },
     "execution_count": 92,
     "metadata": {},
     "output_type": "execute_result"
    }
   ],
   "source": [
    "[\"Even number\" if i % 2 == 0 else \"Odd number\" for i in range(8)]"
   ]
  },
  {
   "cell_type": "markdown",
   "id": "8808cc0d-cd6d-4125-a24b-de2c0af5f2cd",
   "metadata": {},
   "source": [
    "## lambda Functions"
   ]
  },
  {
   "cell_type": "code",
   "execution_count": 94,
   "id": "90cd5a53-36a6-4b63-8ecf-656baf7ecf10",
   "metadata": {},
   "outputs": [],
   "source": [
    "v1 =lambda a , b : a + b "
   ]
  },
  {
   "cell_type": "code",
   "execution_count": 95,
   "id": "37b5ea1f-45a9-45fe-8654-0029e72f002b",
   "metadata": {},
   "outputs": [
    {
     "data": {
      "text/plain": [
       "12"
      ]
     },
     "execution_count": 95,
     "metadata": {},
     "output_type": "execute_result"
    }
   ],
   "source": [
    "v1(4,8)"
   ]
  },
  {
   "cell_type": "code",
   "execution_count": 96,
   "id": "01a6bc41-3bc3-4345-9201-d6590b8b1d1b",
   "metadata": {},
   "outputs": [],
   "source": [
    "v2 = lambda a , b : a + b "
   ]
  },
  {
   "cell_type": "code",
   "execution_count": 97,
   "id": "72bf70ca-f59e-4e08-9528-ee90d8350d54",
   "metadata": {},
   "outputs": [
    {
     "data": {
      "text/plain": [
       "111"
      ]
     },
     "execution_count": 97,
     "metadata": {},
     "output_type": "execute_result"
    }
   ],
   "source": [
    "v2(12, 99)"
   ]
  },
  {
   "cell_type": "code",
   "execution_count": 98,
   "id": "d744e502-f7cb-47f9-9717-a070b7e6c60b",
   "metadata": {},
   "outputs": [],
   "source": [
    "str1 = 'python is a data science language'\n",
    "\n",
    "upper = lambda string_var: string_var.upper()"
   ]
  },
  {
   "cell_type": "code",
   "execution_count": 99,
   "id": "b83f962d-f7a0-4e83-9649-7843729b6604",
   "metadata": {},
   "outputs": [
    {
     "data": {
      "text/plain": [
       "'PYTHON IS A DATA SCIENCE LANGUAGE'"
      ]
     },
     "execution_count": 99,
     "metadata": {},
     "output_type": "execute_result"
    }
   ],
   "source": [
    "upper(str1)"
   ]
  },
  {
   "cell_type": "code",
   "execution_count": 101,
   "id": "7e26d5e0-70a0-44b2-933f-63102fc97b65",
   "metadata": {},
   "outputs": [],
   "source": [
    "is_even_list = [lambda arg=x: arg * 10 for x in range(1, 5)]"
   ]
  },
  {
   "cell_type": "code",
   "execution_count": 102,
   "id": "d58e9ab0-8d38-4519-bed0-e7621492c9b1",
   "metadata": {},
   "outputs": [
    {
     "data": {
      "text/plain": [
       "[<function __main__.<listcomp>.<lambda>(arg=1)>,\n",
       " <function __main__.<listcomp>.<lambda>(arg=2)>,\n",
       " <function __main__.<listcomp>.<lambda>(arg=3)>,\n",
       " <function __main__.<listcomp>.<lambda>(arg=4)>]"
      ]
     },
     "execution_count": 102,
     "metadata": {},
     "output_type": "execute_result"
    }
   ],
   "source": [
    "is_even_list"
   ]
  },
  {
   "cell_type": "code",
   "execution_count": 103,
   "id": "aeaea880-fd18-4981-a2ba-9e08dc0f1ece",
   "metadata": {},
   "outputs": [
    {
     "name": "stdout",
     "output_type": "stream",
     "text": [
      "10\n",
      "20\n",
      "30\n",
      "40\n"
     ]
    }
   ],
   "source": [
    "for item in is_even_list:\n",
    "    print(item())"
   ]
  },
  {
   "cell_type": "code",
   "execution_count": 104,
   "id": "89f978ba-2c6e-449d-a1e5-a3bd655a85dc",
   "metadata": {},
   "outputs": [
    {
     "data": {
      "text/plain": [
       "<function __main__.<listcomp>.<lambda>(arg=1)>"
      ]
     },
     "execution_count": 104,
     "metadata": {},
     "output_type": "execute_result"
    }
   ],
   "source": [
    "is_even_list[0]"
   ]
  },
  {
   "cell_type": "code",
   "execution_count": 14,
   "id": "a918eba6-8d82-43e9-9758-7f3ef36783bb",
   "metadata": {},
   "outputs": [],
   "source": [
    "def say_hi():\n",
    "    print(\"hi euron\")"
   ]
  },
  {
   "cell_type": "code",
   "execution_count": 15,
   "id": "e97e1623-6106-4fa2-bbc2-7f411272bd75",
   "metadata": {},
   "outputs": [
    {
     "name": "stdout",
     "output_type": "stream",
     "text": [
      "hi euron\n"
     ]
    }
   ],
   "source": [
    "say_hi()"
   ]
  },
  {
   "cell_type": "code",
   "execution_count": 16,
   "id": "1e199ab1-3be0-4e67-a9f2-40b48dfb6c16",
   "metadata": {},
   "outputs": [],
   "source": [
    "def decorator_func(func):\n",
    "    def wrapper():\n",
    "        print(\"you will be printed before function\")\n",
    "        func()\n",
    "        print(\"you will be printed after function call \")\n",
    "    return wrapper"
   ]
  },
  {
   "cell_type": "code",
   "execution_count": 19,
   "id": "648fcd28-5469-4d4a-ba25-3cc21ce42ed3",
   "metadata": {},
   "outputs": [
    {
     "name": "stdout",
     "output_type": "stream",
     "text": [
      "hi euron\n"
     ]
    },
    {
     "data": {
      "text/plain": [
       "<function __main__.decorator_func.<locals>.wrapper()>"
      ]
     },
     "execution_count": 19,
     "metadata": {},
     "output_type": "execute_result"
    }
   ],
   "source": [
    "decorator_func(say_hi())"
   ]
  },
  {
   "cell_type": "code",
   "execution_count": 20,
   "id": "14ce233c-1963-4089-8997-f7ecacb78878",
   "metadata": {},
   "outputs": [],
   "source": [
    "@decorator_func\n",
    "def say_hi():\n",
    "    print(\"hi euron\")"
   ]
  },
  {
   "cell_type": "code",
   "execution_count": 21,
   "id": "bff6cd26-e9d1-4542-a31f-6fd039cc7566",
   "metadata": {},
   "outputs": [
    {
     "name": "stdout",
     "output_type": "stream",
     "text": [
      "you will be printed before function\n",
      "hi euron\n",
      "you will be printed after function call \n"
     ]
    }
   ],
   "source": [
    "say_hi()"
   ]
  },
  {
   "cell_type": "code",
   "execution_count": 24,
   "id": "1b7689ed-f69c-40b2-868f-82a888acffce",
   "metadata": {},
   "outputs": [],
   "source": [
    "@decorator_func\n",
    "def add(x):\n",
    "    return x+x"
   ]
  },
  {
   "cell_type": "code",
   "execution_count": 26,
   "id": "9bd39c87-3f44-4be7-b961-003561c35ea0",
   "metadata": {},
   "outputs": [
    {
     "ename": "TypeError",
     "evalue": "decorator_func.<locals>.wrapper() takes 0 positional arguments but 1 was given",
     "output_type": "error",
     "traceback": [
      "\u001b[1;31m---------------------------------------------------------------------------\u001b[0m",
      "\u001b[1;31mTypeError\u001b[0m                                 Traceback (most recent call last)",
      "Cell \u001b[1;32mIn[26], line 1\u001b[0m\n\u001b[1;32m----> 1\u001b[0m add(\u001b[38;5;241m2\u001b[39m)\n",
      "\u001b[1;31mTypeError\u001b[0m: decorator_func.<locals>.wrapper() takes 0 positional arguments but 1 was given"
     ]
    }
   ],
   "source": [
    "add(2)"
   ]
  },
  {
   "cell_type": "code",
   "execution_count": 27,
   "id": "b251786b-e018-4f0f-8faf-5544572eeb7d",
   "metadata": {},
   "outputs": [],
   "source": [
    "import time\n",
    "\n",
    "def timer(func):\n",
    "    def wrapper(*args , **kwargs):\n",
    "        start = time.time()\n",
    "        result = func(*args,**kwargs)\n",
    "        print(\"time taken by this function is \",time.time() - start)\n",
    "        return  result\n",
    "    return wrapper"
   ]
  },
  {
   "cell_type": "code",
   "execution_count": 28,
   "id": "b2f3283d-21e3-42c0-b628-bf6dd7a92539",
   "metadata": {},
   "outputs": [],
   "source": [
    "@timer\n",
    "def listparser(l):\n",
    "    time.sleep(1)\n",
    "    print(l)\n",
    "    for i in l :\n",
    "        print(i)"
   ]
  },
  {
   "cell_type": "code",
   "execution_count": 29,
   "id": "4ede5a7d-52f4-4fa9-99c4-388d2b0db9ee",
   "metadata": {},
   "outputs": [
    {
     "name": "stdout",
     "output_type": "stream",
     "text": [
      "[4, 5, 56, 6, 7, 8]\n",
      "4\n",
      "5\n",
      "56\n",
      "6\n",
      "7\n",
      "8\n",
      "time taken by this function is  1.0050089359283447\n"
     ]
    }
   ],
   "source": [
    "listparser([4,5,56,6,7,8])"
   ]
  },
  {
   "cell_type": "code",
   "execution_count": 30,
   "id": "67bef3eb-5d63-4e30-9866-6113c292dac8",
   "metadata": {},
   "outputs": [],
   "source": [
    "str1= \"Write a program to create a new string \""
   ]
  },
  {
   "cell_type": "code",
   "execution_count": 31,
   "id": "431c1187-6cd9-48ed-a39c-9c783a743f98",
   "metadata": {},
   "outputs": [
    {
     "data": {
      "text/plain": [
       "'Wieapormt raeanwsrn '"
      ]
     },
     "execution_count": 31,
     "metadata": {},
     "output_type": "execute_result"
    }
   ],
   "source": [
    "str1[::2]"
   ]
  },
  {
   "cell_type": "code",
   "execution_count": null,
   "id": "f301258e-eb55-4b38-8c2f-175a63e9d868",
   "metadata": {},
   "outputs": [],
   "source": []
  }
 ],
 "metadata": {
  "kernelspec": {
   "display_name": "Python 3 (ipykernel)",
   "language": "python",
   "name": "python3"
  },
  "language_info": {
   "codemirror_mode": {
    "name": "ipython",
    "version": 3
   },
   "file_extension": ".py",
   "mimetype": "text/x-python",
   "name": "python",
   "nbconvert_exporter": "python",
   "pygments_lexer": "ipython3",
   "version": "3.11.7"
  }
 },
 "nbformat": 4,
 "nbformat_minor": 5
}
