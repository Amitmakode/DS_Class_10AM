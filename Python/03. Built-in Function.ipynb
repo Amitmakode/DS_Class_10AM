{
 "cells": [
  {
   "cell_type": "code",
   "execution_count": 1,
   "id": "9755f3b8-aa0f-49de-bbca-7ed9bfc5905b",
   "metadata": {},
   "outputs": [],
   "source": [
    "a = -10"
   ]
  },
  {
   "cell_type": "code",
   "execution_count": 2,
   "id": "bc496977-2bb8-4bcd-b96f-172ca4ec0ebc",
   "metadata": {},
   "outputs": [
    {
     "data": {
      "text/plain": [
       "-10"
      ]
     },
     "execution_count": 2,
     "metadata": {},
     "output_type": "execute_result"
    }
   ],
   "source": [
    "a"
   ]
  },
  {
   "cell_type": "code",
   "execution_count": 3,
   "id": "c3daa092-41b9-4b91-b6df-111e260ec775",
   "metadata": {},
   "outputs": [
    {
     "name": "stdout",
     "output_type": "stream",
     "text": [
      "10\n"
     ]
    }
   ],
   "source": [
    "# abs()\n",
    "#Description: Returns the absolute value of a number.\n",
    "\n",
    "num = -10\n",
    "\n",
    "abs_num = abs(num)\n",
    "print(abs_num)  # Output: 10"
   ]
  },
  {
   "cell_type": "code",
   "execution_count": 7,
   "id": "da29e8a0-f3af-4bb3-b939-31940bb7065f",
   "metadata": {},
   "outputs": [
    {
     "name": "stdout",
     "output_type": "stream",
     "text": [
      "True\n"
     ]
    }
   ],
   "source": [
    "# all()\n",
    "#Description: Returns True if all elements of an iterable are true (or if the iterable is empty).\n",
    "\n",
    "list1 = [True, True, 30]\n",
    "\n",
    "result = all(list1)\n",
    "\n",
    "print(result)  # Output: False"
   ]
  },
  {
   "cell_type": "code",
   "execution_count": 10,
   "id": "6492e32c-4dee-4fca-83e7-8d68c56211a7",
   "metadata": {},
   "outputs": [
    {
     "name": "stdout",
     "output_type": "stream",
     "text": [
      "True\n"
     ]
    }
   ],
   "source": [
    "# any()\n",
    "#Description: Returns True if any element of an iterable is true. If the iterable is empty, it returns False.\n",
    "\n",
    "list1 = [False, False, True]\n",
    "result = any(list1)\n",
    "print(result)  # Output: True"
   ]
  },
  {
   "cell_type": "code",
   "execution_count": 11,
   "id": "1e7868aa-5b66-4129-920d-9b6fe3c373f6",
   "metadata": {},
   "outputs": [
    {
     "name": "stdout",
     "output_type": "stream",
     "text": [
      "'\\xe4\\xf6\\xfc'\n"
     ]
    }
   ],
   "source": [
    "# ascii()\n",
    "\n",
    "#Description: Returns a string containing a printable representation of an object. Non-ASCII characters are escaped using \\x, \\u or \\U notation.\n",
    "\n",
    "s = \"äöü\"\n",
    "ascii_s = ascii(s)\n",
    "print(ascii_s)  # Output: '\\xe4\\xf6\\xfc'"
   ]
  },
  {
   "cell_type": "code",
   "execution_count": 13,
   "id": "a05de363-05f8-4ce5-9fe5-9966aad54eb5",
   "metadata": {},
   "outputs": [
    {
     "name": "stdout",
     "output_type": "stream",
     "text": [
      "0b10100\n"
     ]
    }
   ],
   "source": [
    "# bin()\n",
    "\n",
    "#Description: Converts an integer number to a binary string prefixed with \"0b\".\n",
    "num = 20\n",
    "\n",
    "binary_num = bin(num)\n",
    "\n",
    "print(binary_num)  # Output: '0b1010'"
   ]
  },
  {
   "cell_type": "code",
   "execution_count": 16,
   "id": "5c8a7c7f-80c8-477b-8513-3b9c6ade4a3c",
   "metadata": {},
   "outputs": [
    {
     "name": "stdout",
     "output_type": "stream",
     "text": [
      "False\n"
     ]
    }
   ],
   "source": [
    "# bool()\n",
    "\n",
    "#Description: Converts a value to a Boolean, using the standard truth testing procedure.\n",
    "\n",
    "bool_value = bool(0)\n",
    "print(bool_value)  # Output: False"
   ]
  },
  {
   "cell_type": "code",
   "execution_count": 24,
   "id": "ee1421a4-9039-4898-8272-55e4f20887d5",
   "metadata": {},
   "outputs": [
    {
     "name": "stdout",
     "output_type": "stream",
     "text": [
      ")\n"
     ]
    }
   ],
   "source": [
    "# chr()\n",
    "\n",
    "#Description: Returns the string representing a character whose Unicode code point is the integer i.\n",
    "\n",
    "\n",
    "char = chr(41)\n",
    "\n",
    "print(char)  # Output: 'a'"
   ]
  },
  {
   "cell_type": "code",
   "execution_count": 25,
   "id": "af505847-7c1b-4003-af3c-73902e2f36c0",
   "metadata": {},
   "outputs": [
    {
     "name": "stdout",
     "output_type": "stream",
     "text": [
      "(77-7j)\n"
     ]
    }
   ],
   "source": [
    "# complex()\n",
    "\n",
    "#Description: Returns a complex number with the value real + imag*1j.\n",
    "\n",
    "comp_num = complex(77, -7)\n",
    "print(comp_num)  # Output: (2-3j)"
   ]
  },
  {
   "cell_type": "code",
   "execution_count": 26,
   "id": "6efe440c-3dc5-46df-87bd-f10de8d55144",
   "metadata": {},
   "outputs": [
    {
     "name": "stdout",
     "output_type": "stream",
     "text": [
      "{'key1': 'value1', 'key2': 'value2'}\n"
     ]
    }
   ],
   "source": [
    "# dict()\n",
    "\n",
    "#Description: Returns a dictionary (or associative array) object.\n",
    "\n",
    "dict_obj = dict(key1='value1', key2='value2')\n",
    "print(dict_obj)  # Output: {'key1': 'value1', 'key2': 'value2'}"
   ]
  },
  {
   "cell_type": "code",
   "execution_count": 38,
   "id": "8b348ed9-d447-4cde-bfa2-fdf34fd309a2",
   "metadata": {},
   "outputs": [
    {
     "name": "stdout",
     "output_type": "stream",
     "text": [
      "['__add__', '__class__', '__class_getitem__', '__contains__', '__delattr__', '__delitem__', '__dir__', '__doc__', '__eq__', '__format__', '__ge__', '__getattribute__', '__getitem__', '__getstate__', '__gt__', '__hash__', '__iadd__', '__imul__', '__init__', '__init_subclass__', '__iter__', '__le__', '__len__', '__lt__', '__mul__', '__ne__', '__new__', '__reduce__', '__reduce_ex__', '__repr__', '__reversed__', '__rmul__', '__setattr__', '__setitem__', '__sizeof__', '__str__', '__subclasshook__', 'append', 'clear', 'copy', 'count', 'extend', 'index', 'insert', 'pop', 'remove', 'reverse', 'sort']\n"
     ]
    }
   ],
   "source": [
    "# dir()\n",
    "\n",
    "#Description: Returns a list of attributes and methods of any object (without the __ attributes).\n",
    "\n",
    "numbers = [1, 2, 3]\n",
    "print(dir(numbers))"
   ]
  },
  {
   "cell_type": "code",
   "execution_count": 28,
   "id": "57169331-7459-413f-927b-e6d9ca362281",
   "metadata": {},
   "outputs": [
    {
     "data": {
      "text/plain": [
       "['__abs__',\n",
       " '__add__',\n",
       " '__and__',\n",
       " '__bool__',\n",
       " '__ceil__',\n",
       " '__class__',\n",
       " '__delattr__',\n",
       " '__dir__',\n",
       " '__divmod__',\n",
       " '__doc__',\n",
       " '__eq__',\n",
       " '__float__',\n",
       " '__floor__',\n",
       " '__floordiv__',\n",
       " '__format__',\n",
       " '__ge__',\n",
       " '__getattribute__',\n",
       " '__getnewargs__',\n",
       " '__getstate__',\n",
       " '__gt__',\n",
       " '__hash__',\n",
       " '__index__',\n",
       " '__init__',\n",
       " '__init_subclass__',\n",
       " '__int__',\n",
       " '__invert__',\n",
       " '__le__',\n",
       " '__lshift__',\n",
       " '__lt__',\n",
       " '__mod__',\n",
       " '__mul__',\n",
       " '__ne__',\n",
       " '__neg__',\n",
       " '__new__',\n",
       " '__or__',\n",
       " '__pos__',\n",
       " '__pow__',\n",
       " '__radd__',\n",
       " '__rand__',\n",
       " '__rdivmod__',\n",
       " '__reduce__',\n",
       " '__reduce_ex__',\n",
       " '__repr__',\n",
       " '__rfloordiv__',\n",
       " '__rlshift__',\n",
       " '__rmod__',\n",
       " '__rmul__',\n",
       " '__ror__',\n",
       " '__round__',\n",
       " '__rpow__',\n",
       " '__rrshift__',\n",
       " '__rshift__',\n",
       " '__rsub__',\n",
       " '__rtruediv__',\n",
       " '__rxor__',\n",
       " '__setattr__',\n",
       " '__sizeof__',\n",
       " '__str__',\n",
       " '__sub__',\n",
       " '__subclasshook__',\n",
       " '__truediv__',\n",
       " '__trunc__',\n",
       " '__xor__',\n",
       " 'as_integer_ratio',\n",
       " 'bit_count',\n",
       " 'bit_length',\n",
       " 'conjugate',\n",
       " 'denominator',\n",
       " 'from_bytes',\n",
       " 'imag',\n",
       " 'numerator',\n",
       " 'real',\n",
       " 'to_bytes']"
      ]
     },
     "execution_count": 28,
     "metadata": {},
     "output_type": "execute_result"
    }
   ],
   "source": [
    "dir(int)"
   ]
  },
  {
   "cell_type": "code",
   "execution_count": 29,
   "id": "8821bd5d-f17c-4446-9c66-bb267b74ce41",
   "metadata": {},
   "outputs": [
    {
     "name": "stdout",
     "output_type": "stream",
     "text": [
      "(4, 1)\n"
     ]
    }
   ],
   "source": [
    "# divmod()\n",
    "\n",
    "#Description: Returns a tuple of the quotient and the remainder when argument1 is divided by argument 2\n",
    "\n",
    "result = divmod(9, 2)\n",
    "print(result)  # Output: (4, 1)"
   ]
  },
  {
   "cell_type": "code",
   "execution_count": 30,
   "id": "75072828-62dd-480e-841b-65e187936a03",
   "metadata": {},
   "outputs": [
    {
     "name": "stdout",
     "output_type": "stream",
     "text": [
      "[(0, 'apple'), (1, 'banana'), (2, 'cherry'), (3, 'chiku')]\n"
     ]
    }
   ],
   "source": [
    "# enumerate()\n",
    "\n",
    "#Description: Returns an enumerate object. It adds a counter to an iterable and returns it as an enumerate object.\n",
    "\n",
    "fruits = ['apple', 'banana', 'cherry', \"chiku\"]\n",
    "enum_obj = enumerate(fruits)\n",
    "print(list(enum_obj))  # Output: [(0, 'apple'), (1, 'banana'), (2, 'cherry')]"
   ]
  },
  {
   "cell_type": "code",
   "execution_count": 32,
   "id": "969d3257-4021-410f-af73-e8086e7aa4a8",
   "metadata": {},
   "outputs": [
    {
     "name": "stdout",
     "output_type": "stream",
     "text": [
      "15\n"
     ]
    }
   ],
   "source": [
    "# eval()\n",
    "\n",
    "#Description: Evaluates and executes an expression dynamically.\n",
    "\n",
    "x = 10\n",
    "result = eval('x + 5')\n",
    "print(result)  # Output: 15"
   ]
  },
  {
   "cell_type": "code",
   "execution_count": 35,
   "id": "00db14e3-a3b3-4f5c-8098-cc29137c15c6",
   "metadata": {},
   "outputs": [
    {
     "data": {
      "text/plain": [
       "15"
      ]
     },
     "execution_count": 35,
     "metadata": {},
     "output_type": "execute_result"
    }
   ],
   "source": [
    "eval(\"x + 5\")"
   ]
  },
  {
   "cell_type": "code",
   "execution_count": 40,
   "id": "b8ece6cc-1dc9-4635-b8d4-8d950b5527fc",
   "metadata": {},
   "outputs": [
    {
     "name": "stdin",
     "output_type": "stream",
     "text": [
      " 2+2\n"
     ]
    },
    {
     "data": {
      "text/plain": [
       "4"
      ]
     },
     "execution_count": 40,
     "metadata": {},
     "output_type": "execute_result"
    }
   ],
   "source": [
    "eval(input())"
   ]
  },
  {
   "cell_type": "code",
   "execution_count": 49,
   "id": "d491ab92-d1bd-40c2-a52d-50b92096d5b1",
   "metadata": {},
   "outputs": [
    {
     "name": "stdout",
     "output_type": "stream",
     "text": [
      "Hello, World!\n"
     ]
    }
   ],
   "source": [
    "# exec()\n",
    "\n",
    "#Description: Executes the Python code dynamically.\n",
    "\n",
    "exec('print(\"Hello, World!\")')"
   ]
  },
  {
   "cell_type": "code",
   "execution_count": 51,
   "id": "e6523cfe-daa8-4cfc-8ae2-5ac77995133c",
   "metadata": {},
   "outputs": [
    {
     "name": "stdout",
     "output_type": "stream",
     "text": [
      "Hello, World!\n"
     ]
    }
   ],
   "source": [
    "print(\"Hello, World!\")"
   ]
  },
  {
   "cell_type": "code",
   "execution_count": 41,
   "id": "9aa70616-e1bf-4032-9a39-a63da90efd59",
   "metadata": {},
   "outputs": [
    {
     "name": "stdout",
     "output_type": "stream",
     "text": [
      "[2, 4, 6]\n"
     ]
    }
   ],
   "source": [
    "# filter()\n",
    "\n",
    "#Description: Constructs an iterator from elements of an iterable for which a function returns true.\n",
    "\t\t\n",
    "def is_even(num):\n",
    "    return num % 2 == 0\n",
    "\n",
    "numbers = [1, 2, 3, 4, 5, 6]\n",
    "filtered_nums = filter(is_even, numbers)\n",
    "print(list(filtered_nums))  # Output: [2, 4, 6]"
   ]
  },
  {
   "cell_type": "code",
   "execution_count": 43,
   "id": "ef7640e8-ebdb-45ba-88f0-c1a9eee130e1",
   "metadata": {},
   "outputs": [
    {
     "data": {
      "text/plain": [
       "False"
      ]
     },
     "execution_count": 43,
     "metadata": {},
     "output_type": "execute_result"
    }
   ],
   "source": [
    "is_even(5)"
   ]
  },
  {
   "cell_type": "code",
   "execution_count": 55,
   "id": "023a554e-e884-463e-950d-ba35a0e2c0e3",
   "metadata": {},
   "outputs": [
    {
     "data": {
      "text/plain": [
       "[1, 2, 3, 4, 5, 6]"
      ]
     },
     "execution_count": 55,
     "metadata": {},
     "output_type": "execute_result"
    }
   ],
   "source": [
    "numbers"
   ]
  },
  {
   "cell_type": "code",
   "execution_count": 44,
   "id": "6c91a777-bcd6-4f8a-b838-5317c5ab5ba5",
   "metadata": {},
   "outputs": [],
   "source": [
    "filtered_nums= filter(is_even, numbers)"
   ]
  },
  {
   "cell_type": "code",
   "execution_count": 45,
   "id": "aa2ab65f-0acc-4769-b6c4-bff8cc6bb33e",
   "metadata": {},
   "outputs": [
    {
     "data": {
      "text/plain": [
       "[2, 4, 6]"
      ]
     },
     "execution_count": 45,
     "metadata": {},
     "output_type": "execute_result"
    }
   ],
   "source": [
    "list(filtered_nums)"
   ]
  },
  {
   "cell_type": "code",
   "execution_count": 67,
   "id": "62689bd5-f209-4937-895c-bb2b20430b75",
   "metadata": {},
   "outputs": [],
   "source": [
    "numbers = [1, 2, 3, 4, 5, 6,46,377, 73, 6, 435,66]"
   ]
  },
  {
   "cell_type": "code",
   "execution_count": 68,
   "id": "9a53b4a1-0aa8-47f8-b098-57a3b9c16314",
   "metadata": {},
   "outputs": [],
   "source": [
    "var = filter(is_even, numbers)"
   ]
  },
  {
   "cell_type": "code",
   "execution_count": 69,
   "id": "235f2eda-394f-4611-8cbd-fe575c9c0203",
   "metadata": {},
   "outputs": [
    {
     "data": {
      "text/plain": [
       "[2, 4, 6, 46, 6, 66]"
      ]
     },
     "execution_count": 69,
     "metadata": {},
     "output_type": "execute_result"
    }
   ],
   "source": [
    "list(var)"
   ]
  },
  {
   "cell_type": "code",
   "execution_count": 46,
   "id": "8d555880-0e8c-4154-b364-7d354ee3a3e5",
   "metadata": {},
   "outputs": [
    {
     "name": "stdout",
     "output_type": "stream",
     "text": [
      "300.0\n"
     ]
    }
   ],
   "source": [
    "# float()\n",
    "\n",
    "#Description: Returns a floating point number constructed from a number or string.\n",
    "\t\t\n",
    "float_num = float(300)\n",
    "print(float_num)  # Output: 3.0"
   ]
  },
  {
   "cell_type": "code",
   "execution_count": 47,
   "id": "100f7af4-d132-49f9-9688-3d030cde249e",
   "metadata": {},
   "outputs": [
    {
     "name": "stdout",
     "output_type": "stream",
     "text": [
      "65.000000%\n"
     ]
    }
   ],
   "source": [
    "# format()\n",
    "\n",
    "#Description: Formats a specified value into a specified format.\n",
    "\t\t\n",
    "formatted = format(0.65, '%')\n",
    "\n",
    "print(formatted)  # Output: '50.000000%'"
   ]
  },
  {
   "cell_type": "code",
   "execution_count": 48,
   "id": "d062177f-43d2-4db6-8c61-7bdc23339b68",
   "metadata": {},
   "outputs": [
    {
     "name": "stdout",
     "output_type": "stream",
     "text": [
      "9172986886322703224\n"
     ]
    }
   ],
   "source": [
    "# hash()\n",
    "\n",
    "#Description: Returns the hash value of an object if it has one.\n",
    "\t\t\n",
    "hash_value = hash('y')\n",
    "print(hash_value)"
   ]
  },
  {
   "cell_type": "code",
   "execution_count": 49,
   "id": "35042bd5-9a38-4f0e-8b53-684dc53a9b2d",
   "metadata": {},
   "outputs": [
    {
     "name": "stdout",
     "output_type": "stream",
     "text": [
      "Help on class complex in module builtins:\n",
      "\n",
      "class complex(object)\n",
      " |  complex(real=0, imag=0)\n",
      " |  \n",
      " |  Create a complex number from a real part and an optional imaginary part.\n",
      " |  \n",
      " |  This is equivalent to (real + imag*1j) where imag defaults to 0.\n",
      " |  \n",
      " |  Methods defined here:\n",
      " |  \n",
      " |  __abs__(self, /)\n",
      " |      abs(self)\n",
      " |  \n",
      " |  __add__(self, value, /)\n",
      " |      Return self+value.\n",
      " |  \n",
      " |  __bool__(self, /)\n",
      " |      True if self else False\n",
      " |  \n",
      " |  __complex__(self, /)\n",
      " |      Convert this value to exact type complex.\n",
      " |  \n",
      " |  __eq__(self, value, /)\n",
      " |      Return self==value.\n",
      " |  \n",
      " |  __format__(self, format_spec, /)\n",
      " |      Convert to a string according to format_spec.\n",
      " |  \n",
      " |  __ge__(self, value, /)\n",
      " |      Return self>=value.\n",
      " |  \n",
      " |  __getattribute__(self, name, /)\n",
      " |      Return getattr(self, name).\n",
      " |  \n",
      " |  __getnewargs__(self, /)\n",
      " |  \n",
      " |  __gt__(self, value, /)\n",
      " |      Return self>value.\n",
      " |  \n",
      " |  __hash__(self, /)\n",
      " |      Return hash(self).\n",
      " |  \n",
      " |  __le__(self, value, /)\n",
      " |      Return self<=value.\n",
      " |  \n",
      " |  __lt__(self, value, /)\n",
      " |      Return self<value.\n",
      " |  \n",
      " |  __mul__(self, value, /)\n",
      " |      Return self*value.\n",
      " |  \n",
      " |  __ne__(self, value, /)\n",
      " |      Return self!=value.\n",
      " |  \n",
      " |  __neg__(self, /)\n",
      " |      -self\n",
      " |  \n",
      " |  __pos__(self, /)\n",
      " |      +self\n",
      " |  \n",
      " |  __pow__(self, value, mod=None, /)\n",
      " |      Return pow(self, value, mod).\n",
      " |  \n",
      " |  __radd__(self, value, /)\n",
      " |      Return value+self.\n",
      " |  \n",
      " |  __repr__(self, /)\n",
      " |      Return repr(self).\n",
      " |  \n",
      " |  __rmul__(self, value, /)\n",
      " |      Return value*self.\n",
      " |  \n",
      " |  __rpow__(self, value, mod=None, /)\n",
      " |      Return pow(value, self, mod).\n",
      " |  \n",
      " |  __rsub__(self, value, /)\n",
      " |      Return value-self.\n",
      " |  \n",
      " |  __rtruediv__(self, value, /)\n",
      " |      Return value/self.\n",
      " |  \n",
      " |  __sub__(self, value, /)\n",
      " |      Return self-value.\n",
      " |  \n",
      " |  __truediv__(self, value, /)\n",
      " |      Return self/value.\n",
      " |  \n",
      " |  conjugate(self, /)\n",
      " |      Return the complex conjugate of its argument. (3-4j).conjugate() == 3+4j.\n",
      " |  \n",
      " |  ----------------------------------------------------------------------\n",
      " |  Static methods defined here:\n",
      " |  \n",
      " |  __new__(*args, **kwargs) from builtins.type\n",
      " |      Create and return a new object.  See help(type) for accurate signature.\n",
      " |  \n",
      " |  ----------------------------------------------------------------------\n",
      " |  Data descriptors defined here:\n",
      " |  \n",
      " |  imag\n",
      " |      the imaginary part of a complex number\n",
      " |  \n",
      " |  real\n",
      " |      the real part of a complex number\n",
      "\n"
     ]
    }
   ],
   "source": [
    "# help()\n",
    "\n",
    "#Description: Invokes the built-in help system.\n",
    "\t\t\n",
    "help(complex)"
   ]
  },
  {
   "cell_type": "code",
   "execution_count": 51,
   "id": "9a0ddf17-8a2f-44c3-a243-cee4951f1f6d",
   "metadata": {},
   "outputs": [
    {
     "name": "stdout",
     "output_type": "stream",
     "text": [
      "0x14\n"
     ]
    }
   ],
   "source": [
    "# hex()\n",
    "\n",
    "#Description: Converts an integer to a lowercase hexadecimal string prefixed with '0x'.\n",
    "\t\n",
    "num = 20\n",
    "hex_num = hex(num)\n",
    "print(hex_num)  # Output: '0xff'"
   ]
  },
  {
   "cell_type": "code",
   "execution_count": 52,
   "id": "e0f6ce21-af8a-4534-be96-da5ed3e4b080",
   "metadata": {},
   "outputs": [
    {
     "name": "stdout",
     "output_type": "stream",
     "text": [
      "140721759504712\n"
     ]
    }
   ],
   "source": [
    "# id()\n",
    "\n",
    "#Description: Returns the identity (unique integer) of an object.\n",
    "\n",
    "x = 50\n",
    "identity = id(x)\n",
    "print(identity)"
   ]
  },
  {
   "cell_type": "code",
   "execution_count": 84,
   "id": "ee5921dc-8ff7-454f-9635-316088a03a9e",
   "metadata": {},
   "outputs": [
    {
     "name": "stdin",
     "output_type": "stream",
     "text": [
      "Enter your name:  amit\n"
     ]
    },
    {
     "name": "stdout",
     "output_type": "stream",
     "text": [
      "Hello, amit\n"
     ]
    }
   ],
   "source": [
    "# input()\n",
    "\n",
    "#Description: Reads a line from input, converts it to a string (stripping a trailing newline), and returns that.\n",
    "\t\t\n",
    "name = input(\"Enter your name: \")\n",
    "print(\"Hello, \" + name)"
   ]
  },
  {
   "cell_type": "code",
   "execution_count": 53,
   "id": "2b0e7129-cf33-481f-a038-f4ae789ef0b5",
   "metadata": {},
   "outputs": [
    {
     "name": "stdout",
     "output_type": "stream",
     "text": [
      "10\n"
     ]
    }
   ],
   "source": [
    "# int()\n",
    "\n",
    "#Description: Returns an integer object constructed from a number or string.\n",
    "\t\t\n",
    "int_num = int(10.00002)\n",
    "print(int_num)  # Output: 10"
   ]
  },
  {
   "cell_type": "code",
   "execution_count": null,
   "id": "10906a08-0d3a-472d-bd15-8cb65de3a7fd",
   "metadata": {},
   "outputs": [],
   "source": []
  },
  {
   "cell_type": "code",
   "execution_count": 55,
   "id": "b1b91707-1633-4474-9471-78c502fb6530",
   "metadata": {},
   "outputs": [
    {
     "name": "stdout",
     "output_type": "stream",
     "text": [
      "False\n"
     ]
    }
   ],
   "source": [
    "# isinstance()\n",
    "\n",
    "# Description: Returns True if the object is an instance of the class (direct, indirect, or virtual inheritance), False otherwise.\n",
    "\t\t\n",
    "z = 5.0\n",
    "result = isinstance(z, int)\n",
    "print(result)  # Output: True"
   ]
  },
  {
   "cell_type": "code",
   "execution_count": 58,
   "id": "bf585682-fd48-4481-bfab-d07f0cc56e21",
   "metadata": {},
   "outputs": [
    {
     "name": "stdout",
     "output_type": "stream",
     "text": [
      "1\n"
     ]
    }
   ],
   "source": [
    "# iter()\n",
    "\n",
    "#Description: Returns an iterator object for an iterable.\n",
    "\t\t\n",
    "iterable = [1, 2, 3]\n",
    "iter_obj = iter(iterable)\n",
    "print(next(iter_obj))  # Output: 1"
   ]
  },
  {
   "cell_type": "code",
   "execution_count": 59,
   "id": "16b8096d-329e-4de2-8ce6-6fc6c82405db",
   "metadata": {},
   "outputs": [
    {
     "name": "stdout",
     "output_type": "stream",
     "text": [
      "2\n"
     ]
    }
   ],
   "source": [
    "print(next(iter_obj))"
   ]
  },
  {
   "cell_type": "code",
   "execution_count": 60,
   "id": "24f84326-2886-465f-806e-c9cb72f6c40f",
   "metadata": {},
   "outputs": [
    {
     "name": "stdout",
     "output_type": "stream",
     "text": [
      "3\n"
     ]
    }
   ],
   "source": [
    "print(next(iter_obj))"
   ]
  },
  {
   "cell_type": "code",
   "execution_count": 61,
   "id": "4cdcbe63-3d0b-49e7-8bd1-db0ece109d00",
   "metadata": {},
   "outputs": [
    {
     "ename": "StopIteration",
     "evalue": "",
     "output_type": "error",
     "traceback": [
      "\u001b[1;31m---------------------------------------------------------------------------\u001b[0m",
      "\u001b[1;31mStopIteration\u001b[0m                             Traceback (most recent call last)",
      "Cell \u001b[1;32mIn[61], line 1\u001b[0m\n\u001b[1;32m----> 1\u001b[0m \u001b[38;5;28mprint\u001b[39m(\u001b[38;5;28mnext\u001b[39m(iter_obj))\n",
      "\u001b[1;31mStopIteration\u001b[0m: "
     ]
    }
   ],
   "source": [
    "print(next(iter_obj))"
   ]
  },
  {
   "cell_type": "code",
   "execution_count": 62,
   "id": "0382b29e-9b36-4432-bd0c-678b081ba640",
   "metadata": {},
   "outputs": [],
   "source": [
    "lis = [3,45,6,3,7,8,9,3,8,3,8,6,7]"
   ]
  },
  {
   "cell_type": "code",
   "execution_count": 63,
   "id": "4fc8a1ee-b8f0-4123-977f-eeb04c4f8dc5",
   "metadata": {},
   "outputs": [
    {
     "data": {
      "text/plain": [
       "[3, 45, 6, 3, 7, 8, 9, 3, 8, 3, 8, 6, 7]"
      ]
     },
     "execution_count": 63,
     "metadata": {},
     "output_type": "execute_result"
    }
   ],
   "source": [
    "lis"
   ]
  },
  {
   "cell_type": "code",
   "execution_count": 64,
   "id": "625a8e64-d291-494f-a984-5ec4e69fef88",
   "metadata": {},
   "outputs": [],
   "source": [
    "obj = iter(lis)"
   ]
  },
  {
   "cell_type": "code",
   "execution_count": 69,
   "id": "d48e9d3a-4268-4f6a-9c15-c8c63292f133",
   "metadata": {},
   "outputs": [
    {
     "data": {
      "text/plain": [
       "7"
      ]
     },
     "execution_count": 69,
     "metadata": {},
     "output_type": "execute_result"
    }
   ],
   "source": [
    "next(obj)"
   ]
  },
  {
   "cell_type": "code",
   "execution_count": 111,
   "id": "cfa48bea-8433-40b2-bf3b-bbe5f2691be3",
   "metadata": {},
   "outputs": [
    {
     "data": {
      "text/plain": [
       "9"
      ]
     },
     "execution_count": 111,
     "metadata": {},
     "output_type": "execute_result"
    }
   ],
   "source": [
    "next(obj)"
   ]
  },
  {
   "cell_type": "code",
   "execution_count": 71,
   "id": "ff321fed-9512-475f-8a3f-cc919a48993a",
   "metadata": {},
   "outputs": [
    {
     "name": "stdout",
     "output_type": "stream",
     "text": [
      "9\n"
     ]
    }
   ],
   "source": [
    "# len()\n",
    "\n",
    "#Description: Returns the length (number of items) of an object.\n",
    "\t\t\n",
    "my_list = \"amitkumar\"\n",
    "length = len(my_list)\n",
    "print(length)  # Output: 3"
   ]
  },
  {
   "cell_type": "code",
   "execution_count": 72,
   "id": "5ac8b895-08b5-4620-bb07-5e84e127d354",
   "metadata": {},
   "outputs": [
    {
     "name": "stdout",
     "output_type": "stream",
     "text": [
      "[1, 2, 3]\n"
     ]
    }
   ],
   "source": [
    "# list()\n",
    "\n",
    "#Description: Returns a list object.\n",
    "\t\t\n",
    "lst = list((1, 2, 3))\n",
    "print(lst)  # Output: [1, 2, 3]"
   ]
  },
  {
   "cell_type": "code",
   "execution_count": 74,
   "id": "38733ced-b1dd-4415-9948-c6f4f3f7713f",
   "metadata": {},
   "outputs": [
    {
     "name": "stdout",
     "output_type": "stream",
     "text": [
      "[1, 4, 9, 16, 144]\n"
     ]
    }
   ],
   "source": [
    "# map()\n",
    "\n",
    "#Description: Applies a function to all items in an input list and returns an iterator of results.\n",
    "\t\t\n",
    "def square(x):\n",
    "\treturn x ** 2\n",
    "\n",
    "numbers = [1, 2, 3, 4, 12]\n",
    "squared = map(square, numbers)\n",
    "print(list(squared))  # Output: [1, 4, 9, 16]"
   ]
  },
  {
   "cell_type": "code",
   "execution_count": 117,
   "id": "90a18158-7ce4-41d8-a3b8-5554b4592e27",
   "metadata": {},
   "outputs": [],
   "source": [
    "def square(x):\n",
    "\treturn x ** 2"
   ]
  },
  {
   "cell_type": "code",
   "execution_count": 118,
   "id": "09a56005-78f3-46dc-8dc7-e3de4c6dbcb5",
   "metadata": {},
   "outputs": [
    {
     "data": {
      "text/plain": [
       "4"
      ]
     },
     "execution_count": 118,
     "metadata": {},
     "output_type": "execute_result"
    }
   ],
   "source": [
    "square(2)"
   ]
  },
  {
   "cell_type": "code",
   "execution_count": 119,
   "id": "4d52334d-db17-4aad-abea-e694ec02fca7",
   "metadata": {},
   "outputs": [],
   "source": [
    "numbers = [1, 2, 3, 4]"
   ]
  },
  {
   "cell_type": "code",
   "execution_count": 120,
   "id": "72507d2d-c358-4c7e-a8a9-8047418e10a0",
   "metadata": {},
   "outputs": [
    {
     "data": {
      "text/plain": [
       "[1, 2, 3, 4]"
      ]
     },
     "execution_count": 120,
     "metadata": {},
     "output_type": "execute_result"
    }
   ],
   "source": [
    "numbers"
   ]
  },
  {
   "cell_type": "code",
   "execution_count": 122,
   "id": "b56d6983-caa7-4bb5-b677-f052de84ca27",
   "metadata": {},
   "outputs": [],
   "source": [
    "sq = map(square, numbers)"
   ]
  },
  {
   "cell_type": "code",
   "execution_count": 123,
   "id": "0c749383-9208-405a-acaf-3998782b1f41",
   "metadata": {},
   "outputs": [
    {
     "data": {
      "text/plain": [
       "[1, 4, 9, 16]"
      ]
     },
     "execution_count": 123,
     "metadata": {},
     "output_type": "execute_result"
    }
   ],
   "source": [
    "list(sq)"
   ]
  },
  {
   "cell_type": "code",
   "execution_count": 124,
   "id": "593d9833-5a33-4730-ab75-c04191f82158",
   "metadata": {},
   "outputs": [
    {
     "name": "stdout",
     "output_type": "stream",
     "text": [
      "3\n"
     ]
    }
   ],
   "source": [
    "# max()\n",
    "\n",
    "#Description: Returns the largest item in an iterable or the largest of two or more arguments.\n",
    "\t\t\n",
    "max_num = max(1, 2, 3)\n",
    "print(max_num)  # Output: 3"
   ]
  },
  {
   "cell_type": "code",
   "execution_count": 125,
   "id": "d3bfa327-6678-4549-a803-b65ef9a11b47",
   "metadata": {},
   "outputs": [
    {
     "name": "stdout",
     "output_type": "stream",
     "text": [
      "1\n"
     ]
    }
   ],
   "source": [
    "# min()\n",
    "\n",
    "#Description: Returns the smallest item in an iterable or the smallest of two or more arguments.\n",
    "\t\t \n",
    "min_num = min(1, 2, 3)\n",
    "print(min_num)  # Output: 1"
   ]
  },
  {
   "cell_type": "code",
   "execution_count": 126,
   "id": "144185a0-3d33-4a31-810d-a5b203fda67f",
   "metadata": {},
   "outputs": [
    {
     "name": "stdout",
     "output_type": "stream",
     "text": [
      "1\n"
     ]
    }
   ],
   "source": [
    "# next()\n",
    "\n",
    "#Description: Retrieves the next item from the iterator.\n",
    "\t\t \n",
    "iterator = iter([1, 2, 3])\n",
    "print(next(iterator))  # Output: 1"
   ]
  },
  {
   "cell_type": "code",
   "execution_count": 127,
   "id": "1626626d-d719-4020-b94e-7239bfca4468",
   "metadata": {},
   "outputs": [
    {
     "ename": "FileNotFoundError",
     "evalue": "[Errno 2] No such file or directory: 'example.txt'",
     "output_type": "error",
     "traceback": [
      "\u001b[1;31m---------------------------------------------------------------------------\u001b[0m",
      "\u001b[1;31mFileNotFoundError\u001b[0m                         Traceback (most recent call last)",
      "Cell \u001b[1;32mIn[127], line 5\u001b[0m\n\u001b[0;32m      1\u001b[0m \u001b[38;5;66;03m# open()\u001b[39;00m\n\u001b[0;32m      2\u001b[0m \n\u001b[0;32m      3\u001b[0m \u001b[38;5;66;03m#Description: Opens a file and returns a file object.\u001b[39;00m\n\u001b[1;32m----> 5\u001b[0m file_obj \u001b[38;5;241m=\u001b[39m \u001b[38;5;28mopen\u001b[39m(\u001b[38;5;124m'\u001b[39m\u001b[38;5;124mexample.txt\u001b[39m\u001b[38;5;124m'\u001b[39m, \u001b[38;5;124m'\u001b[39m\u001b[38;5;124mr\u001b[39m\u001b[38;5;124m'\u001b[39m)\n\u001b[0;32m      6\u001b[0m content \u001b[38;5;241m=\u001b[39m file_obj\u001b[38;5;241m.\u001b[39mread()\n\u001b[0;32m      7\u001b[0m \u001b[38;5;28mprint\u001b[39m(content)\n",
      "File \u001b[1;32m~\\anaconda3\\Lib\\site-packages\\IPython\\core\\interactiveshell.py:310\u001b[0m, in \u001b[0;36m_modified_open\u001b[1;34m(file, *args, **kwargs)\u001b[0m\n\u001b[0;32m    303\u001b[0m \u001b[38;5;28;01mif\u001b[39;00m file \u001b[38;5;129;01min\u001b[39;00m {\u001b[38;5;241m0\u001b[39m, \u001b[38;5;241m1\u001b[39m, \u001b[38;5;241m2\u001b[39m}:\n\u001b[0;32m    304\u001b[0m     \u001b[38;5;28;01mraise\u001b[39;00m \u001b[38;5;167;01mValueError\u001b[39;00m(\n\u001b[0;32m    305\u001b[0m         \u001b[38;5;124mf\u001b[39m\u001b[38;5;124m\"\u001b[39m\u001b[38;5;124mIPython won\u001b[39m\u001b[38;5;124m'\u001b[39m\u001b[38;5;124mt let you open fd=\u001b[39m\u001b[38;5;132;01m{\u001b[39;00mfile\u001b[38;5;132;01m}\u001b[39;00m\u001b[38;5;124m by default \u001b[39m\u001b[38;5;124m\"\u001b[39m\n\u001b[0;32m    306\u001b[0m         \u001b[38;5;124m\"\u001b[39m\u001b[38;5;124mas it is likely to crash IPython. If you know what you are doing, \u001b[39m\u001b[38;5;124m\"\u001b[39m\n\u001b[0;32m    307\u001b[0m         \u001b[38;5;124m\"\u001b[39m\u001b[38;5;124myou can use builtins\u001b[39m\u001b[38;5;124m'\u001b[39m\u001b[38;5;124m open.\u001b[39m\u001b[38;5;124m\"\u001b[39m\n\u001b[0;32m    308\u001b[0m     )\n\u001b[1;32m--> 310\u001b[0m \u001b[38;5;28;01mreturn\u001b[39;00m io_open(file, \u001b[38;5;241m*\u001b[39margs, \u001b[38;5;241m*\u001b[39m\u001b[38;5;241m*\u001b[39mkwargs)\n",
      "\u001b[1;31mFileNotFoundError\u001b[0m: [Errno 2] No such file or directory: 'example.txt'"
     ]
    }
   ],
   "source": [
    "# open()\n",
    "\n",
    "#Description: Opens a file and returns a file object.\n",
    "\t\t \n",
    "file_obj = open('example.txt', 'r')\n",
    "content = file_obj.read()\n",
    "print(content)\n",
    "file_obj.close()"
   ]
  },
  {
   "cell_type": "code",
   "execution_count": 77,
   "id": "034f28eb-46b4-4dd4-9d64-750257dd4d51",
   "metadata": {},
   "outputs": [
    {
     "name": "stdout",
     "output_type": "stream",
     "text": [
      "97\n"
     ]
    }
   ],
   "source": [
    "# ord()\n",
    "\n",
    "#Description: Returns the Unicode code point for a given character.\n",
    "\t\t \n",
    "unicode_value = ord('a')\n",
    "print(unicode_value)  # Output: 65"
   ]
  },
  {
   "cell_type": "code",
   "execution_count": 78,
   "id": "8eb0dee5-c685-47e0-886b-fd8a415f3a12",
   "metadata": {},
   "outputs": [
    {
     "name": "stdout",
     "output_type": "stream",
     "text": [
      "100\n"
     ]
    }
   ],
   "source": [
    "# pow()\n",
    "\n",
    "#Description: Returns the value of x to the power of y.\n",
    "\n",
    "result = pow(10, 2)\n",
    "print(result)  # Output: 8"
   ]
  },
  {
   "cell_type": "code",
   "execution_count": 79,
   "id": "6aba346b-5d41-4363-9564-acc645ab338b",
   "metadata": {},
   "outputs": [
    {
     "name": "stdout",
     "output_type": "stream",
     "text": [
      "Hello, World!\n"
     ]
    }
   ],
   "source": [
    "# print()\n",
    "\n",
    "#Description: Outputs a message to the console or other standard output device.\n",
    "\t\t\n",
    "print(\"Hello, World!\")"
   ]
  },
  {
   "cell_type": "code",
   "execution_count": 80,
   "id": "519a79ca-9858-47d3-b251-f4764a185baf",
   "metadata": {},
   "outputs": [
    {
     "name": "stdout",
     "output_type": "stream",
     "text": [
      "{1, 2, 3}\n"
     ]
    }
   ],
   "source": [
    "# set()\n",
    "\n",
    "#Description: Returns a new set object.\n",
    "\t\t \n",
    "set_obj = set([1, 2, 3])\n",
    "print(set_obj)  # Output: {1, 2, 3}"
   ]
  },
  {
   "cell_type": "code",
   "execution_count": 81,
   "id": "9722e904-8ea8-44b6-8e80-c8abe5b2a6b0",
   "metadata": {},
   "outputs": [
    {
     "name": "stdout",
     "output_type": "stream",
     "text": [
      "[0, 1, 2, 3, 4]\n"
     ]
    }
   ],
   "source": [
    "# range()\n",
    "\n",
    "#Description: Returns a sequence of numbers, starting from 0 (by default), and increments by 1 (by default), and stops before a specified number.\n",
    "\t\t \n",
    "rng = range(5)\n",
    "print(list(rng))  # Output: [0, 1, 2, 3, 4]"
   ]
  },
  {
   "cell_type": "code",
   "execution_count": 82,
   "id": "97129bbf-7e70-4ee4-baee-5a5e9d57a1cc",
   "metadata": {},
   "outputs": [
    {
     "data": {
      "text/plain": [
       "range(0, 5)"
      ]
     },
     "execution_count": 82,
     "metadata": {},
     "output_type": "execute_result"
    }
   ],
   "source": [
    "range(5)"
   ]
  },
  {
   "cell_type": "code",
   "execution_count": 83,
   "id": "263378d7-51a8-4f8d-af53-8fab4dd67d79",
   "metadata": {},
   "outputs": [
    {
     "data": {
      "text/plain": [
       "[0, 1, 2, 3, 4, 5, 6, 7, 8, 9]"
      ]
     },
     "execution_count": 83,
     "metadata": {},
     "output_type": "execute_result"
    }
   ],
   "source": [
    "list(range(10))"
   ]
  },
  {
   "cell_type": "code",
   "execution_count": 139,
   "id": "12780600-29aa-4b79-bef9-a9f0af81fb95",
   "metadata": {},
   "outputs": [],
   "source": [
    "var = range(40)"
   ]
  },
  {
   "cell_type": "code",
   "execution_count": 145,
   "id": "5d188f9a-34fe-4dde-8c5e-cf52d9c5c857",
   "metadata": {},
   "outputs": [
    {
     "data": {
      "text/plain": [
       "[25, 22, 19, 16, 13, 10, 7, 4]"
      ]
     },
     "execution_count": 145,
     "metadata": {},
     "output_type": "execute_result"
    }
   ],
   "source": [
    "list(var[25:2:-3])"
   ]
  },
  {
   "cell_type": "code",
   "execution_count": 147,
   "id": "dc6481fe-65eb-4f84-8954-018a17dc63d4",
   "metadata": {},
   "outputs": [
    {
     "data": {
      "text/plain": [
       "[25, 22, 19, 16, 13, 10, 7, 4]"
      ]
     },
     "execution_count": 147,
     "metadata": {},
     "output_type": "execute_result"
    }
   ],
   "source": [
    "list(var[25:2: -3])"
   ]
  },
  {
   "cell_type": "code",
   "execution_count": 154,
   "id": "3faa0b68-a239-4954-8905-9e1011c1c395",
   "metadata": {},
   "outputs": [
    {
     "data": {
      "text/plain": [
       "[0,\n",
       " 30,\n",
       " 60,\n",
       " 90,\n",
       " 120,\n",
       " 150,\n",
       " 180,\n",
       " 210,\n",
       " 240,\n",
       " 270,\n",
       " 300,\n",
       " 330,\n",
       " 360,\n",
       " 390,\n",
       " 420,\n",
       " 450,\n",
       " 480,\n",
       " 510,\n",
       " 540,\n",
       " 570,\n",
       " 600,\n",
       " 630,\n",
       " 660,\n",
       " 690,\n",
       " 720,\n",
       " 750,\n",
       " 780,\n",
       " 810,\n",
       " 840,\n",
       " 870,\n",
       " 900,\n",
       " 930,\n",
       " 960,\n",
       " 990]"
      ]
     },
     "execution_count": 154,
     "metadata": {},
     "output_type": "execute_result"
    }
   ],
   "source": [
    "list(range(0,1000, 30))"
   ]
  },
  {
   "cell_type": "code",
   "execution_count": null,
   "id": "74db70a4-98b9-4788-8956-73d0d1dcc101",
   "metadata": {},
   "outputs": [],
   "source": [
    "# reversed()\n",
    "\n",
    "#Description: Returns a reverse iterator.\n",
    "\t\t \n",
    "rev_iter = reversed([1, 2, 3])\n",
    "\n",
    "print(list(rev_iter))  # Output: [3, 2, 1]"
   ]
  },
  {
   "cell_type": "code",
   "execution_count": null,
   "id": "b50db600-688d-466f-bda2-c0299c4cbe3d",
   "metadata": {},
   "outputs": [],
   "source": [
    "# round()\n",
    "\n",
    "#Description: Rounds a number to a specified precision in decimal digits.\n",
    "\t\t \n",
    "num = 3.14159\n",
    "rounded_num = round(num, 0)\n",
    "print(rounded_num)  # Output: 3.14"
   ]
  },
  {
   "cell_type": "code",
   "execution_count": null,
   "id": "2a63b6dc-7a2b-4ac1-9f8c-8870bea75080",
   "metadata": {},
   "outputs": [],
   "source": [
    "# sorted()\n",
    "\n",
    "#Description: Returns a sorted list from the items in an iterable.\n",
    " \n",
    "lst = [3, 1, 2]\n",
    "\n",
    "sorted_lst = sorted(lst)\n",
    "print(sorted_lst)  # Output: [1, 2, 3]"
   ]
  },
  {
   "cell_type": "code",
   "execution_count": null,
   "id": "d76d25a3-4620-4314-96d2-e465463a67c6",
   "metadata": {},
   "outputs": [],
   "source": [
    "# str()\n",
    "\n",
    "#Description: Returns a string object.\n",
    "\t\t \n",
    "str_obj = str(\"6648\")\n",
    "print(str_obj)  # Output: '123'"
   ]
  },
  {
   "cell_type": "code",
   "execution_count": null,
   "id": "9dadb23f-7dbe-495a-9806-055e62a3f7aa",
   "metadata": {},
   "outputs": [],
   "source": [
    "# sum()\n",
    "\n",
    "#Description: Sums the items of an iterable.\n",
    "\t\t \n",
    "lst = [1, 2, 3]\n",
    "sum_lst = sum(lst)\n",
    "print(sum_lst)  # Output: 6"
   ]
  },
  {
   "cell_type": "code",
   "execution_count": null,
   "id": "9cf12b62-88f5-4e9c-ac06-74223bbe5286",
   "metadata": {},
   "outputs": [],
   "source": [
    "# tuple()\n",
    "\n",
    "#Description: Returns a tuple object.\n",
    "\t\t \n",
    "tpl = tuple([1, 2, 3])\n",
    "print(tpl)  # Output: (1, 2, 3)"
   ]
  },
  {
   "cell_type": "code",
   "execution_count": null,
   "id": "7bf2f011-2d46-4576-aa65-635fafb4a519",
   "metadata": {},
   "outputs": [],
   "source": [
    "# type()\n",
    "\n",
    "#Description: Returns the type of an object or creates a new type object.\n",
    "\t\t \n",
    "x = 5\n",
    "print(type(x))  # Output: <class 'int'>"
   ]
  },
  {
   "cell_type": "code",
   "execution_count": null,
   "id": "1cab0c4c-dc73-4b6e-b567-6032b38b323a",
   "metadata": {},
   "outputs": [],
   "source": [
    "# zip()\n",
    "\n",
    "#Description: Returns an iterator of tuples, where the i-th tuple contains the i-th element from each of the argument sequences or iterables.\n",
    "\t\t \n",
    "lst1 = [1, 2, 3]\n",
    "lst2 = ['a', 'b', 'c']\n",
    "\n",
    "zipped = zip(lst1, lst2)\n",
    "print(list(zipped))  # Output: [(1, 'a'), (2, 'b'), (3, 'c')]"
   ]
  },
  {
   "cell_type": "code",
   "execution_count": null,
   "id": "994ab5b6-9bc4-4c80-9e23-61c47b2839dd",
   "metadata": {},
   "outputs": [],
   "source": []
  },
  {
   "cell_type": "code",
   "execution_count": null,
   "id": "8c15e5d3-baa8-475f-8748-21f0c59a6ea2",
   "metadata": {},
   "outputs": [],
   "source": []
  }
 ],
 "metadata": {
  "kernelspec": {
   "display_name": "Python 3 (ipykernel)",
   "language": "python",
   "name": "python3"
  },
  "language_info": {
   "codemirror_mode": {
    "name": "ipython",
    "version": 3
   },
   "file_extension": ".py",
   "mimetype": "text/x-python",
   "name": "python",
   "nbconvert_exporter": "python",
   "pygments_lexer": "ipython3",
   "version": "3.11.7"
  }
 },
 "nbformat": 4,
 "nbformat_minor": 5
}
