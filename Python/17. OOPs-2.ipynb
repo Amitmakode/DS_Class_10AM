{
 "cells": [
  {
   "cell_type": "code",
   "execution_count": 1,
   "id": "0bf9ea33-4bb0-4dab-abf2-91e442b7a905",
   "metadata": {},
   "outputs": [],
   "source": [
    "class ineuron1:\n",
    "    __students = \"data science\"       #data abstraction \n",
    "\n",
    "    def studetns(self):\n",
    "        print(ineuron1.__students)"
   ]
  },
  {
   "cell_type": "code",
   "execution_count": 2,
   "id": "56999e63-16d0-4830-b59f-303a6133a20a",
   "metadata": {},
   "outputs": [],
   "source": [
    "obj = ineuron1()"
   ]
  },
  {
   "cell_type": "code",
   "execution_count": 3,
   "id": "8a427b1d-33bc-4627-b059-136059f29cba",
   "metadata": {},
   "outputs": [
    {
     "name": "stdout",
     "output_type": "stream",
     "text": [
      "data science\n"
     ]
    }
   ],
   "source": [
    "obj.studetns()"
   ]
  },
  {
   "cell_type": "code",
   "execution_count": 4,
   "id": "edabe8cb-6bcd-4d4f-aafa-a52152a25aae",
   "metadata": {},
   "outputs": [
    {
     "data": {
      "text/plain": [
       "'data science'"
      ]
     },
     "execution_count": 4,
     "metadata": {},
     "output_type": "execute_result"
    }
   ],
   "source": [
    "obj._ineuron1__students"
   ]
  },
  {
   "cell_type": "code",
   "execution_count": 5,
   "id": "f181d089-2e29-4f81-8887-9b70d3f9b0e6",
   "metadata": {},
   "outputs": [
    {
     "name": "stdout",
     "output_type": "stream",
     "text": [
      "data science\n"
     ]
    },
    {
     "ename": "AttributeError",
     "evalue": "'ineuron1' object has no attribute '__students'",
     "output_type": "error",
     "traceback": [
      "\u001b[1;31m---------------------------------------------------------------------------\u001b[0m",
      "\u001b[1;31mAttributeError\u001b[0m                            Traceback (most recent call last)",
      "Cell \u001b[1;32mIn[5], line 3\u001b[0m\n\u001b[0;32m      1\u001b[0m i \u001b[38;5;241m=\u001b[39m ineuron1()\n\u001b[0;32m      2\u001b[0m i\u001b[38;5;241m.\u001b[39mstudetns()\n\u001b[1;32m----> 3\u001b[0m \u001b[38;5;28mprint\u001b[39m(i\u001b[38;5;241m.\u001b[39m__students)\n",
      "\u001b[1;31mAttributeError\u001b[0m: 'ineuron1' object has no attribute '__students'"
     ]
    }
   ],
   "source": [
    "i = ineuron1()\n",
    "i.studetns()\n",
    "print(i.__students)"
   ]
  },
  {
   "cell_type": "code",
   "execution_count": 6,
   "id": "d905968a-0bb6-4269-93b1-26197c86a523",
   "metadata": {},
   "outputs": [],
   "source": [
    "class ineuron2:                      # encpsulation \n",
    "    def __init__(self):\n",
    "        self.students1 = \"data science\"\n",
    "\n",
    "    def students(self):\n",
    "        print(self.students1)\n",
    "\n",
    "\n",
    "\n",
    "class ineuron3:\n",
    "    def __init__(self):\n",
    "        self.__students1 = \"data Analytics \"\n",
    "\n",
    "    def students(self):\n",
    "        print(self.__students1)\n",
    "        \n",
    "    def student_change(self, new_value):\n",
    "        self.__students1 = new_value"
   ]
  },
  {
   "cell_type": "code",
   "execution_count": 7,
   "id": "00384256-79fb-475a-beee-7cc33da332cd",
   "metadata": {},
   "outputs": [
    {
     "name": "stdout",
     "output_type": "stream",
     "text": [
      "data science\n"
     ]
    }
   ],
   "source": [
    "i = ineuron2()\n",
    "i.students()"
   ]
  },
  {
   "cell_type": "code",
   "execution_count": 8,
   "id": "fdbd6bc5-f8c1-4695-97be-104c0b4cbf49",
   "metadata": {},
   "outputs": [
    {
     "name": "stdout",
     "output_type": "stream",
     "text": [
      "data analytics\n"
     ]
    }
   ],
   "source": [
    "i.students1 = \"data analytics\"\n",
    "i.students()"
   ]
  },
  {
   "cell_type": "code",
   "execution_count": 9,
   "id": "59472dff-4ba2-436b-99be-b0e0f199af3a",
   "metadata": {},
   "outputs": [
    {
     "name": "stdout",
     "output_type": "stream",
     "text": [
      "data analytics\n"
     ]
    }
   ],
   "source": [
    "i.students()"
   ]
  },
  {
   "cell_type": "code",
   "execution_count": 10,
   "id": "8c8a2dc1-53b3-4528-8c54-0cd0d1f0d3e4",
   "metadata": {},
   "outputs": [
    {
     "name": "stdout",
     "output_type": "stream",
     "text": [
      "data Analytics \n"
     ]
    }
   ],
   "source": [
    "i1 = ineuron3()\n",
    "i1.students()"
   ]
  },
  {
   "cell_type": "code",
   "execution_count": 12,
   "id": "ba27e1d7-441d-427d-add0-9cc122099487",
   "metadata": {},
   "outputs": [
    {
     "name": "stdout",
     "output_type": "stream",
     "text": [
      "data Analytics \n"
     ]
    }
   ],
   "source": [
    "i1.students1 = \"data sciencse\"\n",
    "i1.students()"
   ]
  },
  {
   "cell_type": "code",
   "execution_count": 13,
   "id": "699401e9-a8f0-44f6-a5ff-3b58e350e2e2",
   "metadata": {},
   "outputs": [],
   "source": [
    "i1.student_change(\"data engineer\")"
   ]
  },
  {
   "cell_type": "code",
   "execution_count": 14,
   "id": "f771d6c8-44a4-4ced-a957-037389696b5e",
   "metadata": {},
   "outputs": [
    {
     "name": "stdout",
     "output_type": "stream",
     "text": [
      "data engineer\n"
     ]
    }
   ],
   "source": [
    "i1.students()"
   ]
  },
  {
   "cell_type": "code",
   "execution_count": null,
   "id": "346873e9-1549-42e6-944e-58b019413471",
   "metadata": {},
   "outputs": [],
   "source": []
  },
  {
   "cell_type": "code",
   "execution_count": null,
   "id": "8486fed1-82d7-498e-8661-f24fb33a19a3",
   "metadata": {},
   "outputs": [],
   "source": []
  },
  {
   "cell_type": "code",
   "execution_count": 15,
   "id": "4c9969c5-9495-4191-8554-b3068220f4b4",
   "metadata": {},
   "outputs": [],
   "source": [
    "class ineuron4:\n",
    "    def students(self):\n",
    "        print(\"print a students details \")\n",
    "\n",
    "class class_type :\n",
    "    def student(self):\n",
    "        print(\"print the class type of students\")"
   ]
  },
  {
   "cell_type": "code",
   "execution_count": 16,
   "id": "06e72848-20c0-428e-aa56-2fce1f84629f",
   "metadata": {},
   "outputs": [],
   "source": [
    "def ineuron_external(a,b):\n",
    "    a.students()\n",
    "    b.student()"
   ]
  },
  {
   "cell_type": "code",
   "execution_count": 17,
   "id": "bdd5c67f-c42e-454a-ac58-e217984ba1e7",
   "metadata": {},
   "outputs": [],
   "source": [
    "obj4 = ineuron4()"
   ]
  },
  {
   "cell_type": "code",
   "execution_count": 18,
   "id": "620da006-7d1c-4650-a8af-b080ac728c8f",
   "metadata": {},
   "outputs": [],
   "source": [
    "obj5 = class_type()"
   ]
  },
  {
   "cell_type": "code",
   "execution_count": 19,
   "id": "9c7d5df0-8b98-49ca-8a74-da9e0b474e63",
   "metadata": {},
   "outputs": [
    {
     "name": "stdout",
     "output_type": "stream",
     "text": [
      "print a students details \n",
      "print the class type of students\n"
     ]
    }
   ],
   "source": [
    "ineuron_external(obj4, obj5)"
   ]
  },
  {
   "cell_type": "code",
   "execution_count": null,
   "id": "7b25e70c-c542-4f1d-86b7-1ff3a80e7843",
   "metadata": {},
   "outputs": [],
   "source": []
  },
  {
   "cell_type": "code",
   "execution_count": null,
   "id": "ac111d8c-f401-4c0e-b6c9-cf3366e640f4",
   "metadata": {},
   "outputs": [],
   "source": []
  },
  {
   "cell_type": "code",
   "execution_count": 20,
   "id": "a467d1ab-f4bd-49a8-be2b-5d001929bfd7",
   "metadata": {},
   "outputs": [],
   "source": [
    "class class1:\n",
    "    def fun1(self):\n",
    "        print(\"print a students details \")\n",
    "\n",
    "class class2 :\n",
    "    def fun2(self):\n",
    "        print(\"print the class type of students\")"
   ]
  },
  {
   "cell_type": "code",
   "execution_count": 21,
   "id": "9694ef83-03c5-44e6-8f4c-ce44a6b773bd",
   "metadata": {},
   "outputs": [],
   "source": [
    "def new_fun(class1, class2):\n",
    "    class1.fun1()\n",
    "    class2.fun2()"
   ]
  },
  {
   "cell_type": "code",
   "execution_count": 23,
   "id": "0111b552-41cf-4cbe-868f-b5d746fc98a4",
   "metadata": {},
   "outputs": [],
   "source": [
    "o1 = class1()"
   ]
  },
  {
   "cell_type": "code",
   "execution_count": 25,
   "id": "e809c695-91d1-4e8d-8253-a6b83bbc3127",
   "metadata": {},
   "outputs": [],
   "source": [
    "o2= class2()"
   ]
  },
  {
   "cell_type": "code",
   "execution_count": 26,
   "id": "c6b51802-2728-432c-8818-41bd2ab30f7a",
   "metadata": {},
   "outputs": [
    {
     "name": "stdout",
     "output_type": "stream",
     "text": [
      "print a students details \n",
      "print the class type of students\n"
     ]
    }
   ],
   "source": [
    "new_fun(o1, o2)"
   ]
  },
  {
   "cell_type": "code",
   "execution_count": null,
   "id": "0c02e044-4fd3-4d7d-8dc7-7aa9613befb8",
   "metadata": {},
   "outputs": [],
   "source": []
  },
  {
   "cell_type": "code",
   "execution_count": null,
   "id": "aa16d878-08e2-413c-a444-d7bf8798fe3c",
   "metadata": {},
   "outputs": [],
   "source": [
    "class\n",
    "object\n",
    "pointer\n",
    "constructor\n",
    "function\n",
    "public \n",
    "private\n",
    "protective\n",
    "inheritence, multiple, multilevel, method override\n",
    "data abstraction\n",
    "encapsulation\n",
    "polymorphism"
   ]
  },
  {
   "cell_type": "code",
   "execution_count": null,
   "id": "14c56828-8ba3-4de7-bcf9-262caa9af874",
   "metadata": {},
   "outputs": [],
   "source": []
  },
  {
   "cell_type": "code",
   "execution_count": null,
   "id": "f3651389-5f4a-4b90-9b1d-cc90f5d861b4",
   "metadata": {},
   "outputs": [],
   "source": []
  },
  {
   "cell_type": "code",
   "execution_count": null,
   "id": "3f5a2e0c-6e21-46cd-b7f5-61f07a4489a2",
   "metadata": {},
   "outputs": [],
   "source": [
    "regular expression\n",
    "statistics\n",
    "timedate\n",
    "math\n",
    "os"
   ]
  },
  {
   "cell_type": "code",
   "execution_count": null,
   "id": "e3384926-6a2e-48e7-a24b-970ce924f2f8",
   "metadata": {},
   "outputs": [],
   "source": [
    "pandas\n",
    "numpy\n",
    "matplotlib\n",
    "seaborn\n",
    "sklearn\n",
    "scipy\n",
    "ploty\n",
    "tensorflow\n",
    "pytorch\n",
    "keras"
   ]
  },
  {
   "cell_type": "code",
   "execution_count": 27,
   "id": "f89472cc-e2e1-458f-9572-69ab4efe580f",
   "metadata": {},
   "outputs": [
    {
     "name": "stdout",
     "output_type": "stream",
     "text": [
      "['9876543210', '919876543210']\n"
     ]
    }
   ],
   "source": [
    "import re\n",
    "text = \"Call me at 9876543210 or 919876543210.\"\n",
    "phones = re.findall(r'\\b(?:\\+91|91)?[6-9]\\d{9}\\b', text)\n",
    "print(phones)"
   ]
  },
  {
   "cell_type": "code",
   "execution_count": null,
   "id": "c6ee646d-2e16-4c47-a807-00585fb4c7c3",
   "metadata": {},
   "outputs": [],
   "source": []
  },
  {
   "cell_type": "code",
   "execution_count": null,
   "id": "48430157-522e-4067-b38a-37470deaa6c1",
   "metadata": {},
   "outputs": [],
   "source": []
  }
 ],
 "metadata": {
  "kernelspec": {
   "display_name": "Python 3 (ipykernel)",
   "language": "python",
   "name": "python3"
  },
  "language_info": {
   "codemirror_mode": {
    "name": "ipython",
    "version": 3
   },
   "file_extension": ".py",
   "mimetype": "text/x-python",
   "name": "python",
   "nbconvert_exporter": "python",
   "pygments_lexer": "ipython3",
   "version": "3.11.7"
  }
 },
 "nbformat": 4,
 "nbformat_minor": 5
}
