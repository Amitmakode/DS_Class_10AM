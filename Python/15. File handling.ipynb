{
 "cells": [
  {
   "cell_type": "code",
   "execution_count": 2,
   "id": "e2a2db84-0aeb-4193-b776-c60cb52f3b26",
   "metadata": {},
   "outputs": [
    {
     "ename": "FileNotFoundError",
     "evalue": "[Errno 2] No such file or directory: 'demo.py'",
     "output_type": "error",
     "traceback": [
      "\u001b[1;31m---------------------------------------------------------------------------\u001b[0m",
      "\u001b[1;31mFileNotFoundError\u001b[0m                         Traceback (most recent call last)",
      "Cell \u001b[1;32mIn[2], line 1\u001b[0m\n\u001b[1;32m----> 1\u001b[0m \u001b[38;5;28mopen\u001b[39m(\u001b[38;5;124m\"\u001b[39m\u001b[38;5;124mdemo.py\u001b[39m\u001b[38;5;124m\"\u001b[39m)\n",
      "File \u001b[1;32m~\\anaconda3\\Lib\\site-packages\\IPython\\core\\interactiveshell.py:310\u001b[0m, in \u001b[0;36m_modified_open\u001b[1;34m(file, *args, **kwargs)\u001b[0m\n\u001b[0;32m    303\u001b[0m \u001b[38;5;28;01mif\u001b[39;00m file \u001b[38;5;129;01min\u001b[39;00m {\u001b[38;5;241m0\u001b[39m, \u001b[38;5;241m1\u001b[39m, \u001b[38;5;241m2\u001b[39m}:\n\u001b[0;32m    304\u001b[0m     \u001b[38;5;28;01mraise\u001b[39;00m \u001b[38;5;167;01mValueError\u001b[39;00m(\n\u001b[0;32m    305\u001b[0m         \u001b[38;5;124mf\u001b[39m\u001b[38;5;124m\"\u001b[39m\u001b[38;5;124mIPython won\u001b[39m\u001b[38;5;124m'\u001b[39m\u001b[38;5;124mt let you open fd=\u001b[39m\u001b[38;5;132;01m{\u001b[39;00mfile\u001b[38;5;132;01m}\u001b[39;00m\u001b[38;5;124m by default \u001b[39m\u001b[38;5;124m\"\u001b[39m\n\u001b[0;32m    306\u001b[0m         \u001b[38;5;124m\"\u001b[39m\u001b[38;5;124mas it is likely to crash IPython. If you know what you are doing, \u001b[39m\u001b[38;5;124m\"\u001b[39m\n\u001b[0;32m    307\u001b[0m         \u001b[38;5;124m\"\u001b[39m\u001b[38;5;124myou can use builtins\u001b[39m\u001b[38;5;124m'\u001b[39m\u001b[38;5;124m open.\u001b[39m\u001b[38;5;124m\"\u001b[39m\n\u001b[0;32m    308\u001b[0m     )\n\u001b[1;32m--> 310\u001b[0m \u001b[38;5;28;01mreturn\u001b[39;00m io_open(file, \u001b[38;5;241m*\u001b[39margs, \u001b[38;5;241m*\u001b[39m\u001b[38;5;241m*\u001b[39mkwargs)\n",
      "\u001b[1;31mFileNotFoundError\u001b[0m: [Errno 2] No such file or directory: 'demo.py'"
     ]
    }
   ],
   "source": [
    "open(\"demo.py\")"
   ]
  },
  {
   "cell_type": "code",
   "execution_count": 4,
   "id": "564d5b0a-0eb7-410c-884a-640af9da2ad2",
   "metadata": {},
   "outputs": [],
   "source": [
    "f  =open(\"demo.txt\", \"w\")"
   ]
  },
  {
   "cell_type": "code",
   "execution_count": 5,
   "id": "beb256fe-e516-4ea3-b59f-b4fc5f43dce0",
   "metadata": {},
   "outputs": [
    {
     "data": {
      "text/plain": [
       "55"
      ]
     },
     "execution_count": 5,
     "metadata": {},
     "output_type": "execute_result"
    }
   ],
   "source": [
    "f.write(\"FileNotFoundError: [Errno 2] No such file or directory:\")"
   ]
  },
  {
   "cell_type": "code",
   "execution_count": 6,
   "id": "5e198362-a1f1-4ddb-bf0b-40f46abbb42c",
   "metadata": {},
   "outputs": [],
   "source": [
    "f.close()"
   ]
  },
  {
   "cell_type": "code",
   "execution_count": null,
   "id": "35897c87-e2ac-4487-b797-dfa871af7260",
   "metadata": {},
   "outputs": [],
   "source": [
    "w\n",
    "r\n",
    "r+\n",
    "a\n",
    "x"
   ]
  },
  {
   "cell_type": "code",
   "execution_count": 8,
   "id": "226627d5-5187-4e1e-a0f8-bea5ebb0ff30",
   "metadata": {},
   "outputs": [],
   "source": [
    "f1 =open(\"demo.txt\", \"r\")"
   ]
  },
  {
   "cell_type": "code",
   "execution_count": 9,
   "id": "c9ff56d1-cb17-4d03-ba59-0fe08f4d3182",
   "metadata": {},
   "outputs": [
    {
     "data": {
      "text/plain": [
       "'FileNotFoundError: [Errno 2] No such file or directory:'"
      ]
     },
     "execution_count": 9,
     "metadata": {},
     "output_type": "execute_result"
    }
   ],
   "source": [
    "f1.read()"
   ]
  },
  {
   "cell_type": "code",
   "execution_count": 10,
   "id": "e805ffde-bda9-4e36-a492-4ff420c041d0",
   "metadata": {},
   "outputs": [
    {
     "ename": "UnsupportedOperation",
     "evalue": "not writable",
     "output_type": "error",
     "traceback": [
      "\u001b[1;31m---------------------------------------------------------------------------\u001b[0m",
      "\u001b[1;31mUnsupportedOperation\u001b[0m                      Traceback (most recent call last)",
      "Cell \u001b[1;32mIn[10], line 1\u001b[0m\n\u001b[1;32m----> 1\u001b[0m f1\u001b[38;5;241m.\u001b[39mwrite(\u001b[38;5;124m\"\u001b[39m\u001b[38;5;124m310 return io_open(file, *args, **kwargs\u001b[39m\u001b[38;5;124m\"\u001b[39m)\n",
      "\u001b[1;31mUnsupportedOperation\u001b[0m: not writable"
     ]
    }
   ],
   "source": [
    "f1.write(\"310 return io_open(file, *args, **kwargs\")"
   ]
  },
  {
   "cell_type": "code",
   "execution_count": 11,
   "id": "4ef66dc6-f431-4517-b3a6-a24b5fba1d04",
   "metadata": {},
   "outputs": [],
   "source": [
    "f1.close()"
   ]
  },
  {
   "cell_type": "code",
   "execution_count": 12,
   "id": "c32529ca-8352-4529-9ee2-4bf11f865097",
   "metadata": {},
   "outputs": [
    {
     "data": {
      "text/plain": [
       "'r'"
      ]
     },
     "execution_count": 12,
     "metadata": {},
     "output_type": "execute_result"
    }
   ],
   "source": [
    "f1.mode"
   ]
  },
  {
   "cell_type": "code",
   "execution_count": 14,
   "id": "af74526b-cc25-4b08-bef9-1ed3c03d2a6e",
   "metadata": {},
   "outputs": [],
   "source": [
    "f2 =open(\"demo.txt\", \"r+\")"
   ]
  },
  {
   "cell_type": "code",
   "execution_count": 15,
   "id": "20c538a6-3b9a-4e59-9957-df18bfdb7ff0",
   "metadata": {},
   "outputs": [
    {
     "data": {
      "text/plain": [
       "40"
      ]
     },
     "execution_count": 15,
     "metadata": {},
     "output_type": "execute_result"
    }
   ],
   "source": [
    "f2.write(\"310 return io_open(file, *args, **kwargs\")"
   ]
  },
  {
   "cell_type": "code",
   "execution_count": 16,
   "id": "1759b233-992b-47d2-807b-61dc1a442bf8",
   "metadata": {},
   "outputs": [
    {
     "data": {
      "text/plain": [
       "'e or directory:'"
      ]
     },
     "execution_count": 16,
     "metadata": {},
     "output_type": "execute_result"
    }
   ],
   "source": [
    "f2.read()"
   ]
  },
  {
   "cell_type": "code",
   "execution_count": 17,
   "id": "d1b668f6-64e5-4b1f-95f8-0c8dc531438c",
   "metadata": {},
   "outputs": [],
   "source": [
    "f2.close()"
   ]
  },
  {
   "cell_type": "code",
   "execution_count": 19,
   "id": "5ae82b9e-e1e5-4ecd-b557-23757fa9d2cd",
   "metadata": {},
   "outputs": [],
   "source": [
    "f3 =open(\"demo.txt\", \"r+\")"
   ]
  },
  {
   "cell_type": "code",
   "execution_count": 20,
   "id": "e93c88ba-8ae7-41a3-821e-2bca5987a378",
   "metadata": {},
   "outputs": [
    {
     "data": {
      "text/plain": [
       "'310 return io_open(file, *args, **kwargse or directory:'"
      ]
     },
     "execution_count": 20,
     "metadata": {},
     "output_type": "execute_result"
    }
   ],
   "source": [
    "f3.read()"
   ]
  },
  {
   "cell_type": "code",
   "execution_count": 21,
   "id": "3159eca5-aa4d-44e0-89cc-36e557661d96",
   "metadata": {},
   "outputs": [
    {
     "data": {
      "text/plain": [
       "35"
      ]
     },
     "execution_count": 21,
     "metadata": {},
     "output_type": "execute_result"
    }
   ],
   "source": [
    "f3.write(\" UnsupportedOperation: not writable\")"
   ]
  },
  {
   "cell_type": "code",
   "execution_count": 22,
   "id": "247bdfe0-ac20-42ee-a301-15cd1ca47af6",
   "metadata": {},
   "outputs": [],
   "source": [
    "f3.close()"
   ]
  },
  {
   "cell_type": "code",
   "execution_count": 23,
   "id": "92dfc97e-c823-4461-9e1d-c6408408933a",
   "metadata": {},
   "outputs": [
    {
     "ename": "FileNotFoundError",
     "evalue": "[Errno 2] No such file or directory: 'demo2.txt'",
     "output_type": "error",
     "traceback": [
      "\u001b[1;31m---------------------------------------------------------------------------\u001b[0m",
      "\u001b[1;31mFileNotFoundError\u001b[0m                         Traceback (most recent call last)",
      "Cell \u001b[1;32mIn[23], line 1\u001b[0m\n\u001b[1;32m----> 1\u001b[0m \u001b[38;5;28mopen\u001b[39m(\u001b[38;5;124m\"\u001b[39m\u001b[38;5;124mdemo2.txt\u001b[39m\u001b[38;5;124m\"\u001b[39m, \u001b[38;5;124m\"\u001b[39m\u001b[38;5;124mr+\u001b[39m\u001b[38;5;124m\"\u001b[39m)\n",
      "File \u001b[1;32m~\\anaconda3\\Lib\\site-packages\\IPython\\core\\interactiveshell.py:310\u001b[0m, in \u001b[0;36m_modified_open\u001b[1;34m(file, *args, **kwargs)\u001b[0m\n\u001b[0;32m    303\u001b[0m \u001b[38;5;28;01mif\u001b[39;00m file \u001b[38;5;129;01min\u001b[39;00m {\u001b[38;5;241m0\u001b[39m, \u001b[38;5;241m1\u001b[39m, \u001b[38;5;241m2\u001b[39m}:\n\u001b[0;32m    304\u001b[0m     \u001b[38;5;28;01mraise\u001b[39;00m \u001b[38;5;167;01mValueError\u001b[39;00m(\n\u001b[0;32m    305\u001b[0m         \u001b[38;5;124mf\u001b[39m\u001b[38;5;124m\"\u001b[39m\u001b[38;5;124mIPython won\u001b[39m\u001b[38;5;124m'\u001b[39m\u001b[38;5;124mt let you open fd=\u001b[39m\u001b[38;5;132;01m{\u001b[39;00mfile\u001b[38;5;132;01m}\u001b[39;00m\u001b[38;5;124m by default \u001b[39m\u001b[38;5;124m\"\u001b[39m\n\u001b[0;32m    306\u001b[0m         \u001b[38;5;124m\"\u001b[39m\u001b[38;5;124mas it is likely to crash IPython. If you know what you are doing, \u001b[39m\u001b[38;5;124m\"\u001b[39m\n\u001b[0;32m    307\u001b[0m         \u001b[38;5;124m\"\u001b[39m\u001b[38;5;124myou can use builtins\u001b[39m\u001b[38;5;124m'\u001b[39m\u001b[38;5;124m open.\u001b[39m\u001b[38;5;124m\"\u001b[39m\n\u001b[0;32m    308\u001b[0m     )\n\u001b[1;32m--> 310\u001b[0m \u001b[38;5;28;01mreturn\u001b[39;00m io_open(file, \u001b[38;5;241m*\u001b[39margs, \u001b[38;5;241m*\u001b[39m\u001b[38;5;241m*\u001b[39mkwargs)\n",
      "\u001b[1;31mFileNotFoundError\u001b[0m: [Errno 2] No such file or directory: 'demo2.txt'"
     ]
    }
   ],
   "source": [
    "open(\"demo2.txt\", \"r+\")"
   ]
  },
  {
   "cell_type": "code",
   "execution_count": 24,
   "id": "2acf7556-5526-41da-a1e9-2d63535c505e",
   "metadata": {},
   "outputs": [
    {
     "name": "stdout",
     "output_type": "stream",
     "text": [
      "Writing demo1.txt\n"
     ]
    }
   ],
   "source": [
    "%%writefile demo1.txt\n",
    "my name is amit "
   ]
  },
  {
   "cell_type": "code",
   "execution_count": null,
   "id": "cb16b831-fc53-4b49-a413-086ce2e9873c",
   "metadata": {},
   "outputs": [],
   "source": [
    "with open(\"test_1.txt\") as f:\n",
    "    lines = f.read()\n",
    "    print(lines)"
   ]
  },
  {
   "cell_type": "code",
   "execution_count": null,
   "id": "48b6fa05-8cca-4bbe-8cfe-046217d770ef",
   "metadata": {},
   "outputs": [],
   "source": []
  },
  {
   "cell_type": "code",
   "execution_count": 25,
   "id": "33fe0839-c670-48a7-bfd5-d05165644066",
   "metadata": {},
   "outputs": [],
   "source": [
    "import os"
   ]
  },
  {
   "cell_type": "code",
   "execution_count": 26,
   "id": "cb8c4484-ca8f-4417-9c5e-c32d8d798244",
   "metadata": {},
   "outputs": [
    {
     "data": {
      "text/plain": [
       "['.ipynb_checkpoints',\n",
       " 'Conditions.ipynb',\n",
       " 'demo.txt',\n",
       " 'demo1.txt',\n",
       " 'Exception handling.ipynb',\n",
       " 'For loop.ipynb',\n",
       " 'Untitled.ipynb',\n",
       " 'Untitled1.ipynb',\n",
       " 'Untitled2.ipynb',\n",
       " 'User Define Function.ipynb']"
      ]
     },
     "execution_count": 26,
     "metadata": {},
     "output_type": "execute_result"
    }
   ],
   "source": [
    "os.listdir()"
   ]
  },
  {
   "cell_type": "code",
   "execution_count": 27,
   "id": "73dbee93-1f93-4651-973c-e035c47a7b9c",
   "metadata": {},
   "outputs": [
    {
     "data": {
      "text/plain": [
       "'C:\\\\Users\\\\amitm\\\\Class\\\\DS_10_AM'"
      ]
     },
     "execution_count": 27,
     "metadata": {},
     "output_type": "execute_result"
    }
   ],
   "source": [
    "os.getcwd()"
   ]
  },
  {
   "cell_type": "code",
   "execution_count": 33,
   "id": "2462f841-7f74-4489-8e38-e2f5eee38b87",
   "metadata": {},
   "outputs": [],
   "source": [
    "os.chdir(\"C:\\\\Users\\\\amitm\\\\Downloads\")"
   ]
  },
  {
   "cell_type": "code",
   "execution_count": 34,
   "id": "4bbafaf6-abe4-4f9f-80b4-463fb73f76b4",
   "metadata": {},
   "outputs": [
    {
     "data": {
      "text/plain": [
       "'C:\\\\Users\\\\amitm\\\\Downloads'"
      ]
     },
     "execution_count": 34,
     "metadata": {},
     "output_type": "execute_result"
    }
   ],
   "source": [
    "os.getcwd()"
   ]
  },
  {
   "cell_type": "code",
   "execution_count": 35,
   "id": "559ff699-6ba5-4cab-80d0-86cd5121609b",
   "metadata": {},
   "outputs": [
    {
     "data": {
      "text/plain": [
       "['3 sem marksheet.pdf',\n",
       " 'Account details.png',\n",
       " 'Advertising.csv',\n",
       " 'desktop.ini',\n",
       " 'exports-to-oceanic-countries.csv',\n",
       " 'Helio clinic',\n",
       " 'Job Description.pdf',\n",
       " 'KKN_Classification.ipynb',\n",
       " 'KNN.pdf',\n",
       " 'Logistic Regression.ipynb',\n",
       " \"Naive Bay's.ipynb\",\n",
       " 'Naive Bayes.pdf',\n",
       " 'top_50_commodities_full_data.xls',\n",
       " 'Trainers Interview Feedback.xlsx',\n",
       " 'VTU-Tracks Curriculum Final.xlsx']"
      ]
     },
     "execution_count": 35,
     "metadata": {},
     "output_type": "execute_result"
    }
   ],
   "source": [
    "os.listdir()"
   ]
  },
  {
   "cell_type": "code",
   "execution_count": 36,
   "id": "6441a664-fd01-4be6-91ca-66f80b4dc016",
   "metadata": {},
   "outputs": [],
   "source": [
    "os.mkdir(\"newdir\")"
   ]
  },
  {
   "cell_type": "code",
   "execution_count": 37,
   "id": "5657f6c9-ebc6-4bbf-9c43-d0ecf61af799",
   "metadata": {},
   "outputs": [],
   "source": [
    "os.chdir('C:\\\\Users\\\\amitm\\\\Downloads\\\\newdir')"
   ]
  },
  {
   "cell_type": "code",
   "execution_count": 38,
   "id": "3e9845db-89a6-4f04-ac12-b1c07bc70903",
   "metadata": {},
   "outputs": [
    {
     "data": {
      "text/plain": [
       "'C:\\\\Users\\\\amitm\\\\Downloads\\\\newdir'"
      ]
     },
     "execution_count": 38,
     "metadata": {},
     "output_type": "execute_result"
    }
   ],
   "source": [
    "os.getcwd()"
   ]
  },
  {
   "cell_type": "code",
   "execution_count": 39,
   "id": "7cea2f0e-ecaf-4d2a-8e1f-6a907f0ff375",
   "metadata": {},
   "outputs": [
    {
     "data": {
      "text/plain": [
       "[]"
      ]
     },
     "execution_count": 39,
     "metadata": {},
     "output_type": "execute_result"
    }
   ],
   "source": [
    "os.listdir()"
   ]
  },
  {
   "cell_type": "code",
   "execution_count": 42,
   "id": "47b2c08e-3398-411d-a69d-ed123ed78491",
   "metadata": {},
   "outputs": [
    {
     "name": "stdout",
     "output_type": "stream",
     "text": [
      "Writing demo2.txt\n"
     ]
    }
   ],
   "source": [
    "%%writefile demo2.txt\n",
    "my name is amit "
   ]
  },
  {
   "cell_type": "code",
   "execution_count": 43,
   "id": "2ebed483-e50e-46e2-9cb8-3698c4b1f6aa",
   "metadata": {},
   "outputs": [
    {
     "data": {
      "text/plain": [
       "['demo1.txt', 'demo2.txt']"
      ]
     },
     "execution_count": 43,
     "metadata": {},
     "output_type": "execute_result"
    }
   ],
   "source": [
    "os.listdir()"
   ]
  },
  {
   "cell_type": "code",
   "execution_count": 44,
   "id": "54477610-2535-48e7-ac77-7f1d76030cb7",
   "metadata": {},
   "outputs": [],
   "source": [
    "os.remove('demo1.txt')"
   ]
  },
  {
   "cell_type": "code",
   "execution_count": 45,
   "id": "19c8cd5b-5faf-4705-82de-8aff0ee23f9d",
   "metadata": {},
   "outputs": [],
   "source": [
    "os.remove('demo2.txt')"
   ]
  },
  {
   "cell_type": "code",
   "execution_count": 46,
   "id": "0a688357-442b-4594-9480-1ca7f4f2f19c",
   "metadata": {},
   "outputs": [
    {
     "data": {
      "text/plain": [
       "[]"
      ]
     },
     "execution_count": 46,
     "metadata": {},
     "output_type": "execute_result"
    }
   ],
   "source": [
    "os.listdir()"
   ]
  },
  {
   "cell_type": "code",
   "execution_count": 47,
   "id": "e45229e2-2d66-4ad4-a36a-a86f878f9375",
   "metadata": {},
   "outputs": [],
   "source": [
    "os.chdir('C:\\\\Users\\\\amitm\\\\Downloads')"
   ]
  },
  {
   "cell_type": "code",
   "execution_count": 48,
   "id": "c0b8410e-a14c-44d0-a4f8-49ecc664482b",
   "metadata": {},
   "outputs": [
    {
     "data": {
      "text/plain": [
       "['3 sem marksheet.pdf',\n",
       " 'Account details.png',\n",
       " 'Advertising.csv',\n",
       " 'desktop.ini',\n",
       " 'exports-to-oceanic-countries.csv',\n",
       " 'Helio clinic',\n",
       " 'Job Description.pdf',\n",
       " 'KKN_Classification.ipynb',\n",
       " 'KNN.pdf',\n",
       " 'Logistic Regression.ipynb',\n",
       " \"Naive Bay's.ipynb\",\n",
       " 'Naive Bayes.pdf',\n",
       " 'newdir',\n",
       " 'top_50_commodities_full_data.xls',\n",
       " 'Trainers Interview Feedback.xlsx',\n",
       " 'VTU-Tracks Curriculum Final.xlsx']"
      ]
     },
     "execution_count": 48,
     "metadata": {},
     "output_type": "execute_result"
    }
   ],
   "source": [
    "os.listdir()"
   ]
  },
  {
   "cell_type": "code",
   "execution_count": 49,
   "id": "a2caf4a6-cb59-47a2-bb43-7e92f004239a",
   "metadata": {},
   "outputs": [],
   "source": [
    "os.rmdir(\"newdir\")"
   ]
  },
  {
   "cell_type": "code",
   "execution_count": 50,
   "id": "7176f092-8170-4bf9-8b83-202b44faf858",
   "metadata": {},
   "outputs": [
    {
     "data": {
      "text/plain": [
       "['3 sem marksheet.pdf',\n",
       " 'Account details.png',\n",
       " 'Advertising.csv',\n",
       " 'desktop.ini',\n",
       " 'exports-to-oceanic-countries.csv',\n",
       " 'Helio clinic',\n",
       " 'Job Description.pdf',\n",
       " 'KKN_Classification.ipynb',\n",
       " 'KNN.pdf',\n",
       " 'Logistic Regression.ipynb',\n",
       " \"Naive Bay's.ipynb\",\n",
       " 'Naive Bayes.pdf',\n",
       " 'top_50_commodities_full_data.xls',\n",
       " 'Trainers Interview Feedback.xlsx',\n",
       " 'VTU-Tracks Curriculum Final.xlsx']"
      ]
     },
     "execution_count": 50,
     "metadata": {},
     "output_type": "execute_result"
    }
   ],
   "source": [
    "os.listdir()"
   ]
  },
  {
   "cell_type": "code",
   "execution_count": 51,
   "id": "fcffc888-fe3c-4297-a7c5-cd97203a5e24",
   "metadata": {},
   "outputs": [],
   "source": [
    "os.chdir('C:\\\\Users\\\\amitm\\\\Class\\\\DS_10_AM')"
   ]
  },
  {
   "cell_type": "code",
   "execution_count": 52,
   "id": "36f679f2-b94a-4a8e-b356-20d7497692ef",
   "metadata": {},
   "outputs": [
    {
     "data": {
      "text/plain": [
       "'C:\\\\Users\\\\amitm\\\\Class\\\\DS_10_AM'"
      ]
     },
     "execution_count": 52,
     "metadata": {},
     "output_type": "execute_result"
    }
   ],
   "source": [
    "os.getcwd()"
   ]
  },
  {
   "cell_type": "code",
   "execution_count": null,
   "id": "178b0ee3-2212-49a4-9308-7b0025a78891",
   "metadata": {},
   "outputs": [],
   "source": []
  }
 ],
 "metadata": {
  "kernelspec": {
   "display_name": "Python 3 (ipykernel)",
   "language": "python",
   "name": "python3"
  },
  "language_info": {
   "codemirror_mode": {
    "name": "ipython",
    "version": 3
   },
   "file_extension": ".py",
   "mimetype": "text/x-python",
   "name": "python",
   "nbconvert_exporter": "python",
   "pygments_lexer": "ipython3",
   "version": "3.11.7"
  }
 },
 "nbformat": 4,
 "nbformat_minor": 5
}
