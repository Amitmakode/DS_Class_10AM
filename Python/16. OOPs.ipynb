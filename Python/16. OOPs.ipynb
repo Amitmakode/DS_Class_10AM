{
 "cells": [
  {
   "cell_type": "code",
   "execution_count": 2,
   "id": "e487fb65-c506-491b-bcb1-25bc10f16ccb",
   "metadata": {},
   "outputs": [],
   "source": [
    "class person:\n",
    "     def __init__(self, name, surname, emailid , year_of_birth): \n",
    "         self.name = name\n",
    "         self.surname = surname\n",
    "         self.emailid = emailid\n",
    "         self.year_of_birth = year_of_birth"
   ]
  },
  {
   "cell_type": "code",
   "execution_count": 9,
   "id": "79a8e124-97c7-45ec-a135-46b8c7fed9ef",
   "metadata": {},
   "outputs": [],
   "source": [
    "obj = person(\"rohit\", \"sharma\", \"rohit@gmail.com\", \"1988\")"
   ]
  },
  {
   "cell_type": "code",
   "execution_count": 6,
   "id": "80984ca6-8f6c-4ff2-85b0-7cc9ef212d93",
   "metadata": {},
   "outputs": [
    {
     "data": {
      "text/plain": [
       "'rohit'"
      ]
     },
     "execution_count": 6,
     "metadata": {},
     "output_type": "execute_result"
    }
   ],
   "source": [
    "obj.name"
   ]
  },
  {
   "cell_type": "code",
   "execution_count": 7,
   "id": "d2504d80-eed4-413c-8869-f64d67975d4d",
   "metadata": {},
   "outputs": [
    {
     "data": {
      "text/plain": [
       "'1988'"
      ]
     },
     "execution_count": 7,
     "metadata": {},
     "output_type": "execute_result"
    }
   ],
   "source": [
    "obj.year_of_birth"
   ]
  },
  {
   "cell_type": "code",
   "execution_count": 10,
   "id": "3b1b4998-4f55-470a-a761-45dab6904256",
   "metadata": {},
   "outputs": [],
   "source": [
    "obj1 = person(\"virat\", \"kohli\", \"virat@gmail.com\", \"1990\")"
   ]
  },
  {
   "cell_type": "code",
   "execution_count": 12,
   "id": "3de44f4a-8155-4128-a299-229e38bee125",
   "metadata": {},
   "outputs": [
    {
     "data": {
      "text/plain": [
       "'virat@gmail.com'"
      ]
     },
     "execution_count": 12,
     "metadata": {},
     "output_type": "execute_result"
    }
   ],
   "source": [
    "obj1.emailid"
   ]
  },
  {
   "cell_type": "code",
   "execution_count": 13,
   "id": "73b7912c-8faf-4788-9193-f3807c089fc2",
   "metadata": {},
   "outputs": [],
   "source": [
    "####################"
   ]
  },
  {
   "cell_type": "code",
   "execution_count": 14,
   "id": "8497afc3-de22-4bfc-9cab-33ed4ac7a284",
   "metadata": {},
   "outputs": [],
   "source": [
    "class person1:\n",
    "\n",
    "    def __init__(self, name, surname, emailid, year_of_birth):\n",
    "        self.name = name\n",
    "        self.surname = surname\n",
    "        self.emailid = emailid\n",
    "        self.year_of_birth = year_of_birth\n",
    "        \n",
    "    def __init__(self, name,  year_of_birth):\n",
    "        self.name = name\n",
    "        self. year_of_birth= year_of_birth\n",
    "\n",
    "    def __init__(self, name, surname, year_of_birth):\n",
    "        self.name = name\n",
    "        self.surname = surname \n",
    "        self. year_of_birth= year_of_birth \n",
    "    \n",
    "        \n",
    "    def age(self, curretn_year):\n",
    "        return curretn_year - self.year_of_birth "
   ]
  },
  {
   "cell_type": "code",
   "execution_count": 17,
   "id": "7c8c31f8-9fae-49a7-bcb2-9390b4405bd6",
   "metadata": {},
   "outputs": [],
   "source": [
    "obj = person1(\"rohit\", \"sharma\",   \"1988\")"
   ]
  },
  {
   "cell_type": "code",
   "execution_count": 18,
   "id": "a057f02e-b642-4056-83d9-4dbb28134acd",
   "metadata": {},
   "outputs": [
    {
     "data": {
      "text/plain": [
       "'1988'"
      ]
     },
     "execution_count": 18,
     "metadata": {},
     "output_type": "execute_result"
    }
   ],
   "source": [
    "obj.year_of_birth"
   ]
  },
  {
   "cell_type": "code",
   "execution_count": 21,
   "id": "39b36ef6-4a59-4faa-8b1b-93032eb2755d",
   "metadata": {},
   "outputs": [],
   "source": [
    "class person2:\n",
    "\n",
    "    def __init__(self, name, surname, emailid, year_of_birth):\n",
    "        self.name1 = name\n",
    "        self.surname1 = surname\n",
    "        self.emailid1 = emailid\n",
    "        self.year_of_birth = year_of_birth\n",
    "           \n",
    "    def age(self, curretn_year):\n",
    "        return curretn_year - self.year_of_birth \n",
    "    \n",
    "    def age_2(self, curretn_year):\n",
    "        return curretn_year "
   ]
  },
  {
   "cell_type": "code",
   "execution_count": 25,
   "id": "03fe32da-1273-4fe0-bd87-400bc8961394",
   "metadata": {},
   "outputs": [],
   "source": [
    "obj = person2(\"virat\", \"kohli\", \"virat@gmail.com\", 1990)"
   ]
  },
  {
   "cell_type": "code",
   "execution_count": 26,
   "id": "a61f03a7-9076-4f04-a375-e4a841838eb7",
   "metadata": {},
   "outputs": [
    {
     "data": {
      "text/plain": [
       "35"
      ]
     },
     "execution_count": 26,
     "metadata": {},
     "output_type": "execute_result"
    }
   ],
   "source": [
    "obj.age(2025)"
   ]
  },
  {
   "cell_type": "code",
   "execution_count": 27,
   "id": "809e946f-cdb0-4285-b42c-e87e006c76f0",
   "metadata": {},
   "outputs": [
    {
     "data": {
      "text/plain": [
       "2025"
      ]
     },
     "execution_count": 27,
     "metadata": {},
     "output_type": "execute_result"
    }
   ],
   "source": [
    "obj.age_2(2025)"
   ]
  },
  {
   "cell_type": "code",
   "execution_count": 28,
   "id": "8a343fac-c6f2-47dd-a822-b722910dd706",
   "metadata": {},
   "outputs": [],
   "source": [
    "class person4:                             # parents class\n",
    "\n",
    "    name = \"amit\"\n",
    "    surname = \"kumar\"\n",
    "    yob = 1990\n",
    "\n",
    "    def age(self , current_year ):\n",
    "        return current_year - self.yob\n",
    "    \n",
    "    def age1(self , current_year ):\n",
    "        return current_year - self.yob\n",
    "\n",
    "\n",
    "\n",
    "class employee(person4):           #child class\n",
    "    name = \"amit\"\n",
    "    surname = \"singh\"\n",
    "    yob = 1991"
   ]
  },
  {
   "cell_type": "code",
   "execution_count": 29,
   "id": "627b1e09-67e7-497e-b299-e4feb22fa3be",
   "metadata": {},
   "outputs": [],
   "source": [
    "o1 = person4()"
   ]
  },
  {
   "cell_type": "code",
   "execution_count": 30,
   "id": "9a4b9815-4cba-4ed2-ade1-d79ad90f808a",
   "metadata": {},
   "outputs": [],
   "source": [
    "o2 = employee()"
   ]
  },
  {
   "cell_type": "code",
   "execution_count": 31,
   "id": "1cef5041-0bed-42eb-9b26-19ff9863ab1d",
   "metadata": {},
   "outputs": [
    {
     "data": {
      "text/plain": [
       "'amit'"
      ]
     },
     "execution_count": 31,
     "metadata": {},
     "output_type": "execute_result"
    }
   ],
   "source": [
    "o1.name"
   ]
  },
  {
   "cell_type": "code",
   "execution_count": 32,
   "id": "7317cd92-925f-49c2-a152-b336cfc15805",
   "metadata": {},
   "outputs": [
    {
     "data": {
      "text/plain": [
       "'singh'"
      ]
     },
     "execution_count": 32,
     "metadata": {},
     "output_type": "execute_result"
    }
   ],
   "source": [
    "o2.surname"
   ]
  },
  {
   "cell_type": "code",
   "execution_count": 33,
   "id": "f134ab09-17d5-4ec2-aa3d-a984c8c758ed",
   "metadata": {},
   "outputs": [
    {
     "data": {
      "text/plain": [
       "34"
      ]
     },
     "execution_count": 33,
     "metadata": {},
     "output_type": "execute_result"
    }
   ],
   "source": [
    "o2.age(2025)"
   ]
  },
  {
   "cell_type": "code",
   "execution_count": 34,
   "id": "56fbce4f-41c1-4edb-9819-5aa2fad38b3f",
   "metadata": {},
   "outputs": [
    {
     "data": {
      "text/plain": [
       "35"
      ]
     },
     "execution_count": 34,
     "metadata": {},
     "output_type": "execute_result"
    }
   ],
   "source": [
    "o1.age(2025)"
   ]
  },
  {
   "cell_type": "code",
   "execution_count": 35,
   "id": "ecff17f9-92f0-413a-a738-903fd0de854d",
   "metadata": {},
   "outputs": [],
   "source": [
    "class ineuron:\n",
    "    def student(self):\n",
    "        print(\"print the details of all the students\")\n",
    "    def achivers(self):\n",
    "        print(\"print the list of all the achiver \")\n",
    "    def hall_of_fame(self):\n",
    "        print(\"print everyone form hall of fame \")\n",
    "\n",
    "\n",
    "\n",
    "class ineuron_vision(ineuron):\n",
    "\n",
    "    def student(self):      #override method\n",
    "        print(\"these are the filters student list \")"
   ]
  },
  {
   "cell_type": "code",
   "execution_count": 36,
   "id": "b2d49c96-9f69-412f-becb-c5773ada399b",
   "metadata": {},
   "outputs": [],
   "source": [
    "obj1 = ineuron()"
   ]
  },
  {
   "cell_type": "code",
   "execution_count": 38,
   "id": "ea00234c-6a99-4959-ae9a-ad0715afd4a1",
   "metadata": {},
   "outputs": [
    {
     "name": "stdout",
     "output_type": "stream",
     "text": [
      "print the details of all the students\n"
     ]
    }
   ],
   "source": [
    "obj1.student()"
   ]
  },
  {
   "cell_type": "code",
   "execution_count": 39,
   "id": "dcacf42d-cb26-46b8-822c-7b7c42b60cf9",
   "metadata": {},
   "outputs": [],
   "source": [
    "obj2 = ineuron_vision()"
   ]
  },
  {
   "cell_type": "code",
   "execution_count": 40,
   "id": "8e88967e-652e-40c7-9bd6-f2c78bb7891e",
   "metadata": {},
   "outputs": [
    {
     "name": "stdout",
     "output_type": "stream",
     "text": [
      "these are the filters student list \n"
     ]
    }
   ],
   "source": [
    "obj2.student()"
   ]
  },
  {
   "cell_type": "code",
   "execution_count": 41,
   "id": "90ef8e68-5b39-4ec3-93ae-5ba3b72ff64f",
   "metadata": {},
   "outputs": [],
   "source": [
    "class person11:\n",
    "     def __init__(self, name, surname, emailid ): \n",
    "         self._name = name         #private\n",
    "         self.surname = surname       #public\n",
    "         self.__emailid = emailid   #protected"
   ]
  },
  {
   "cell_type": "code",
   "execution_count": 43,
   "id": "6100fe01-7044-408a-8839-279bf0a52f3b",
   "metadata": {},
   "outputs": [],
   "source": [
    "obj = person11(\"rohit\", \"sharma\", \"rohit@gmail.com\")"
   ]
  },
  {
   "cell_type": "code",
   "execution_count": 44,
   "id": "d38d75a9-7035-44c6-b88e-3797388d9728",
   "metadata": {},
   "outputs": [
    {
     "data": {
      "text/plain": [
       "'sharma'"
      ]
     },
     "execution_count": 44,
     "metadata": {},
     "output_type": "execute_result"
    }
   ],
   "source": [
    "obj.surname"
   ]
  },
  {
   "cell_type": "code",
   "execution_count": 45,
   "id": "9987a56d-bb50-4823-8f86-6b215893fc54",
   "metadata": {},
   "outputs": [
    {
     "data": {
      "text/plain": [
       "'rohit'"
      ]
     },
     "execution_count": 45,
     "metadata": {},
     "output_type": "execute_result"
    }
   ],
   "source": [
    "obj._name"
   ]
  },
  {
   "cell_type": "code",
   "execution_count": 46,
   "id": "49c42f40-f3a6-4956-9b20-7ddb54b330f1",
   "metadata": {},
   "outputs": [
    {
     "ename": "AttributeError",
     "evalue": "'person11' object has no attribute '__emailid'",
     "output_type": "error",
     "traceback": [
      "\u001b[1;31m---------------------------------------------------------------------------\u001b[0m",
      "\u001b[1;31mAttributeError\u001b[0m                            Traceback (most recent call last)",
      "Cell \u001b[1;32mIn[46], line 1\u001b[0m\n\u001b[1;32m----> 1\u001b[0m obj\u001b[38;5;241m.\u001b[39m__emailid\n",
      "\u001b[1;31mAttributeError\u001b[0m: 'person11' object has no attribute '__emailid'"
     ]
    }
   ],
   "source": [
    "obj.__emailid"
   ]
  },
  {
   "cell_type": "code",
   "execution_count": 47,
   "id": "567b975b-cd72-4ce4-a734-0a6b48af0cfb",
   "metadata": {},
   "outputs": [
    {
     "data": {
      "text/plain": [
       "'rohit@gmail.com'"
      ]
     },
     "execution_count": 47,
     "metadata": {},
     "output_type": "execute_result"
    }
   ],
   "source": [
    "obj._person11__emailid"
   ]
  },
  {
   "cell_type": "code",
   "execution_count": 48,
   "id": "f69a13df-9daf-4760-b5c1-50830c8a76fc",
   "metadata": {},
   "outputs": [],
   "source": [
    "class bank :             # perents class \n",
    "    def transaction(self) :\n",
    "        print(\"total transaction value \")\n",
    "    def account_opening(self):\n",
    "        print(\"this will show you your account open status \")\n",
    "    def deposite(self):\n",
    "        print(\"this will show your deposited amount\")\n",
    "\n",
    "\n",
    "class HDFC_bank(bank):             # child class\n",
    "    def hdfc_to_icici(self):\n",
    "        print(\"this will show you all the transaction happend to icici throuhg hdfc\")\n",
    "\n",
    "class icici(HDFC_bank):          # child class\n",
    "    pass   "
   ]
  },
  {
   "cell_type": "code",
   "execution_count": 49,
   "id": "3a3975c1-5577-4ade-b2f0-f72d41c10d1a",
   "metadata": {},
   "outputs": [],
   "source": [
    "bo = bank()"
   ]
  },
  {
   "cell_type": "code",
   "execution_count": 50,
   "id": "ea4c9f3e-4fa5-4e87-ba5a-504723215355",
   "metadata": {},
   "outputs": [],
   "source": [
    "bo1 = HDFC_bank()"
   ]
  },
  {
   "cell_type": "code",
   "execution_count": 51,
   "id": "e329c78a-dccb-4f83-8aa8-63a3f7adbc99",
   "metadata": {},
   "outputs": [],
   "source": [
    "bo2 = icici()"
   ]
  },
  {
   "cell_type": "code",
   "execution_count": null,
   "id": "dc04c71c-f95a-4e92-a754-468cc2f76a47",
   "metadata": {},
   "outputs": [],
   "source": []
  },
  {
   "cell_type": "code",
   "execution_count": null,
   "id": "f44872b2-b1fb-4463-9acd-132235bd3428",
   "metadata": {},
   "outputs": [],
   "source": []
  },
  {
   "cell_type": "code",
   "execution_count": 58,
   "id": "542284e5-c104-4cb9-a049-4ad34bfb3fb1",
   "metadata": {},
   "outputs": [],
   "source": [
    "class bank :\n",
    "    def transaction(self) :\n",
    "        print(\"total transaction value \")\n",
    "    def account_opening(self):\n",
    "        print(\"this will show you your account open status \")\n",
    "    def deposite(self):\n",
    "        print(\"this will show your deposited amount\")\n",
    "    def test(self):                          # override code\n",
    "        print(\"this is a test methond form bank class \")\n",
    "\n",
    "\n",
    "class HDFC_bank:\n",
    "    def hdfc_to_icici(self):\n",
    "        print(\"this will show you all the transaction happend to icici throuhg hdfc\")\n",
    "    def test(self):           #override code\n",
    "        print(\"this is a test method form hdfc bank \")\n",
    "\n",
    "class ineron_bank:\n",
    "    def account_status_icici(self):\n",
    "        print(\"print a account status in icici \")\n",
    "\n",
    "class icici(HDFC_bank, bank,  ineron_bank):\n",
    "    pass"
   ]
  },
  {
   "cell_type": "code",
   "execution_count": 59,
   "id": "07ceda9e-86a9-4329-a965-8c487f277e61",
   "metadata": {},
   "outputs": [],
   "source": [
    "object = bank()"
   ]
  },
  {
   "cell_type": "code",
   "execution_count": 60,
   "id": "1a5872fa-b66f-4834-af0b-385fadff6c02",
   "metadata": {},
   "outputs": [],
   "source": [
    "object1 = HDFC_bank()"
   ]
  },
  {
   "cell_type": "code",
   "execution_count": 61,
   "id": "32a152c8-6505-4b9e-9bd3-da7ca2a52291",
   "metadata": {},
   "outputs": [],
   "source": [
    "object2 = ineron_bank()"
   ]
  },
  {
   "cell_type": "code",
   "execution_count": 62,
   "id": "76bd40f2-723e-4e26-920e-78f6231066a7",
   "metadata": {},
   "outputs": [],
   "source": [
    "object3 = icici()"
   ]
  },
  {
   "cell_type": "code",
   "execution_count": 63,
   "id": "81ee4fb3-2c42-47e1-a193-d6d85a09c843",
   "metadata": {},
   "outputs": [
    {
     "name": "stdout",
     "output_type": "stream",
     "text": [
      "this is a test method form hdfc bank \n"
     ]
    }
   ],
   "source": [
    "object3.test()"
   ]
  },
  {
   "cell_type": "code",
   "execution_count": null,
   "id": "916a02ac-6cdb-44cd-a448-616a51e5c46d",
   "metadata": {},
   "outputs": [],
   "source": []
  }
 ],
 "metadata": {
  "kernelspec": {
   "display_name": "Python 3 (ipykernel)",
   "language": "python",
   "name": "python3"
  },
  "language_info": {
   "codemirror_mode": {
    "name": "ipython",
    "version": 3
   },
   "file_extension": ".py",
   "mimetype": "text/x-python",
   "name": "python",
   "nbconvert_exporter": "python",
   "pygments_lexer": "ipython3",
   "version": "3.11.7"
  }
 },
 "nbformat": 4,
 "nbformat_minor": 5
}
