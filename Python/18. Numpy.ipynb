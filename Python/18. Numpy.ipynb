{
 "cells": [
  {
   "cell_type": "code",
   "execution_count": null,
   "id": "34881e63-f60e-4e7f-9581-443e6e21d958",
   "metadata": {},
   "outputs": [],
   "source": [
    "!pip install numpy"
   ]
  },
  {
   "cell_type": "code",
   "execution_count": 20,
   "id": "9a63edbc-bff9-48f5-b96d-648109a5c151",
   "metadata": {},
   "outputs": [],
   "source": [
    "import numpy as np"
   ]
  },
  {
   "cell_type": "code",
   "execution_count": null,
   "id": "142b426d-bf1a-4448-8044-36f78d4b6636",
   "metadata": {},
   "outputs": [],
   "source": [
    "## Why NuMpy?\n",
    "\n",
    "- Mathematical and logical operations on **arrays**.\n",
    "\n",
    "- Efficient storage and manipulation of **numerical arrays** is which is fundamental in  the process of  **data science**.\n",
    "\n",
    "- NumPy arrays form the core of nearly the entire **ecosystem** of **data science** tools in Python,"
   ]
  },
  {
   "cell_type": "code",
   "execution_count": 2,
   "id": "2fddaf85-e10e-4f1c-9a9a-282ab207da75",
   "metadata": {},
   "outputs": [
    {
     "name": "stdout",
     "output_type": "stream",
     "text": [
      "pure python version= 0.4732217788696289\n",
      "numpy = 0.009211063385009766\n"
     ]
    }
   ],
   "source": [
    "import time as tm\n",
    "\n",
    "size_1 = 1000000\n",
    "\n",
    "def pure_python_version():\n",
    "    start_time_pp =  tm.time() ## time of start of code execution\n",
    "    list1 = range(size_1)\n",
    "    list2 = range(size_1)\n",
    "    sum_list=[list1[i]+list2[i] for i in range(len(list1))]\n",
    "    end_time_pp =  tm.time()\n",
    "    return end_time_pp - start_time_pp ## end time for execution (difference)\n",
    "\n",
    "def numpy_version():\n",
    "    start_time_np = tm.time()\n",
    "    array1 = np.arange(size_1)\n",
    "    array2 =  np.arange(size_1)\n",
    "    sum_array = array1 + array2\n",
    "    end_time_np = tm.time()\n",
    "    return end_time_np - start_time_np ## end time for execution (difference)\n",
    "\n",
    "python_time = pure_python_version()\n",
    "numpy_time  = numpy_version()\n",
    "\n",
    "print(\"pure python version=\",python_time)\n",
    "print(\"numpy =\",numpy_time)"
   ]
  },
  {
   "cell_type": "code",
   "execution_count": 3,
   "id": "6106bcb1-6d08-4aed-ab51-4f091f2051d3",
   "metadata": {},
   "outputs": [],
   "source": [
    "my_list=[2,3,4,6,7,8]"
   ]
  },
  {
   "cell_type": "code",
   "execution_count": 4,
   "id": "620478c1-388e-40e4-9076-8796fa0eb81a",
   "metadata": {},
   "outputs": [
    {
     "data": {
      "text/plain": [
       "list"
      ]
     },
     "execution_count": 4,
     "metadata": {},
     "output_type": "execute_result"
    }
   ],
   "source": [
    "type(my_list)"
   ]
  },
  {
   "cell_type": "code",
   "execution_count": 5,
   "id": "313268bf-8046-4e67-8d2d-7f620d552bd0",
   "metadata": {},
   "outputs": [],
   "source": [
    "aar =np.array(my_list)"
   ]
  },
  {
   "cell_type": "code",
   "execution_count": 7,
   "id": "5b6c710e-44cb-492b-983f-aecf563ca25b",
   "metadata": {},
   "outputs": [
    {
     "data": {
      "text/plain": [
       "numpy.ndarray"
      ]
     },
     "execution_count": 7,
     "metadata": {},
     "output_type": "execute_result"
    }
   ],
   "source": [
    "type(aar)"
   ]
  },
  {
   "cell_type": "code",
   "execution_count": 8,
   "id": "665d81dc-abcb-4fb8-82a9-fd9e5cd8fe8c",
   "metadata": {},
   "outputs": [
    {
     "data": {
      "text/plain": [
       "1"
      ]
     },
     "execution_count": 8,
     "metadata": {},
     "output_type": "execute_result"
    }
   ],
   "source": [
    "aar.ndim"
   ]
  },
  {
   "cell_type": "code",
   "execution_count": 22,
   "id": "06402e9a-fba2-4576-baa3-509b851cccf1",
   "metadata": {},
   "outputs": [
    {
     "data": {
      "text/plain": [
       "numpy.ndarray"
      ]
     },
     "execution_count": 22,
     "metadata": {},
     "output_type": "execute_result"
    }
   ],
   "source": [
    "array_2 = [[1,2,3],[4,5,6],[7,8,9]]\n",
    "array_3= np.array(array_2)\n",
    "array_3\n",
    "type(array_3)"
   ]
  },
  {
   "cell_type": "code",
   "execution_count": 24,
   "id": "f5ba5fe2-052b-47b0-b6d0-568e1ed9f792",
   "metadata": {},
   "outputs": [
    {
     "data": {
      "text/plain": [
       "list"
      ]
     },
     "execution_count": 24,
     "metadata": {},
     "output_type": "execute_result"
    }
   ],
   "source": [
    "type(array_2)"
   ]
  },
  {
   "cell_type": "code",
   "execution_count": 25,
   "id": "9095766e-4c7b-4a0f-8292-0f922956c516",
   "metadata": {},
   "outputs": [
    {
     "data": {
      "text/plain": [
       "2"
      ]
     },
     "execution_count": 25,
     "metadata": {},
     "output_type": "execute_result"
    }
   ],
   "source": [
    "array_3.ndim"
   ]
  },
  {
   "cell_type": "code",
   "execution_count": 26,
   "id": "7b5791fd-c614-4017-abd8-091ece74bcf7",
   "metadata": {},
   "outputs": [
    {
     "data": {
      "text/plain": [
       "(3, 3)"
      ]
     },
     "execution_count": 26,
     "metadata": {},
     "output_type": "execute_result"
    }
   ],
   "source": [
    "array_3.shape"
   ]
  },
  {
   "cell_type": "code",
   "execution_count": 27,
   "id": "c568806f-7985-4a86-a446-fd135b7e195e",
   "metadata": {},
   "outputs": [
    {
     "name": "stdout",
     "output_type": "stream",
     "text": [
      "[[[[[[[[[[[[1 2 3 7 5 1]]]]]]]]]]]]\n"
     ]
    },
    {
     "data": {
      "text/plain": [
       "12"
      ]
     },
     "execution_count": 27,
     "metadata": {},
     "output_type": "execute_result"
    }
   ],
   "source": [
    "a = np.array([1, 2, 3,7,5,1], ndmin = 12) \n",
    "print (a)\n",
    "np.ndim(a)"
   ]
  },
  {
   "cell_type": "code",
   "execution_count": 28,
   "id": "be8a4270-e4b6-4907-801e-9a3ae787d931",
   "metadata": {},
   "outputs": [
    {
     "name": "stdout",
     "output_type": "stream",
     "text": [
      "[1.+0.j 2.+0.j 3.+0.j 4.+0.j]\n"
     ]
    }
   ],
   "source": [
    "a = np.array([1, 2, 3, 4], dtype = complex) \n",
    "print (a)"
   ]
  },
  {
   "cell_type": "code",
   "execution_count": 29,
   "id": "8c3fcf9f-9118-4315-a90c-ceb8001f9243",
   "metadata": {},
   "outputs": [
    {
     "data": {
      "text/plain": [
       "3"
      ]
     },
     "execution_count": 29,
     "metadata": {},
     "output_type": "execute_result"
    }
   ],
   "source": [
    "len(array_3)"
   ]
  },
  {
   "cell_type": "code",
   "execution_count": 30,
   "id": "31e9277f-fb52-4b1a-8d7f-debea2378e9b",
   "metadata": {},
   "outputs": [
    {
     "data": {
      "text/plain": [
       "array([7, 8, 9])"
      ]
     },
     "execution_count": 30,
     "metadata": {},
     "output_type": "execute_result"
    }
   ],
   "source": [
    "array_3[2] "
   ]
  },
  {
   "cell_type": "code",
   "execution_count": 31,
   "id": "09220957-faa7-4afb-a6e4-e7161f2768f3",
   "metadata": {},
   "outputs": [
    {
     "data": {
      "text/plain": [
       "array([[1, 2, 3],\n",
       "       [4, 5, 6],\n",
       "       [7, 8, 9]])"
      ]
     },
     "execution_count": 31,
     "metadata": {},
     "output_type": "execute_result"
    }
   ],
   "source": [
    "array_3"
   ]
  },
  {
   "cell_type": "code",
   "execution_count": 32,
   "id": "5badaa66-4249-43ff-b80f-16f1a43bde4a",
   "metadata": {},
   "outputs": [
    {
     "data": {
      "text/plain": [
       "array([2, 5, 8])"
      ]
     },
     "execution_count": 32,
     "metadata": {},
     "output_type": "execute_result"
    }
   ],
   "source": [
    "array_3[:,1]"
   ]
  },
  {
   "cell_type": "code",
   "execution_count": 33,
   "id": "13c06e8b-f782-417e-8175-7eb5bca9ad75",
   "metadata": {},
   "outputs": [
    {
     "data": {
      "text/plain": [
       "array([2])"
      ]
     },
     "execution_count": 33,
     "metadata": {},
     "output_type": "execute_result"
    }
   ],
   "source": [
    "array_3[:1,1]"
   ]
  },
  {
   "cell_type": "code",
   "execution_count": 34,
   "id": "dd07ebee-7361-49fe-8c1e-c875eee40b95",
   "metadata": {},
   "outputs": [
    {
     "data": {
      "text/plain": [
       "array([1, 2, 3, 4, 5, 6, 7, 8, 9])"
      ]
     },
     "execution_count": 34,
     "metadata": {},
     "output_type": "execute_result"
    }
   ],
   "source": [
    "np.arange(1,10)"
   ]
  },
  {
   "cell_type": "code",
   "execution_count": 35,
   "id": "d3cb2cca-2ead-427b-9d01-a49655680a9c",
   "metadata": {},
   "outputs": [
    {
     "data": {
      "text/plain": [
       "array([1, 3, 5, 7, 9])"
      ]
     },
     "execution_count": 35,
     "metadata": {},
     "output_type": "execute_result"
    }
   ],
   "source": [
    "np.arange(1,10, 2)"
   ]
  },
  {
   "cell_type": "code",
   "execution_count": 37,
   "id": "97dad1a4-1b83-458a-ace4-53e16ec03221",
   "metadata": {},
   "outputs": [
    {
     "data": {
      "text/plain": [
       "array([[0, 0, 0],\n",
       "       [0, 0, 0],\n",
       "       [0, 0, 0]])"
      ]
     },
     "execution_count": 37,
     "metadata": {},
     "output_type": "execute_result"
    }
   ],
   "source": [
    "np.zeros((3,3),dtype=int)"
   ]
  },
  {
   "cell_type": "code",
   "execution_count": 38,
   "id": "a0061876-2333-48ed-bf51-b78a33325c57",
   "metadata": {},
   "outputs": [
    {
     "data": {
      "text/plain": [
       "array([[1, 1, 1],\n",
       "       [1, 1, 1]])"
      ]
     },
     "execution_count": 38,
     "metadata": {},
     "output_type": "execute_result"
    }
   ],
   "source": [
    "np.ones((2,3),dtype=int)"
   ]
  },
  {
   "cell_type": "code",
   "execution_count": 39,
   "id": "76e737bc-e8de-4032-a9d9-c70a0430b952",
   "metadata": {},
   "outputs": [
    {
     "data": {
      "text/plain": [
       "array([[1., 0., 0.],\n",
       "       [0., 1., 0.],\n",
       "       [0., 0., 1.]])"
      ]
     },
     "execution_count": 39,
     "metadata": {},
     "output_type": "execute_result"
    }
   ],
   "source": [
    "np.eye(3,3) "
   ]
  },
  {
   "cell_type": "code",
   "execution_count": 42,
   "id": "bb7b9fd4-12c3-42b5-9774-c7faa5495293",
   "metadata": {},
   "outputs": [
    {
     "data": {
      "text/plain": [
       "array([ 1.        ,  1.47368421,  1.94736842,  2.42105263,  2.89473684,\n",
       "        3.36842105,  3.84210526,  4.31578947,  4.78947368,  5.26315789,\n",
       "        5.73684211,  6.21052632,  6.68421053,  7.15789474,  7.63157895,\n",
       "        8.10526316,  8.57894737,  9.05263158,  9.52631579, 10.        ])"
      ]
     },
     "execution_count": 42,
     "metadata": {},
     "output_type": "execute_result"
    }
   ],
   "source": [
    "np.linspace(1, 10, 20)"
   ]
  },
  {
   "cell_type": "code",
   "execution_count": 43,
   "id": "e9a9df83-6197-4f94-882b-822aef61bafd",
   "metadata": {},
   "outputs": [
    {
     "data": {
      "text/plain": [
       "array([-20.        , -19.44444444, -18.88888889, -18.33333333,\n",
       "       -17.77777778, -17.22222222, -16.66666667, -16.11111111,\n",
       "       -15.55555556, -15.        ])"
      ]
     },
     "execution_count": 43,
     "metadata": {},
     "output_type": "execute_result"
    }
   ],
   "source": [
    "np.linspace(-20,-15,10)"
   ]
  },
  {
   "cell_type": "code",
   "execution_count": 44,
   "id": "b44a8e3c-1137-45ea-9a00-1e3c016131b1",
   "metadata": {},
   "outputs": [
    {
     "data": {
      "text/plain": [
       "array([[1, 2, 3],\n",
       "       [4, 5, 6],\n",
       "       [7, 8, 9]])"
      ]
     },
     "execution_count": 44,
     "metadata": {},
     "output_type": "execute_result"
    }
   ],
   "source": [
    "array_3"
   ]
  },
  {
   "cell_type": "code",
   "execution_count": 45,
   "id": "e3704ea7-9079-4863-9939-79cf614db69c",
   "metadata": {},
   "outputs": [
    {
     "data": {
      "text/plain": [
       "array([[1],\n",
       "       [2],\n",
       "       [3],\n",
       "       [4],\n",
       "       [5],\n",
       "       [6],\n",
       "       [7],\n",
       "       [8],\n",
       "       [9]])"
      ]
     },
     "execution_count": 45,
     "metadata": {},
     "output_type": "execute_result"
    }
   ],
   "source": [
    "array_3.reshape(9,1)"
   ]
  },
  {
   "cell_type": "code",
   "execution_count": 46,
   "id": "19076aa1-db83-4755-88dd-0b089c9a18b0",
   "metadata": {},
   "outputs": [
    {
     "data": {
      "text/plain": [
       "array([[ 1,  2,  3,  4],\n",
       "       [ 4,  5,  6,  7],\n",
       "       [ 7,  8,  9, 10],\n",
       "       [10, 11, 12, 13]])"
      ]
     },
     "execution_count": 46,
     "metadata": {},
     "output_type": "execute_result"
    }
   ],
   "source": [
    "x=[[1,2,3,4],[4,5,6,7],[7,8,9,10],[10,11,12,13]]\n",
    "x=np.array(x)\n",
    "x"
   ]
  },
  {
   "cell_type": "code",
   "execution_count": 47,
   "id": "43cc7fa3-17ac-4501-86bd-caaf40c664a2",
   "metadata": {},
   "outputs": [
    {
     "data": {
      "text/plain": [
       "array([[ 1,  2],\n",
       "       [ 3,  4],\n",
       "       [ 4,  5],\n",
       "       [ 6,  7],\n",
       "       [ 7,  8],\n",
       "       [ 9, 10],\n",
       "       [10, 11],\n",
       "       [12, 13]])"
      ]
     },
     "execution_count": 47,
     "metadata": {},
     "output_type": "execute_result"
    }
   ],
   "source": [
    "x.reshape(8,2)"
   ]
  },
  {
   "cell_type": "code",
   "execution_count": 48,
   "id": "b1205803-730a-4aa8-9453-e1a830ce28da",
   "metadata": {},
   "outputs": [
    {
     "data": {
      "text/plain": [
       "1"
      ]
     },
     "execution_count": 48,
     "metadata": {},
     "output_type": "execute_result"
    }
   ],
   "source": [
    "x.min()"
   ]
  },
  {
   "cell_type": "code",
   "execution_count": 49,
   "id": "1ea44fd7-91d7-4c4b-b167-ffe780f03bd5",
   "metadata": {},
   "outputs": [
    {
     "data": {
      "text/plain": [
       "13"
      ]
     },
     "execution_count": 49,
     "metadata": {},
     "output_type": "execute_result"
    }
   ],
   "source": [
    "x.max()"
   ]
  },
  {
   "cell_type": "code",
   "execution_count": 50,
   "id": "27e9e97a-91a0-4b01-8a9d-491bfdcff39e",
   "metadata": {},
   "outputs": [
    {
     "data": {
      "text/plain": [
       "112"
      ]
     },
     "execution_count": 50,
     "metadata": {},
     "output_type": "execute_result"
    }
   ],
   "source": [
    "x.sum()"
   ]
  },
  {
   "cell_type": "code",
   "execution_count": 52,
   "id": "c94a8a31-de92-4e8a-a8a6-eb02f2b88270",
   "metadata": {},
   "outputs": [
    {
     "data": {
      "text/plain": [
       "7.0"
      ]
     },
     "execution_count": 52,
     "metadata": {},
     "output_type": "execute_result"
    }
   ],
   "source": [
    "x.mean()"
   ]
  },
  {
   "cell_type": "code",
   "execution_count": 54,
   "id": "bda05f60-a751-47ed-b544-f67b5f92ed2b",
   "metadata": {},
   "outputs": [
    {
     "data": {
      "text/plain": [
       "3.5355339059327378"
      ]
     },
     "execution_count": 54,
     "metadata": {},
     "output_type": "execute_result"
    }
   ],
   "source": [
    "x.std()"
   ]
  },
  {
   "cell_type": "code",
   "execution_count": 55,
   "id": "2f77972e-68ae-4eb1-872d-12c7b9ca631d",
   "metadata": {},
   "outputs": [
    {
     "data": {
      "text/plain": [
       "12.5"
      ]
     },
     "execution_count": 55,
     "metadata": {},
     "output_type": "execute_result"
    }
   ],
   "source": [
    "x.var()"
   ]
  },
  {
   "cell_type": "code",
   "execution_count": 56,
   "id": "cdc8ccdc-e77a-4b9c-91d4-7810675d8003",
   "metadata": {},
   "outputs": [
    {
     "data": {
      "text/plain": [
       "array([1, 2, 3, 4])"
      ]
     },
     "execution_count": 56,
     "metadata": {},
     "output_type": "execute_result"
    }
   ],
   "source": [
    "x.min(axis=0)"
   ]
  },
  {
   "cell_type": "code",
   "execution_count": 57,
   "id": "2ceed8d4-36be-45a1-a59d-2d86bd538109",
   "metadata": {},
   "outputs": [
    {
     "data": {
      "text/plain": [
       "array([[ 1,  2,  3,  4],\n",
       "       [ 4,  5,  6,  7],\n",
       "       [ 7,  8,  9, 10],\n",
       "       [10, 11, 12, 13]])"
      ]
     },
     "execution_count": 57,
     "metadata": {},
     "output_type": "execute_result"
    }
   ],
   "source": [
    "x"
   ]
  },
  {
   "cell_type": "code",
   "execution_count": 58,
   "id": "1bced908-2265-4f75-ab32-346ec9c64210",
   "metadata": {},
   "outputs": [
    {
     "data": {
      "text/plain": [
       "array([ 1,  4,  7, 10])"
      ]
     },
     "execution_count": 58,
     "metadata": {},
     "output_type": "execute_result"
    }
   ],
   "source": [
    "x.min(axis=1)"
   ]
  },
  {
   "cell_type": "code",
   "execution_count": 59,
   "id": "d6a1788f-42f6-4e1f-963a-bbba65cc5b62",
   "metadata": {},
   "outputs": [
    {
     "data": {
      "text/plain": [
       "array([[ 1,  2,  3,  4],\n",
       "       [ 4,  5,  6,  7],\n",
       "       [ 7,  8,  9, 10],\n",
       "       [10, 11, 12, 13]])"
      ]
     },
     "execution_count": 59,
     "metadata": {},
     "output_type": "execute_result"
    }
   ],
   "source": [
    "x"
   ]
  },
  {
   "cell_type": "code",
   "execution_count": 60,
   "id": "10c90287-a3a9-4869-adee-52608bf83eda",
   "metadata": {},
   "outputs": [
    {
     "data": {
      "text/plain": [
       "array([ 1,  2,  3,  4,  4,  5,  6,  7,  7,  8,  9, 10, 10, 11, 12, 13])"
      ]
     },
     "execution_count": 60,
     "metadata": {},
     "output_type": "execute_result"
    }
   ],
   "source": [
    "x.flatten()"
   ]
  },
  {
   "cell_type": "code",
   "execution_count": 61,
   "id": "82f9d30d-44b0-42cc-8b78-79236cf1574b",
   "metadata": {},
   "outputs": [
    {
     "data": {
      "text/plain": [
       "array([[ 1,  4,  7, 10],\n",
       "       [ 2,  5,  8, 11],\n",
       "       [ 3,  6,  9, 12],\n",
       "       [ 4,  7, 10, 13]])"
      ]
     },
     "execution_count": 61,
     "metadata": {},
     "output_type": "execute_result"
    }
   ],
   "source": [
    "x.transpose()"
   ]
  },
  {
   "cell_type": "code",
   "execution_count": 69,
   "id": "308241a6-3ead-4657-a3fa-98eb296b43b4",
   "metadata": {},
   "outputs": [
    {
     "name": "stdout",
     "output_type": "stream",
     "text": [
      "[[ 4 10 11]\n",
      " [21 22 23]\n",
      " [31 32 33]]\n"
     ]
    }
   ],
   "source": [
    "A = np.array([ [4, 10, 11], [21, 22, 23], [31, 32, 33] ])\n",
    "B = np.ones((3,3))\n",
    "print(A)"
   ]
  },
  {
   "cell_type": "code",
   "execution_count": 70,
   "id": "5f617c58-82c2-488b-b2ca-00b436438433",
   "metadata": {},
   "outputs": [
    {
     "data": {
      "text/plain": [
       "array([[ 4, 10, 11],\n",
       "       [21, 22, 23],\n",
       "       [31, 32, 33]])"
      ]
     },
     "execution_count": 70,
     "metadata": {},
     "output_type": "execute_result"
    }
   ],
   "source": [
    "A"
   ]
  },
  {
   "cell_type": "code",
   "execution_count": 71,
   "id": "0cbf573a-f57a-4f84-a8ad-9e728c0ae1ef",
   "metadata": {},
   "outputs": [
    {
     "data": {
      "text/plain": [
       "array([[1., 1., 1.],\n",
       "       [1., 1., 1.],\n",
       "       [1., 1., 1.]])"
      ]
     },
     "execution_count": 71,
     "metadata": {},
     "output_type": "execute_result"
    }
   ],
   "source": [
    "B"
   ]
  },
  {
   "cell_type": "code",
   "execution_count": 72,
   "id": "03c711ec-ac8a-4906-8165-654d360b13c9",
   "metadata": {},
   "outputs": [
    {
     "data": {
      "text/plain": [
       "array([[ 5., 11., 12.],\n",
       "       [22., 23., 24.],\n",
       "       [32., 33., 34.]])"
      ]
     },
     "execution_count": 72,
     "metadata": {},
     "output_type": "execute_result"
    }
   ],
   "source": [
    "A+B"
   ]
  },
  {
   "cell_type": "code",
   "execution_count": 73,
   "id": "f8b9ba28-7f88-4b65-845c-e9eb22660038",
   "metadata": {},
   "outputs": [
    {
     "data": {
      "text/plain": [
       "array([[ 3.,  9., 10.],\n",
       "       [20., 21., 22.],\n",
       "       [30., 31., 32.]])"
      ]
     },
     "execution_count": 73,
     "metadata": {},
     "output_type": "execute_result"
    }
   ],
   "source": [
    "A-B"
   ]
  },
  {
   "cell_type": "code",
   "execution_count": 74,
   "id": "bfa6781b-e407-4c10-a20e-933d0192db66",
   "metadata": {},
   "outputs": [
    {
     "data": {
      "text/plain": [
       "array([[ 4., 10., 11.],\n",
       "       [21., 22., 23.],\n",
       "       [31., 32., 33.]])"
      ]
     },
     "execution_count": 74,
     "metadata": {},
     "output_type": "execute_result"
    }
   ],
   "source": [
    "A/B"
   ]
  },
  {
   "cell_type": "code",
   "execution_count": 75,
   "id": "f2f37a94-d095-4d73-a518-b000d332434b",
   "metadata": {},
   "outputs": [
    {
     "data": {
      "text/plain": [
       "array([[ -3.,  -9., -10.],\n",
       "       [-20., -21., -22.],\n",
       "       [-30., -31., -32.]])"
      ]
     },
     "execution_count": 75,
     "metadata": {},
     "output_type": "execute_result"
    }
   ],
   "source": [
    "B-A"
   ]
  },
  {
   "cell_type": "code",
   "execution_count": 76,
   "id": "abf1c0b4-c58d-48b8-8fb0-550e39d5970c",
   "metadata": {},
   "outputs": [
    {
     "data": {
      "text/plain": [
       "array([[ 4., 10., 11.],\n",
       "       [21., 22., 23.],\n",
       "       [31., 32., 33.]])"
      ]
     },
     "execution_count": 76,
     "metadata": {},
     "output_type": "execute_result"
    }
   ],
   "source": [
    "A*B"
   ]
  },
  {
   "cell_type": "code",
   "execution_count": 77,
   "id": "7486de60-8b77-4b1d-bdb5-94028e28f46d",
   "metadata": {},
   "outputs": [
    {
     "data": {
      "text/plain": [
       "array([[1, 1, 2],\n",
       "       [0, 1, 2],\n",
       "       [1, 2, 0]], dtype=int32)"
      ]
     },
     "execution_count": 77,
     "metadata": {},
     "output_type": "execute_result"
    }
   ],
   "source": [
    "A%3"
   ]
  },
  {
   "cell_type": "code",
   "execution_count": 78,
   "id": "13319607-4c7e-4739-8381-f6ac3e517c60",
   "metadata": {},
   "outputs": [
    {
     "data": {
      "text/plain": [
       "array([[25., 25., 25.],\n",
       "       [66., 66., 66.],\n",
       "       [96., 96., 96.]])"
      ]
     },
     "execution_count": 78,
     "metadata": {},
     "output_type": "execute_result"
    }
   ],
   "source": [
    "np.dot(A,B)"
   ]
  },
  {
   "cell_type": "code",
   "execution_count": 79,
   "id": "7332ff1d-d592-42df-a38a-94d748ec7aca",
   "metadata": {},
   "outputs": [
    {
     "data": {
      "text/plain": [
       "array([[ 4, 10, 11],\n",
       "       [21, 22, 23],\n",
       "       [31, 32, 33]])"
      ]
     },
     "execution_count": 79,
     "metadata": {},
     "output_type": "execute_result"
    }
   ],
   "source": [
    "A"
   ]
  },
  {
   "cell_type": "code",
   "execution_count": 80,
   "id": "8a029379-db58-43d9-9af1-11e54386cabf",
   "metadata": {},
   "outputs": [
    {
     "data": {
      "text/plain": [
       "array([[1., 1., 1.],\n",
       "       [1., 1., 1.],\n",
       "       [1., 1., 1.]])"
      ]
     },
     "execution_count": 80,
     "metadata": {},
     "output_type": "execute_result"
    }
   ],
   "source": [
    "B"
   ]
  },
  {
   "cell_type": "code",
   "execution_count": 81,
   "id": "c2122264-88ca-4e67-b25d-9943d40185a4",
   "metadata": {},
   "outputs": [
    {
     "data": {
      "text/plain": [
       "array([[2.        , 3.16227766, 3.31662479],\n",
       "       [4.58257569, 4.69041576, 4.79583152],\n",
       "       [5.56776436, 5.65685425, 5.74456265]])"
      ]
     },
     "execution_count": 81,
     "metadata": {},
     "output_type": "execute_result"
    }
   ],
   "source": [
    "np.sqrt(A)"
   ]
  },
  {
   "cell_type": "code",
   "execution_count": 82,
   "id": "a52ab9ae-4744-4865-84f3-5dc9941e0a5f",
   "metadata": {},
   "outputs": [
    {
     "data": {
      "text/plain": [
       "array([[5.45981500e+01, 2.20264658e+04, 5.98741417e+04],\n",
       "       [1.31881573e+09, 3.58491285e+09, 9.74480345e+09],\n",
       "       [2.90488497e+13, 7.89629602e+13, 2.14643580e+14]])"
      ]
     },
     "execution_count": 82,
     "metadata": {},
     "output_type": "execute_result"
    }
   ],
   "source": [
    "np.exp(A)"
   ]
  },
  {
   "cell_type": "code",
   "execution_count": 83,
   "id": "103156ff-4bf5-4350-a74f-c69fa5be0206",
   "metadata": {},
   "outputs": [
    {
     "data": {
      "text/plain": [
       "array([[1.38629436, 2.30258509, 2.39789527],\n",
       "       [3.04452244, 3.09104245, 3.13549422],\n",
       "       [3.4339872 , 3.4657359 , 3.49650756]])"
      ]
     },
     "execution_count": 83,
     "metadata": {},
     "output_type": "execute_result"
    }
   ],
   "source": [
    "np.log(A)"
   ]
  },
  {
   "cell_type": "code",
   "execution_count": 85,
   "id": "e40eb634-6a11-490c-9284-15541e30aac4",
   "metadata": {},
   "outputs": [],
   "source": [
    "a=np.array([[11.667,23.662],[33.21,45.887]])"
   ]
  },
  {
   "cell_type": "code",
   "execution_count": 86,
   "id": "e06c1c89-1f90-4335-b299-de05db4b546f",
   "metadata": {},
   "outputs": [
    {
     "data": {
      "text/plain": [
       "array([[11.667, 23.662],\n",
       "       [33.21 , 45.887]])"
      ]
     },
     "execution_count": 86,
     "metadata": {},
     "output_type": "execute_result"
    }
   ],
   "source": [
    "a"
   ]
  },
  {
   "cell_type": "code",
   "execution_count": 87,
   "id": "3e48216e-791f-4695-950b-48cab5943b30",
   "metadata": {},
   "outputs": [
    {
     "data": {
      "text/plain": [
       "array([[12., 24.],\n",
       "       [33., 46.]])"
      ]
     },
     "execution_count": 87,
     "metadata": {},
     "output_type": "execute_result"
    }
   ],
   "source": [
    "np.around(a)"
   ]
  },
  {
   "cell_type": "code",
   "execution_count": 88,
   "id": "630c492c-7e48-4458-a193-ae99e376c2e8",
   "metadata": {},
   "outputs": [
    {
     "data": {
      "text/plain": [
       "array([[11.67, 23.66],\n",
       "       [33.21, 45.89]])"
      ]
     },
     "execution_count": 88,
     "metadata": {},
     "output_type": "execute_result"
    }
   ],
   "source": [
    "np.around(a, decimals=2)"
   ]
  },
  {
   "cell_type": "code",
   "execution_count": 89,
   "id": "cd5f2d67-2c67-4b76-8235-1a001664e8ff",
   "metadata": {},
   "outputs": [
    {
     "data": {
      "text/plain": [
       "array([[ 4., 10., 11.],\n",
       "       [21., 22., 23.],\n",
       "       [31., 32., 33.],\n",
       "       [ 1.,  1.,  1.],\n",
       "       [ 1.,  1.,  1.],\n",
       "       [ 1.,  1.,  1.]])"
      ]
     },
     "execution_count": 89,
     "metadata": {},
     "output_type": "execute_result"
    }
   ],
   "source": [
    "np.concatenate([A,B])"
   ]
  },
  {
   "cell_type": "code",
   "execution_count": 90,
   "id": "86c02a9f-7bb3-43df-9725-489e86c4bc1b",
   "metadata": {},
   "outputs": [
    {
     "data": {
      "text/plain": [
       "array([[4, 2, 3],\n",
       "       [2, 2, 3],\n",
       "       [4, 3, 4]])"
      ]
     },
     "execution_count": 90,
     "metadata": {},
     "output_type": "execute_result"
    }
   ],
   "source": [
    "np.random.randint(2,5,(3,3))"
   ]
  },
  {
   "cell_type": "code",
   "execution_count": 91,
   "id": "3301d35e-0aba-4729-b0b4-27acf8ed0d2c",
   "metadata": {},
   "outputs": [
    {
     "data": {
      "text/plain": [
       "array([[0.44503466, 0.25528205, 0.15178325, 0.1907589 ],\n",
       "       [0.89778629, 0.85899406, 0.65016077, 0.50698309],\n",
       "       [0.15103159, 0.60251906, 0.85073776, 0.98028795],\n",
       "       [0.49349914, 0.58870283, 0.89543049, 0.26109557],\n",
       "       [0.78621998, 0.7659007 , 0.56974845, 0.24618355]])"
      ]
     },
     "execution_count": 91,
     "metadata": {},
     "output_type": "execute_result"
    }
   ],
   "source": [
    "np.random.rand(5,4)"
   ]
  },
  {
   "cell_type": "code",
   "execution_count": 92,
   "id": "345b60ac-1aa2-4358-9c89-0d96b7187f83",
   "metadata": {},
   "outputs": [
    {
     "data": {
      "text/plain": [
       "array([[-1.18484906, -1.00655306,  1.548347  ,  0.51806924],\n",
       "       [ 0.80409303,  1.22839439,  1.14051675,  1.44703431],\n",
       "       [ 1.23654372, -1.37469015,  0.52238786, -0.06056945],\n",
       "       [ 1.22074766, -0.33336444, -1.03380499,  0.44915244],\n",
       "       [-1.05393658, -0.9693018 ,  0.30703316, -0.6069578 ]])"
      ]
     },
     "execution_count": 92,
     "metadata": {},
     "output_type": "execute_result"
    }
   ],
   "source": [
    "np.random.randn(5,4)"
   ]
  },
  {
   "cell_type": "code",
   "execution_count": 93,
   "id": "1a7532b5-1bba-40eb-b5bf-978f8deaeb6d",
   "metadata": {},
   "outputs": [
    {
     "data": {
      "text/plain": [
       "nan"
      ]
     },
     "execution_count": 93,
     "metadata": {},
     "output_type": "execute_result"
    }
   ],
   "source": [
    "np.nan"
   ]
  },
  {
   "cell_type": "code",
   "execution_count": null,
   "id": "5ad45ae5-4e51-4b1a-b8db-dc2a56251839",
   "metadata": {},
   "outputs": [],
   "source": []
  }
 ],
 "metadata": {
  "kernelspec": {
   "display_name": "Python 3 (ipykernel)",
   "language": "python",
   "name": "python3"
  },
  "language_info": {
   "codemirror_mode": {
    "name": "ipython",
    "version": 3
   },
   "file_extension": ".py",
   "mimetype": "text/x-python",
   "name": "python",
   "nbconvert_exporter": "python",
   "pygments_lexer": "ipython3",
   "version": "3.11.7"
  }
 },
 "nbformat": 4,
 "nbformat_minor": 5
}
